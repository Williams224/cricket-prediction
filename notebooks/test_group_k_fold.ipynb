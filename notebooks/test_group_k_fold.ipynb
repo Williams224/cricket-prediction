{
 "cells": [
  {
   "cell_type": "code",
   "execution_count": 2,
   "metadata": {},
   "outputs": [],
   "source": [
    "import pandas as pd"
   ]
  },
  {
   "cell_type": "code",
   "execution_count": 27,
   "metadata": {},
   "outputs": [],
   "source": [
    "df = pd.read_parquet(\n",
    "        \"/Users/TimothyW/Fun/cricket_prediction/data/processed_first_innings/first_innings_processed.parquet\"\n",
    "    )\n",
    "df = df[~df.city.isna()]\n"
   ]
  },
  {
   "cell_type": "code",
   "execution_count": 28,
   "metadata": {},
   "outputs": [],
   "source": [
    "from sklearn.model_selection import GroupKFold"
   ]
  },
  {
   "cell_type": "code",
   "execution_count": 29,
   "metadata": {},
   "outputs": [],
   "source": [
    "X = df[['batter','batter_runs']]\n",
    "y = df[['first_innings_total_runs']]"
   ]
  },
  {
   "cell_type": "code",
   "execution_count": 30,
   "metadata": {},
   "outputs": [
    {
     "name": "stdout",
     "output_type": "stream",
     "text": [
      "<class 'pandas.core.frame.DataFrame'>\n",
      "Int64Index: 578558 entries, 0 to 299\n",
      "Data columns (total 61 columns):\n",
      " #   Column                    Non-Null Count   Dtype  \n",
      "---  ------                    --------------   -----  \n",
      " 0   over_n                    578558 non-null  int64  \n",
      " 1   batter                    578558 non-null  object \n",
      " 2   bowler                    578558 non-null  object \n",
      " 3   non_striker               578558 non-null  object \n",
      " 4   batter_runs               578558 non-null  int64  \n",
      " 5   extras_runs               578558 non-null  int64  \n",
      " 6   total_delivery_runs       578558 non-null  int64  \n",
      " 7   wicket_player_out         15689 non-null   object \n",
      " 8   wicket_kind               15689 non-null   object \n",
      " 9   wicket_taken              578558 non-null  bool   \n",
      " 10  over_ball_n               578558 non-null  int64  \n",
      " 11  over_fractional           578558 non-null  float64\n",
      " 12  overall_ball_fraction     578558 non-null  float64\n",
      " 13  batting_team              578558 non-null  object \n",
      " 14  first_innings_total_runs  578558 non-null  int64  \n",
      " 15  current_runs              578558 non-null  int64  \n",
      " 16  current_wickets           578558 non-null  int64  \n",
      " 17  overall_ball_n            578558 non-null  int64  \n",
      " 18  total_balls_bowled        578558 non-null  int64  \n",
      " 19  innings_balls_left        578558 non-null  int64  \n",
      " 20  total_wickets_lost        578558 non-null  int64  \n",
      " 21  batter_current_runs       578558 non-null  int64  \n",
      " 22  data_version              578558 non-null  object \n",
      " 23  date_created              578558 non-null  object \n",
      " 24  revision                  578558 non-null  int64  \n",
      " 25  city                      578558 non-null  object \n",
      " 26  date                      578558 non-null  object \n",
      " 27  match_type                578558 non-null  object \n",
      " 28  toss_winner               578558 non-null  object \n",
      " 29  team_one                  578558 non-null  object \n",
      " 30  team_two                  578558 non-null  object \n",
      " 31  batter_won_toss           578558 non-null  bool   \n",
      " 32  bowling_team              578558 non-null  object \n",
      " 33  year                      578558 non-null  object \n",
      " 34  runs_per_ball             577188 non-null  float64\n",
      " 35  match_id                  578558 non-null  object \n",
      " 36  team_one_player_0         578558 non-null  object \n",
      " 37  team_one_player_1         578558 non-null  object \n",
      " 38  team_one_player_2         578558 non-null  object \n",
      " 39  team_one_player_3         578558 non-null  object \n",
      " 40  team_one_player_4         578558 non-null  object \n",
      " 41  team_one_player_5         578558 non-null  object \n",
      " 42  team_one_player_6         578558 non-null  object \n",
      " 43  team_one_player_7         578558 non-null  object \n",
      " 44  team_one_player_8         578558 non-null  object \n",
      " 45  team_one_player_9         578558 non-null  object \n",
      " 46  team_one_player_10        578558 non-null  object \n",
      " 47  team_two_player_0         578558 non-null  object \n",
      " 48  team_two_player_1         578558 non-null  object \n",
      " 49  team_two_player_2         578558 non-null  object \n",
      " 50  team_two_player_3         578558 non-null  object \n",
      " 51  team_two_player_4         578558 non-null  object \n",
      " 52  team_two_player_5         578558 non-null  object \n",
      " 53  team_two_player_6         578558 non-null  object \n",
      " 54  team_two_player_7         578558 non-null  object \n",
      " 55  team_two_player_8         578558 non-null  object \n",
      " 56  team_two_player_9         578558 non-null  object \n",
      " 57  team_two_player_10        578558 non-null  object \n",
      " 58  team_one_player_11        10734 non-null   object \n",
      " 59  team_two_player_11        10914 non-null   object \n",
      " 60  batting_team_balls_faced  578558 non-null  int64  \n",
      "dtypes: bool(2), float64(3), int64(15), object(41)\n",
      "memory usage: 265.9+ MB\n"
     ]
    }
   ],
   "source": [
    "df.info()"
   ]
  },
  {
   "cell_type": "code",
   "execution_count": 31,
   "metadata": {},
   "outputs": [],
   "source": [
    "gkf = GroupKFold(5)"
   ]
  },
  {
   "cell_type": "code",
   "execution_count": null,
   "metadata": {},
   "outputs": [],
   "source": []
  },
  {
   "cell_type": "code",
   "execution_count": 32,
   "metadata": {},
   "outputs": [
    {
     "name": "stdout",
     "output_type": "stream",
     "text": [
      "[   303    304    305 ... 578555 578556 578557] [     0      1      2 ... 577944 577945 577946]\n",
      "[     0      1      2 ... 578255 578256 578257] [   597    598    599 ... 578555 578556 578557]\n",
      "[     0      1      2 ... 578555 578556 578557] [   303    304    305 ... 576242 576243 576244]\n",
      "[     0      1      2 ... 578555 578556 578557] [  1155   1156   1157 ... 577334 577335 577336]\n",
      "[     0      1      2 ... 578555 578556 578557] [   851    852    853 ... 578255 578256 578257]\n"
     ]
    }
   ],
   "source": [
    "for train_index, test_index in gkf.split(X,y, df['match_id']):\n",
    "    print(train_index, test_index)"
   ]
  },
  {
   "cell_type": "code",
   "execution_count": null,
   "metadata": {},
   "outputs": [],
   "source": []
  }
 ],
 "metadata": {
  "kernelspec": {
   "display_name": "Python 3.10.4 ('cricket_prediction')",
   "language": "python",
   "name": "python3"
  },
  "language_info": {
   "codemirror_mode": {
    "name": "ipython",
    "version": 3
   },
   "file_extension": ".py",
   "mimetype": "text/x-python",
   "name": "python",
   "nbconvert_exporter": "python",
   "pygments_lexer": "ipython3",
   "version": "3.10.4"
  },
  "orig_nbformat": 4,
  "vscode": {
   "interpreter": {
    "hash": "dd2d96b16194838a41fb924c13cc2cd75d7e36b7c90ee4648a381dc22b1d4907"
   }
  }
 },
 "nbformat": 4,
 "nbformat_minor": 2
}
