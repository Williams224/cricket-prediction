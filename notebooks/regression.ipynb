{
 "cells": [
  {
   "cell_type": "code",
   "execution_count": 2,
   "metadata": {},
   "outputs": [],
   "source": [
    "import pandas as pd"
   ]
  },
  {
   "cell_type": "code",
   "execution_count": 3,
   "metadata": {},
   "outputs": [],
   "source": [
    "df = pd.read_parquet('/Users/TimothyW/Fun/cricket_prediction/data/processed_first_innings/first_innings_processed.parquet')"
   ]
  },
  {
   "cell_type": "code",
   "execution_count": 4,
   "metadata": {},
   "outputs": [],
   "source": [
    "from sklearn.model_selection import GroupShuffleSplit\n",
    "from sklearn.model_selection import LeaveOneGroupOut\n"
   ]
  },
  {
   "cell_type": "code",
   "execution_count": 5,
   "metadata": {},
   "outputs": [],
   "source": [
    "splitter = GroupShuffleSplit(\n",
    "     test_size=0.5, n_splits=2, random_state=69\n",
    "     )"
   ]
  },
  {
   "cell_type": "code",
   "execution_count": 6,
   "metadata": {},
   "outputs": [],
   "source": [
    "split = splitter.split(df, groups = df['match_id'])"
   ]
  },
  {
   "cell_type": "code",
   "execution_count": 7,
   "metadata": {},
   "outputs": [
    {
     "data": {
      "text/plain": [
       "<matplotlib.collections.PathCollection at 0x7f9ed1a28ee0>"
      ]
     },
     "execution_count": 7,
     "metadata": {},
     "output_type": "execute_result"
    },
    {
     "data": {
      "image/png": "[encoded data removed]",
      "text/plain": [
       "<Figure size 432x288 with 1 Axes>"
      ]
     },
     "metadata": {
      "needs_background": "light"
     },
     "output_type": "display_data"
    }
   ],
   "source": [
    "import matplotlib.pyplot as plt\n",
    "import numpy as np\n",
    "plt.scatter(df['first_innings_total_runs'], np.arange(0,(len(df))))"
   ]
  },
  {
   "cell_type": "code",
   "execution_count": 8,
   "metadata": {},
   "outputs": [
    {
     "name": "stdout",
     "output_type": "stream",
     "text": [
      "<class 'pandas.core.frame.DataFrame'>\n",
      "Int64Index: 675146 entries, 0 to 299\n",
      "Data columns (total 61 columns):\n",
      " #   Column                    Non-Null Count   Dtype  \n",
      "---  ------                    --------------   -----  \n",
      " 0   over_n                    675146 non-null  int64  \n",
      " 1   batter                    675146 non-null  object \n",
      " 2   bowler                    675146 non-null  object \n",
      " 3   non_striker               675146 non-null  object \n",
      " 4   batter_runs               675146 non-null  int64  \n",
      " 5   extras_runs               675146 non-null  int64  \n",
      " 6   total_delivery_runs       675146 non-null  int64  \n",
      " 7   wicket_player_out         18416 non-null   object \n",
      " 8   wicket_kind               18416 non-null   object \n",
      " 9   wicket_taken              675146 non-null  bool   \n",
      " 10  over_ball_n               675146 non-null  int64  \n",
      " 11  over_fractional           675146 non-null  float64\n",
      " 12  overall_ball_fraction     675146 non-null  float64\n",
      " 13  batting_team              675146 non-null  object \n",
      " 14  first_innings_total_runs  675146 non-null  int64  \n",
      " 15  current_runs              675146 non-null  int64  \n",
      " 16  current_wickets           675146 non-null  int64  \n",
      " 17  overall_ball_n            675146 non-null  int64  \n",
      " 18  total_balls_bowled        675146 non-null  int64  \n",
      " 19  innings_balls_left        675146 non-null  int64  \n",
      " 20  total_wickets_lost        675146 non-null  int64  \n",
      " 21  batter_current_runs       675146 non-null  int64  \n",
      " 22  data_version              675146 non-null  object \n",
      " 23  date_created              675146 non-null  object \n",
      " 24  revision                  675146 non-null  int64  \n",
      " 25  city                      578558 non-null  object \n",
      " 26  date                      675146 non-null  object \n",
      " 27  match_type                675146 non-null  object \n",
      " 28  toss_winner               675146 non-null  object \n",
      " 29  team_one                  675146 non-null  object \n",
      " 30  team_two                  675146 non-null  object \n",
      " 31  batter_won_toss           675146 non-null  bool   \n",
      " 32  bowling_team              675146 non-null  object \n",
      " 33  year                      675146 non-null  object \n",
      " 34  runs_per_ball             673551 non-null  float64\n",
      " 35  match_id                  578558 non-null  object \n",
      " 36  team_one_player_0         675146 non-null  object \n",
      " 37  team_one_player_1         675146 non-null  object \n",
      " 38  team_one_player_2         675146 non-null  object \n",
      " 39  team_one_player_3         675146 non-null  object \n",
      " 40  team_one_player_4         675146 non-null  object \n",
      " 41  team_one_player_5         675146 non-null  object \n",
      " 42  team_one_player_6         675146 non-null  object \n",
      " 43  team_one_player_7         675146 non-null  object \n",
      " 44  team_one_player_8         675146 non-null  object \n",
      " 45  team_one_player_9         675146 non-null  object \n",
      " 46  team_one_player_10        675146 non-null  object \n",
      " 47  team_two_player_0         675146 non-null  object \n",
      " 48  team_two_player_1         675146 non-null  object \n",
      " 49  team_two_player_2         675146 non-null  object \n",
      " 50  team_two_player_3         675146 non-null  object \n",
      " 51  team_two_player_4         675146 non-null  object \n",
      " 52  team_two_player_5         675146 non-null  object \n",
      " 53  team_two_player_6         675146 non-null  object \n",
      " 54  team_two_player_7         675146 non-null  object \n",
      " 55  team_two_player_8         675146 non-null  object \n",
      " 56  team_two_player_9         675146 non-null  object \n",
      " 57  team_two_player_10        675146 non-null  object \n",
      " 58  team_one_player_11        14413 non-null   object \n",
      " 59  team_two_player_11        15178 non-null   object \n",
      " 60  batting_team_balls_faced  675146 non-null  int64  \n",
      "dtypes: bool(2), float64(3), int64(15), object(41)\n",
      "memory usage: 310.3+ MB\n"
     ]
    }
   ],
   "source": [
    "df.info()"
   ]
  },
  {
   "cell_type": "code",
   "execution_count": 9,
   "metadata": {},
   "outputs": [],
   "source": [
    "df = df[~((df.total_balls_bowled < 300) & (df.total_wickets_lost < 10))]\n"
   ]
  },
  {
   "cell_type": "code",
   "execution_count": 10,
   "metadata": {},
   "outputs": [
    {
     "name": "stderr",
     "output_type": "stream",
     "text": [
      "/var/folders/v3/nvp5qny9761b98yy3p9n041h0000gq/T/ipykernel_51677/3378463659.py:1: SettingWithCopyWarning: \n",
      "A value is trying to be set on a copy of a slice from a DataFrame.\n",
      "Try using .loc[row_indexer,col_indexer] = value instead\n",
      "\n",
      "See the caveats in the documentation: https://pandas.pydata.org/pandas-docs/stable/user_guide/indexing.html#returning-a-view-versus-a-copy\n",
      "  df['batting_team_balls_faced'] = df.groupby('batting_team')['batter'].transform('count')\n"
     ]
    }
   ],
   "source": [
    "df['batting_team_balls_faced'] = df.groupby('batting_team')['batter'].transform('count')"
   ]
  },
  {
   "cell_type": "code",
   "execution_count": 11,
   "metadata": {},
   "outputs": [
    {
     "name": "stderr",
     "output_type": "stream",
     "text": [
      "/var/folders/v3/nvp5qny9761b98yy3p9n041h0000gq/T/ipykernel_51677/2971786830.py:1: SettingWithCopyWarning: \n",
      "A value is trying to be set on a copy of a slice from a DataFrame.\n",
      "Try using .loc[row_indexer,col_indexer] = value instead\n",
      "\n",
      "See the caveats in the documentation: https://pandas.pydata.org/pandas-docs/stable/user_guide/indexing.html#returning-a-view-versus-a-copy\n",
      "  df['batter_won_toss'] = (df['batting_team'] == df['toss_winner'])\n"
     ]
    }
   ],
   "source": [
    "df['batter_won_toss'] = (df['batting_team'] == df['toss_winner'])"
   ]
  },
  {
   "cell_type": "code",
   "execution_count": 12,
   "metadata": {},
   "outputs": [],
   "source": [
    "def determine_bowl_team(row):\n",
    "    if row['batting_team'] == row['team_one']:\n",
    "        return row['team_two']\n",
    "    return row['team_one']"
   ]
  },
  {
   "cell_type": "code",
   "execution_count": 13,
   "metadata": {},
   "outputs": [
    {
     "name": "stderr",
     "output_type": "stream",
     "text": [
      "/var/folders/v3/nvp5qny9761b98yy3p9n041h0000gq/T/ipykernel_51677/3808377128.py:1: SettingWithCopyWarning: \n",
      "A value is trying to be set on a copy of a slice from a DataFrame.\n",
      "Try using .loc[row_indexer,col_indexer] = value instead\n",
      "\n",
      "See the caveats in the documentation: https://pandas.pydata.org/pandas-docs/stable/user_guide/indexing.html#returning-a-view-versus-a-copy\n",
      "  df['bowling_team'] = df.apply(determine_bowl_team, axis=1)\n"
     ]
    }
   ],
   "source": [
    "df['bowling_team'] = df.apply(determine_bowl_team, axis=1)"
   ]
  },
  {
   "cell_type": "code",
   "execution_count": 14,
   "metadata": {},
   "outputs": [
    {
     "name": "stderr",
     "output_type": "stream",
     "text": [
      "/var/folders/v3/nvp5qny9761b98yy3p9n041h0000gq/T/ipykernel_51677/155635252.py:1: SettingWithCopyWarning: \n",
      "A value is trying to be set on a copy of a slice from a DataFrame.\n",
      "Try using .loc[row_indexer,col_indexer] = value instead\n",
      "\n",
      "See the caveats in the documentation: https://pandas.pydata.org/pandas-docs/stable/user_guide/indexing.html#returning-a-view-versus-a-copy\n",
      "  df['year'] = df['date'].str[0:4]\n"
     ]
    }
   ],
   "source": [
    "df['year'] = df['date'].str[0:4]"
   ]
  },
  {
   "cell_type": "code",
   "execution_count": 15,
   "metadata": {},
   "outputs": [
    {
     "name": "stderr",
     "output_type": "stream",
     "text": [
      "/var/folders/v3/nvp5qny9761b98yy3p9n041h0000gq/T/ipykernel_51677/2705827292.py:1: SettingWithCopyWarning: \n",
      "A value is trying to be set on a copy of a slice from a DataFrame.\n",
      "Try using .loc[row_indexer,col_indexer] = value instead\n",
      "\n",
      "See the caveats in the documentation: https://pandas.pydata.org/pandas-docs/stable/user_guide/indexing.html#returning-a-view-versus-a-copy\n",
      "  df['match_id'] = df['city'] + df['batting_team'] + df['bowling_team'] + df['date']\n"
     ]
    }
   ],
   "source": [
    "df['match_id'] = df['city'] + df['batting_team'] + df['bowling_team'] + df['date']"
   ]
  },
  {
   "cell_type": "code",
   "execution_count": 16,
   "metadata": {},
   "outputs": [
    {
     "data": {
      "text/plain": [
       "DublinPakistanIreland2013-07-17                    326\n",
       "LondonSri LankaEngland2006-06-17                   326\n",
       "ChandigarhIndiaPakistan2007-11-08                  324\n",
       "PeshawarIndiaPakistan2004-03-19                    323\n",
       "PerthNew ZealandEngland2007-01-30                  323\n",
       "                                                  ... \n",
       "PotchefstroomSouth AfricaPakistan2019-05-06        142\n",
       "ChittagongWest IndiesBangladesh2011-10-18          134\n",
       "NottinghamPakistanWest Indies2019-05-31            134\n",
       "MirpurBangladeshWest Indies2011-03-04              115\n",
       "KirtipurUnited States of AmericaNepal2020-02-12     73\n",
       "Name: match_id, Length: 1859, dtype: int64"
      ]
     },
     "execution_count": 16,
     "metadata": {},
     "output_type": "execute_result"
    }
   ],
   "source": [
    "df['match_id'].value_counts()"
   ]
  },
  {
   "cell_type": "code",
   "execution_count": 17,
   "metadata": {},
   "outputs": [
    {
     "name": "stdout",
     "output_type": "stream",
     "text": [
      "<class 'pandas.core.frame.DataFrame'>\n",
      "Int64Index: 644606 entries, 0 to 299\n",
      "Data columns (total 61 columns):\n",
      " #   Column                    Non-Null Count   Dtype  \n",
      "---  ------                    --------------   -----  \n",
      " 0   over_n                    644606 non-null  int64  \n",
      " 1   batter                    644606 non-null  object \n",
      " 2   bowler                    644606 non-null  object \n",
      " 3   non_striker               644606 non-null  object \n",
      " 4   batter_runs               644606 non-null  int64  \n",
      " 5   extras_runs               644606 non-null  int64  \n",
      " 6   total_delivery_runs       644606 non-null  int64  \n",
      " 7   wicket_player_out         17550 non-null   object \n",
      " 8   wicket_kind               17550 non-null   object \n",
      " 9   wicket_taken              644606 non-null  bool   \n",
      " 10  over_ball_n               644606 non-null  int64  \n",
      " 11  over_fractional           644606 non-null  float64\n",
      " 12  overall_ball_fraction     644606 non-null  float64\n",
      " 13  batting_team              644606 non-null  object \n",
      " 14  first_innings_total_runs  644606 non-null  int64  \n",
      " 15  current_runs              644606 non-null  int64  \n",
      " 16  current_wickets           644606 non-null  int64  \n",
      " 17  overall_ball_n            644606 non-null  int64  \n",
      " 18  total_balls_bowled        644606 non-null  int64  \n",
      " 19  innings_balls_left        644606 non-null  int64  \n",
      " 20  total_wickets_lost        644606 non-null  int64  \n",
      " 21  batter_current_runs       644606 non-null  int64  \n",
      " 22  data_version              644606 non-null  object \n",
      " 23  date_created              644606 non-null  object \n",
      " 24  revision                  644606 non-null  int64  \n",
      " 25  city                      552081 non-null  object \n",
      " 26  date                      644606 non-null  object \n",
      " 27  match_type                644606 non-null  object \n",
      " 28  toss_winner               644606 non-null  object \n",
      " 29  team_one                  644606 non-null  object \n",
      " 30  team_two                  644606 non-null  object \n",
      " 31  batter_won_toss           644606 non-null  bool   \n",
      " 32  bowling_team              644606 non-null  object \n",
      " 33  year                      644606 non-null  object \n",
      " 34  runs_per_ball             643117 non-null  float64\n",
      " 35  match_id                  552081 non-null  object \n",
      " 36  team_one_player_0         644606 non-null  object \n",
      " 37  team_one_player_1         644606 non-null  object \n",
      " 38  team_one_player_2         644606 non-null  object \n",
      " 39  team_one_player_3         644606 non-null  object \n",
      " 40  team_one_player_4         644606 non-null  object \n",
      " 41  team_one_player_5         644606 non-null  object \n",
      " 42  team_one_player_6         644606 non-null  object \n",
      " 43  team_one_player_7         644606 non-null  object \n",
      " 44  team_one_player_8         644606 non-null  object \n",
      " 45  team_one_player_9         644606 non-null  object \n",
      " 46  team_one_player_10        644606 non-null  object \n",
      " 47  team_two_player_0         644606 non-null  object \n",
      " 48  team_two_player_1         644606 non-null  object \n",
      " 49  team_two_player_2         644606 non-null  object \n",
      " 50  team_two_player_3         644606 non-null  object \n",
      " 51  team_two_player_4         644606 non-null  object \n",
      " 52  team_two_player_5         644606 non-null  object \n",
      " 53  team_two_player_6         644606 non-null  object \n",
      " 54  team_two_player_7         644606 non-null  object \n",
      " 55  team_two_player_8         644606 non-null  object \n",
      " 56  team_two_player_9         644606 non-null  object \n",
      " 57  team_two_player_10        644606 non-null  object \n",
      " 58  team_one_player_11        14413 non-null   object \n",
      " 59  team_two_player_11        15178 non-null   object \n",
      " 60  batting_team_balls_faced  644606 non-null  int64  \n",
      "dtypes: bool(2), float64(3), int64(15), object(41)\n",
      "memory usage: 296.3+ MB\n"
     ]
    }
   ],
   "source": [
    "df.info(verbose=True)"
   ]
  },
  {
   "cell_type": "code",
   "execution_count": 18,
   "metadata": {},
   "outputs": [
    {
     "data": {
      "text/plain": [
       "<AxesSubplot:xlabel='current_wickets', ylabel='first_innings_total_runs'>"
      ]
     },
     "execution_count": 18,
     "metadata": {},
     "output_type": "execute_result"
    },
    {
     "data": {
      "image/png": "[encoded data removed]",
      "text/plain": [
       "<Figure size 432x288 with 1 Axes>"
      ]
     },
     "metadata": {
      "needs_background": "light"
     },
     "output_type": "display_data"
    }
   ],
   "source": [
    "df[df.over_n == 10].plot.scatter('current_wickets', 'first_innings_total_runs')"
   ]
  },
  {
   "cell_type": "code",
   "execution_count": 19,
   "metadata": {},
   "outputs": [],
   "source": [
    "from sklearn.model_selection import train_test_split, GroupShuffleSplit"
   ]
  },
  {
   "cell_type": "code",
   "execution_count": 20,
   "metadata": {},
   "outputs": [],
   "source": [
    "df = df[~df.city.isna()]"
   ]
  },
  {
   "cell_type": "code",
   "execution_count": 21,
   "metadata": {},
   "outputs": [],
   "source": [
    "features = [\"current_runs\", \"current_wickets\", \"overall_ball_n\"]\n",
    "target = [\"first_innings_total_runs\"]"
   ]
  },
  {
   "cell_type": "code",
   "execution_count": 22,
   "metadata": {},
   "outputs": [],
   "source": [
    "splitter = GroupShuffleSplit(test_size=.20, n_splits=2, random_state = 7)\n",
    "split = splitter.split(df, groups=df['match_id'])\n",
    "train_inds, test_inds = next(split)"
   ]
  },
  {
   "cell_type": "code",
   "execution_count": 23,
   "metadata": {},
   "outputs": [],
   "source": [
    "train = df.iloc[train_inds]\n",
    "test = df.iloc[test_inds]\n",
    "X_train = train[features]\n",
    "X_test = test[features]\n",
    "y_train = train[target]\n",
    "y_test = test[target]\n"
   ]
  },
  {
   "cell_type": "code",
   "execution_count": null,
   "metadata": {},
   "outputs": [],
   "source": []
  },
  {
   "cell_type": "code",
   "execution_count": 24,
   "metadata": {},
   "outputs": [],
   "source": [
    "#X_train, X_test, y_train, y_test = train_test_split(df[features], df[target], test_size=0.2, random_state=42)"
   ]
  },
  {
   "cell_type": "code",
   "execution_count": 25,
   "metadata": {},
   "outputs": [],
   "source": [
    "from catboost import CatBoostRegressor"
   ]
  },
  {
   "cell_type": "code",
   "execution_count": 26,
   "metadata": {},
   "outputs": [],
   "source": [
    "clf = CatBoostRegressor(learning_rate=0.03, iterations=3000, eval_metric='RMSE')"
   ]
  },
  {
   "cell_type": "code",
   "execution_count": 27,
   "metadata": {},
   "outputs": [
    {
     "name": "stdout",
     "output_type": "stream",
     "text": [
      "0:\tlearn: 61.7888563\ttest: 65.2890721\tbest: 65.2890721 (0)\ttotal: 77.7ms\tremaining: 3m 52s\n",
      "1:\tlearn: 61.0618864\ttest: 64.5284810\tbest: 64.5284810 (1)\ttotal: 95.4ms\tremaining: 2m 22s\n",
      "2:\tlearn: 60.3760760\ttest: 63.8144486\tbest: 63.8144486 (2)\ttotal: 111ms\tremaining: 1m 51s\n",
      "3:\tlearn: 59.7291055\ttest: 63.1425959\tbest: 63.1425959 (3)\ttotal: 126ms\tremaining: 1m 34s\n",
      "4:\tlearn: 59.1119094\ttest: 62.4935359\tbest: 62.4935359 (4)\ttotal: 140ms\tremaining: 1m 23s\n",
      "5:\tlearn: 58.5090107\ttest: 61.8617971\tbest: 61.8617971 (5)\ttotal: 154ms\tremaining: 1m 16s\n",
      "6:\tlearn: 57.9112431\ttest: 61.2358919\tbest: 61.2358919 (6)\ttotal: 168ms\tremaining: 1m 11s\n",
      "7:\tlearn: 57.3608882\ttest: 60.6532500\tbest: 60.6532500 (7)\ttotal: 182ms\tremaining: 1m 8s\n",
      "8:\tlearn: 56.8063451\ttest: 60.0773647\tbest: 60.0773647 (8)\ttotal: 198ms\tremaining: 1m 5s\n",
      "9:\tlearn: 56.2867903\ttest: 59.5354817\tbest: 59.5354817 (9)\ttotal: 214ms\tremaining: 1m 3s\n",
      "10:\tlearn: 55.7745702\ttest: 59.0015361\tbest: 59.0015361 (10)\ttotal: 229ms\tremaining: 1m 2s\n",
      "11:\tlearn: 55.2943386\ttest: 58.4831922\tbest: 58.4831922 (11)\ttotal: 243ms\tremaining: 1m\n",
      "12:\tlearn: 54.8404505\ttest: 58.0000989\tbest: 58.0000989 (12)\ttotal: 256ms\tremaining: 58.9s\n",
      "13:\tlearn: 54.3886336\ttest: 57.5298070\tbest: 57.5298070 (13)\ttotal: 269ms\tremaining: 57.4s\n",
      "14:\tlearn: 53.9523714\ttest: 57.0681430\tbest: 57.0681430 (14)\ttotal: 284ms\tremaining: 56.6s\n",
      "15:\tlearn: 53.5396906\ttest: 56.6342549\tbest: 56.6342549 (15)\ttotal: 301ms\tremaining: 56.2s\n",
      "16:\tlearn: 53.1497824\ttest: 56.2222092\tbest: 56.2222092 (16)\ttotal: 319ms\tremaining: 56s\n",
      "17:\tlearn: 52.7717486\ttest: 55.8096168\tbest: 55.8096168 (17)\ttotal: 340ms\tremaining: 56.3s\n",
      "18:\tlearn: 52.4052489\ttest: 55.4201856\tbest: 55.4201856 (18)\ttotal: 356ms\tremaining: 55.9s\n",
      "19:\tlearn: 52.0785886\ttest: 55.0667145\tbest: 55.0667145 (19)\ttotal: 377ms\tremaining: 56.1s\n",
      "20:\tlearn: 51.7505922\ttest: 54.7214570\tbest: 54.7214570 (20)\ttotal: 396ms\tremaining: 56.1s\n",
      "21:\tlearn: 51.4374515\ttest: 54.3770923\tbest: 54.3770923 (21)\ttotal: 412ms\tremaining: 55.8s\n",
      "22:\tlearn: 51.1262195\ttest: 54.0431020\tbest: 54.0431020 (22)\ttotal: 431ms\tremaining: 55.8s\n",
      "23:\tlearn: 50.8375606\ttest: 53.7225057\tbest: 53.7225057 (23)\ttotal: 446ms\tremaining: 55.3s\n",
      "24:\tlearn: 50.5654024\ttest: 53.4283413\tbest: 53.4283413 (24)\ttotal: 460ms\tremaining: 54.7s\n",
      "25:\tlearn: 50.2828959\ttest: 53.1156090\tbest: 53.1156090 (25)\ttotal: 474ms\tremaining: 54.2s\n",
      "26:\tlearn: 50.0218866\ttest: 52.8350936\tbest: 52.8350936 (26)\ttotal: 488ms\tremaining: 53.7s\n",
      "27:\tlearn: 49.7717976\ttest: 52.5569933\tbest: 52.5569933 (27)\ttotal: 502ms\tremaining: 53.3s\n",
      "28:\tlearn: 49.5287884\ttest: 52.2955288\tbest: 52.2955288 (28)\ttotal: 517ms\tremaining: 53s\n",
      "29:\tlearn: 49.3038214\ttest: 52.0606612\tbest: 52.0606612 (29)\ttotal: 538ms\tremaining: 53.2s\n",
      "30:\tlearn: 49.0834994\ttest: 51.8225534\tbest: 51.8225534 (30)\ttotal: 561ms\tremaining: 53.7s\n",
      "31:\tlearn: 48.8653512\ttest: 51.5764535\tbest: 51.5764535 (31)\ttotal: 579ms\tremaining: 53.7s\n",
      "32:\tlearn: 48.6669286\ttest: 51.3638001\tbest: 51.3638001 (32)\ttotal: 601ms\tremaining: 54s\n",
      "33:\tlearn: 48.4710069\ttest: 51.1384380\tbest: 51.1384380 (33)\ttotal: 616ms\tremaining: 53.7s\n",
      "34:\tlearn: 48.2764547\ttest: 50.9334581\tbest: 50.9334581 (34)\ttotal: 629ms\tremaining: 53.3s\n",
      "35:\tlearn: 48.1011841\ttest: 50.7449913\tbest: 50.7449913 (35)\ttotal: 644ms\tremaining: 53s\n",
      "36:\tlearn: 47.9259386\ttest: 50.5486523\tbest: 50.5486523 (36)\ttotal: 657ms\tremaining: 52.6s\n",
      "37:\tlearn: 47.7557543\ttest: 50.3688510\tbest: 50.3688510 (37)\ttotal: 671ms\tremaining: 52.3s\n",
      "38:\tlearn: 47.5882483\ttest: 50.1762074\tbest: 50.1762074 (38)\ttotal: 685ms\tremaining: 52s\n",
      "39:\tlearn: 47.4247524\ttest: 49.9988683\tbest: 49.9988683 (39)\ttotal: 699ms\tremaining: 51.7s\n",
      "40:\tlearn: 47.2718770\ttest: 49.8337881\tbest: 49.8337881 (40)\ttotal: 715ms\tremaining: 51.6s\n",
      "41:\tlearn: 47.1230230\ttest: 49.6669123\tbest: 49.6669123 (41)\ttotal: 735ms\tremaining: 51.8s\n",
      "42:\tlearn: 46.9760111\ttest: 49.4996461\tbest: 49.4996461 (42)\ttotal: 753ms\tremaining: 51.8s\n",
      "43:\tlearn: 46.8390726\ttest: 49.3554749\tbest: 49.3554749 (43)\ttotal: 774ms\tremaining: 52s\n",
      "44:\tlearn: 46.7009690\ttest: 49.2092278\tbest: 49.2092278 (44)\ttotal: 795ms\tremaining: 52.2s\n",
      "45:\tlearn: 46.5736535\ttest: 49.0770564\tbest: 49.0770564 (45)\ttotal: 812ms\tremaining: 52.2s\n",
      "46:\tlearn: 46.4499698\ttest: 48.9454115\tbest: 48.9454115 (46)\ttotal: 829ms\tremaining: 52.1s\n",
      "47:\tlearn: 46.3356799\ttest: 48.8186170\tbest: 48.8186170 (47)\ttotal: 842ms\tremaining: 51.8s\n",
      "48:\tlearn: 46.2177104\ttest: 48.6766641\tbest: 48.6766641 (48)\ttotal: 855ms\tremaining: 51.5s\n",
      "49:\tlearn: 46.0998169\ttest: 48.5416746\tbest: 48.5416746 (49)\ttotal: 868ms\tremaining: 51.2s\n",
      "50:\tlearn: 45.9860045\ttest: 48.4235148\tbest: 48.4235148 (50)\ttotal: 882ms\tremaining: 51s\n",
      "51:\tlearn: 45.8768807\ttest: 48.3002973\tbest: 48.3002973 (51)\ttotal: 895ms\tremaining: 50.7s\n",
      "52:\tlearn: 45.7721081\ttest: 48.1825421\tbest: 48.1825421 (52)\ttotal: 909ms\tremaining: 50.5s\n",
      "53:\tlearn: 45.6659631\ttest: 48.0666805\tbest: 48.0666805 (53)\ttotal: 922ms\tremaining: 50.3s\n",
      "54:\tlearn: 45.5731357\ttest: 47.9660184\tbest: 47.9660184 (54)\ttotal: 937ms\tremaining: 50.2s\n",
      "55:\tlearn: 45.4769784\ttest: 47.8637067\tbest: 47.8637067 (55)\ttotal: 956ms\tremaining: 50.3s\n",
      "56:\tlearn: 45.3793862\ttest: 47.7587862\tbest: 47.7587862 (56)\ttotal: 972ms\tremaining: 50.2s\n",
      "57:\tlearn: 45.2853039\ttest: 47.6597587\tbest: 47.6597587 (57)\ttotal: 990ms\tremaining: 50.2s\n",
      "58:\tlearn: 45.1956798\ttest: 47.5531262\tbest: 47.5531262 (58)\ttotal: 1s\tremaining: 50.1s\n",
      "59:\tlearn: 45.1062378\ttest: 47.4578974\tbest: 47.4578974 (59)\ttotal: 1.02s\tremaining: 50s\n",
      "60:\tlearn: 45.0179567\ttest: 47.3667304\tbest: 47.3667304 (60)\ttotal: 1.03s\tremaining: 49.9s\n",
      "61:\tlearn: 44.9342879\ttest: 47.2759753\tbest: 47.2759753 (61)\ttotal: 1.05s\tremaining: 49.7s\n",
      "62:\tlearn: 44.8513126\ttest: 47.1853310\tbest: 47.1853310 (62)\ttotal: 1.06s\tremaining: 49.6s\n",
      "63:\tlearn: 44.7746833\ttest: 47.1024584\tbest: 47.1024584 (63)\ttotal: 1.08s\tremaining: 49.5s\n",
      "64:\tlearn: 44.6999663\ttest: 47.0214043\tbest: 47.0214043 (64)\ttotal: 1.09s\tremaining: 49.3s\n",
      "65:\tlearn: 44.6234989\ttest: 46.9275067\tbest: 46.9275067 (65)\ttotal: 1.1s\tremaining: 49.1s\n",
      "66:\tlearn: 44.5548751\ttest: 46.8544956\tbest: 46.8544956 (66)\ttotal: 1.12s\tremaining: 48.9s\n",
      "67:\tlearn: 44.4843607\ttest: 46.7650327\tbest: 46.7650327 (67)\ttotal: 1.13s\tremaining: 48.8s\n",
      "68:\tlearn: 44.4143260\ttest: 46.6928767\tbest: 46.6928767 (68)\ttotal: 1.15s\tremaining: 48.9s\n",
      "69:\tlearn: 44.3448311\ttest: 46.6112513\tbest: 46.6112513 (69)\ttotal: 1.17s\tremaining: 49s\n",
      "70:\tlearn: 44.2791592\ttest: 46.5311364\tbest: 46.5311364 (70)\ttotal: 1.19s\tremaining: 49.2s\n",
      "71:\tlearn: 44.2183063\ttest: 46.4576804\tbest: 46.4576804 (71)\ttotal: 1.21s\tremaining: 49.2s\n",
      "72:\tlearn: 44.1595162\ttest: 46.3953872\tbest: 46.3953872 (72)\ttotal: 1.22s\tremaining: 49.1s\n",
      "73:\tlearn: 44.0981387\ttest: 46.3300952\tbest: 46.3300952 (73)\ttotal: 1.24s\tremaining: 49s\n",
      "74:\tlearn: 44.0331219\ttest: 46.2579223\tbest: 46.2579223 (74)\ttotal: 1.25s\tremaining: 48.9s\n",
      "75:\tlearn: 43.9768826\ttest: 46.1954265\tbest: 46.1954265 (75)\ttotal: 1.27s\tremaining: 48.9s\n",
      "76:\tlearn: 43.9179613\ttest: 46.1320230\tbest: 46.1320230 (76)\ttotal: 1.28s\tremaining: 48.8s\n",
      "77:\tlearn: 43.8660300\ttest: 46.0646273\tbest: 46.0646273 (77)\ttotal: 1.3s\tremaining: 48.7s\n",
      "78:\tlearn: 43.8069762\ttest: 46.0047977\tbest: 46.0047977 (78)\ttotal: 1.31s\tremaining: 48.6s\n",
      "79:\tlearn: 43.7582443\ttest: 45.9420781\tbest: 45.9420781 (79)\ttotal: 1.33s\tremaining: 48.5s\n",
      "80:\tlearn: 43.7022237\ttest: 45.8807428\tbest: 45.8807428 (80)\ttotal: 1.35s\tremaining: 48.5s\n",
      "81:\tlearn: 43.6488607\ttest: 45.8198523\tbest: 45.8198523 (81)\ttotal: 1.36s\tremaining: 48.6s\n",
      "82:\tlearn: 43.5963168\ttest: 45.7647326\tbest: 45.7647326 (82)\ttotal: 1.39s\tremaining: 48.7s\n",
      "83:\tlearn: 43.5438847\ttest: 45.7070700\tbest: 45.7070700 (83)\ttotal: 1.41s\tremaining: 48.9s\n",
      "84:\tlearn: 43.4983780\ttest: 45.6581934\tbest: 45.6581934 (84)\ttotal: 1.42s\tremaining: 48.8s\n",
      "85:\tlearn: 43.4505706\ttest: 45.6084546\tbest: 45.6084546 (85)\ttotal: 1.44s\tremaining: 48.8s\n",
      "86:\tlearn: 43.4096598\ttest: 45.5593233\tbest: 45.5593233 (86)\ttotal: 1.45s\tremaining: 48.7s\n",
      "87:\tlearn: 43.3680460\ttest: 45.5162321\tbest: 45.5162321 (87)\ttotal: 1.47s\tremaining: 48.6s\n",
      "88:\tlearn: 43.3168273\ttest: 45.4616348\tbest: 45.4616348 (88)\ttotal: 1.48s\tremaining: 48.5s\n",
      "89:\tlearn: 43.2731615\ttest: 45.4141747\tbest: 45.4141747 (89)\ttotal: 1.5s\tremaining: 48.4s\n",
      "90:\tlearn: 43.2292081\ttest: 45.3619461\tbest: 45.3619461 (90)\ttotal: 1.51s\tremaining: 48.3s\n",
      "91:\tlearn: 43.1850811\ttest: 45.3110847\tbest: 45.3110847 (91)\ttotal: 1.52s\tremaining: 48.1s\n",
      "92:\tlearn: 43.1453588\ttest: 45.2630305\tbest: 45.2630305 (92)\ttotal: 1.54s\tremaining: 48.1s\n",
      "93:\tlearn: 43.1040147\ttest: 45.2131244\tbest: 45.2131244 (93)\ttotal: 1.55s\tremaining: 48.1s\n",
      "94:\tlearn: 43.0652154\ttest: 45.1697627\tbest: 45.1697627 (94)\ttotal: 1.57s\tremaining: 48.1s\n",
      "95:\tlearn: 43.0269792\ttest: 45.1239107\tbest: 45.1239107 (95)\ttotal: 1.59s\tremaining: 48.1s\n",
      "96:\tlearn: 42.9890032\ttest: 45.0843002\tbest: 45.0843002 (96)\ttotal: 1.61s\tremaining: 48.2s\n",
      "97:\tlearn: 42.9495841\ttest: 45.0400055\tbest: 45.0400055 (97)\ttotal: 1.63s\tremaining: 48.2s\n",
      "98:\tlearn: 42.9187464\ttest: 45.0017102\tbest: 45.0017102 (98)\ttotal: 1.64s\tremaining: 48.1s\n",
      "99:\tlearn: 42.8840017\ttest: 44.9627014\tbest: 44.9627014 (99)\ttotal: 1.66s\tremaining: 48s\n",
      "100:\tlearn: 42.8491522\ttest: 44.9264954\tbest: 44.9264954 (100)\ttotal: 1.67s\tremaining: 47.9s\n",
      "101:\tlearn: 42.8127725\ttest: 44.8881141\tbest: 44.8881141 (101)\ttotal: 1.68s\tremaining: 47.8s\n",
      "102:\tlearn: 42.7856785\ttest: 44.8588966\tbest: 44.8588966 (102)\ttotal: 1.7s\tremaining: 47.7s\n",
      "103:\tlearn: 42.7566580\ttest: 44.8267524\tbest: 44.8267524 (103)\ttotal: 1.71s\tremaining: 47.6s\n",
      "104:\tlearn: 42.7158882\ttest: 44.7818153\tbest: 44.7818153 (104)\ttotal: 1.72s\tremaining: 47.5s\n",
      "105:\tlearn: 42.6911046\ttest: 44.7535626\tbest: 44.7535626 (105)\ttotal: 1.73s\tremaining: 47.4s\n",
      "106:\tlearn: 42.6521450\ttest: 44.7115096\tbest: 44.7115096 (106)\ttotal: 1.75s\tremaining: 47.3s\n",
      "107:\tlearn: 42.6189719\ttest: 44.6750482\tbest: 44.6750482 (107)\ttotal: 1.76s\tremaining: 47.2s\n",
      "108:\tlearn: 42.5817433\ttest: 44.6357442\tbest: 44.6357442 (108)\ttotal: 1.78s\tremaining: 47.2s\n",
      "109:\tlearn: 42.5569457\ttest: 44.6079761\tbest: 44.6079761 (109)\ttotal: 1.8s\tremaining: 47.3s\n",
      "110:\tlearn: 42.5239531\ttest: 44.5738957\tbest: 44.5738957 (110)\ttotal: 1.82s\tremaining: 47.3s\n",
      "111:\tlearn: 42.4954096\ttest: 44.5380023\tbest: 44.5380023 (111)\ttotal: 1.84s\tremaining: 47.4s\n",
      "112:\tlearn: 42.4582958\ttest: 44.5012506\tbest: 44.5012506 (112)\ttotal: 1.85s\tremaining: 47.3s\n",
      "113:\tlearn: 42.4317401\ttest: 44.4733099\tbest: 44.4733099 (113)\ttotal: 1.86s\tremaining: 47.2s\n",
      "114:\tlearn: 42.4092468\ttest: 44.4467698\tbest: 44.4467698 (114)\ttotal: 1.88s\tremaining: 47.1s\n",
      "115:\tlearn: 42.3827440\ttest: 44.4192749\tbest: 44.4192749 (115)\ttotal: 1.89s\tremaining: 47s\n",
      "116:\tlearn: 42.3549888\ttest: 44.3876770\tbest: 44.3876770 (116)\ttotal: 1.9s\tremaining: 46.9s\n",
      "117:\tlearn: 42.3328822\ttest: 44.3629182\tbest: 44.3629182 (117)\ttotal: 1.92s\tremaining: 46.8s\n",
      "118:\tlearn: 42.3096614\ttest: 44.3334931\tbest: 44.3334931 (118)\ttotal: 1.93s\tremaining: 46.7s\n",
      "119:\tlearn: 42.2892361\ttest: 44.3099671\tbest: 44.3099671 (119)\ttotal: 1.94s\tremaining: 46.6s\n",
      "120:\tlearn: 42.2649461\ttest: 44.2824383\tbest: 44.2824383 (120)\ttotal: 1.95s\tremaining: 46.5s\n",
      "121:\tlearn: 42.2462038\ttest: 44.2607232\tbest: 44.2607232 (121)\ttotal: 1.97s\tremaining: 46.4s\n",
      "122:\tlearn: 42.2224432\ttest: 44.2331589\tbest: 44.2331589 (122)\ttotal: 1.98s\tremaining: 46.4s\n",
      "123:\tlearn: 42.1914639\ttest: 44.2026669\tbest: 44.2026669 (123)\ttotal: 2s\tremaining: 46.5s\n",
      "124:\tlearn: 42.1622228\ttest: 44.1739152\tbest: 44.1739152 (124)\ttotal: 2.02s\tremaining: 46.6s\n",
      "125:\tlearn: 42.1371230\ttest: 44.1453924\tbest: 44.1453924 (125)\ttotal: 2.05s\tremaining: 46.8s\n",
      "126:\tlearn: 42.1125016\ttest: 44.1197813\tbest: 44.1197813 (126)\ttotal: 2.07s\tremaining: 46.9s\n",
      "127:\tlearn: 42.0947018\ttest: 44.1011804\tbest: 44.1011804 (127)\ttotal: 2.1s\tremaining: 47s\n",
      "128:\tlearn: 42.0714465\ttest: 44.0760480\tbest: 44.0760480 (128)\ttotal: 2.12s\tremaining: 47.2s\n",
      "129:\tlearn: 42.0549937\ttest: 44.0585516\tbest: 44.0585516 (129)\ttotal: 2.14s\tremaining: 47.2s\n",
      "130:\tlearn: 42.0364729\ttest: 44.0371607\tbest: 44.0371607 (130)\ttotal: 2.16s\tremaining: 47.3s\n",
      "131:\tlearn: 42.0188717\ttest: 44.0179069\tbest: 44.0179069 (131)\ttotal: 2.18s\tremaining: 47.4s\n",
      "132:\tlearn: 42.0034699\ttest: 43.9969113\tbest: 43.9969113 (132)\ttotal: 2.2s\tremaining: 47.5s\n",
      "133:\tlearn: 41.9819140\ttest: 43.9764432\tbest: 43.9764432 (133)\ttotal: 2.22s\tremaining: 47.5s\n",
      "134:\tlearn: 41.9676330\ttest: 43.9626703\tbest: 43.9626703 (134)\ttotal: 2.24s\tremaining: 47.5s\n",
      "135:\tlearn: 41.9467121\ttest: 43.9396505\tbest: 43.9396505 (135)\ttotal: 2.26s\tremaining: 47.6s\n",
      "136:\tlearn: 41.9193020\ttest: 43.9129134\tbest: 43.9129134 (136)\ttotal: 2.29s\tremaining: 47.8s\n",
      "137:\tlearn: 41.9014026\ttest: 43.8934107\tbest: 43.8934107 (137)\ttotal: 2.3s\tremaining: 47.8s\n",
      "138:\tlearn: 41.8847691\ttest: 43.8747815\tbest: 43.8747815 (138)\ttotal: 2.32s\tremaining: 47.8s\n",
      "139:\tlearn: 41.8559289\ttest: 43.8451857\tbest: 43.8451857 (139)\ttotal: 2.34s\tremaining: 47.8s\n",
      "140:\tlearn: 41.8312934\ttest: 43.8184592\tbest: 43.8184592 (140)\ttotal: 2.36s\tremaining: 47.9s\n",
      "141:\tlearn: 41.8153372\ttest: 43.7993257\tbest: 43.7993257 (141)\ttotal: 2.38s\tremaining: 47.9s\n",
      "142:\tlearn: 41.7954535\ttest: 43.7815159\tbest: 43.7815159 (142)\ttotal: 2.4s\tremaining: 47.9s\n",
      "143:\tlearn: 41.7805408\ttest: 43.7643543\tbest: 43.7643543 (143)\ttotal: 2.41s\tremaining: 47.9s\n",
      "144:\tlearn: 41.7658845\ttest: 43.7479278\tbest: 43.7479278 (144)\ttotal: 2.43s\tremaining: 47.8s\n",
      "145:\tlearn: 41.7525335\ttest: 43.7334369\tbest: 43.7334369 (145)\ttotal: 2.45s\tremaining: 47.9s\n",
      "146:\tlearn: 41.7283440\ttest: 43.7093792\tbest: 43.7093792 (146)\ttotal: 2.47s\tremaining: 48s\n",
      "147:\tlearn: 41.7060145\ttest: 43.6874359\tbest: 43.6874359 (147)\ttotal: 2.49s\tremaining: 48s\n",
      "148:\tlearn: 41.6944115\ttest: 43.6755231\tbest: 43.6755231 (148)\ttotal: 2.51s\tremaining: 48s\n",
      "149:\tlearn: 41.6735873\ttest: 43.6529251\tbest: 43.6529251 (149)\ttotal: 2.52s\tremaining: 48s\n",
      "150:\tlearn: 41.6627342\ttest: 43.6405237\tbest: 43.6405237 (150)\ttotal: 2.54s\tremaining: 47.9s\n",
      "151:\tlearn: 41.6456863\ttest: 43.6201245\tbest: 43.6201245 (151)\ttotal: 2.55s\tremaining: 47.8s\n",
      "152:\tlearn: 41.6247603\ttest: 43.5996787\tbest: 43.5996787 (152)\ttotal: 2.56s\tremaining: 47.7s\n",
      "153:\tlearn: 41.6034301\ttest: 43.5761470\tbest: 43.5761470 (153)\ttotal: 2.58s\tremaining: 47.6s\n",
      "154:\tlearn: 41.5887063\ttest: 43.5630604\tbest: 43.5630604 (154)\ttotal: 2.59s\tremaining: 47.6s\n",
      "155:\tlearn: 41.5714678\ttest: 43.5472287\tbest: 43.5472287 (155)\ttotal: 2.61s\tremaining: 47.6s\n",
      "156:\tlearn: 41.5596253\ttest: 43.5333072\tbest: 43.5333072 (156)\ttotal: 2.63s\tremaining: 47.7s\n",
      "157:\tlearn: 41.5468675\ttest: 43.5190157\tbest: 43.5190157 (157)\ttotal: 2.66s\tremaining: 47.8s\n",
      "158:\tlearn: 41.5337837\ttest: 43.5069162\tbest: 43.5069162 (158)\ttotal: 2.68s\tremaining: 47.9s\n",
      "159:\tlearn: 41.5249879\ttest: 43.4961763\tbest: 43.4961763 (159)\ttotal: 2.7s\tremaining: 47.9s\n",
      "160:\tlearn: 41.5138184\ttest: 43.4836840\tbest: 43.4836840 (160)\ttotal: 2.71s\tremaining: 47.9s\n",
      "161:\tlearn: 41.4939140\ttest: 43.4629777\tbest: 43.4629777 (161)\ttotal: 2.73s\tremaining: 47.9s\n",
      "162:\tlearn: 41.4773956\ttest: 43.4484968\tbest: 43.4484968 (162)\ttotal: 2.75s\tremaining: 47.8s\n",
      "163:\tlearn: 41.4548312\ttest: 43.4259651\tbest: 43.4259651 (163)\ttotal: 2.76s\tremaining: 47.8s\n",
      "164:\tlearn: 41.4451920\ttest: 43.4158443\tbest: 43.4158443 (164)\ttotal: 2.78s\tremaining: 47.8s\n",
      "165:\tlearn: 41.4338993\ttest: 43.4032500\tbest: 43.4032500 (165)\ttotal: 2.8s\tremaining: 47.8s\n",
      "166:\tlearn: 41.4203030\ttest: 43.3898740\tbest: 43.3898740 (166)\ttotal: 2.82s\tremaining: 47.8s\n",
      "167:\tlearn: 41.4107457\ttest: 43.3786760\tbest: 43.3786760 (167)\ttotal: 2.84s\tremaining: 47.9s\n",
      "168:\tlearn: 41.3952077\ttest: 43.3609143\tbest: 43.3609143 (168)\ttotal: 2.86s\tremaining: 47.9s\n",
      "169:\tlearn: 41.3873369\ttest: 43.3517812\tbest: 43.3517812 (169)\ttotal: 2.88s\tremaining: 47.9s\n",
      "170:\tlearn: 41.3736203\ttest: 43.3354502\tbest: 43.3354502 (170)\ttotal: 2.9s\tremaining: 48s\n",
      "171:\tlearn: 41.3594173\ttest: 43.3183880\tbest: 43.3183880 (171)\ttotal: 2.92s\tremaining: 48s\n",
      "172:\tlearn: 41.3469262\ttest: 43.3075182\tbest: 43.3075182 (172)\ttotal: 2.94s\tremaining: 48s\n",
      "173:\tlearn: 41.3262468\ttest: 43.2872869\tbest: 43.2872869 (173)\ttotal: 2.96s\tremaining: 48.2s\n",
      "174:\tlearn: 41.3137672\ttest: 43.2748225\tbest: 43.2748225 (174)\ttotal: 2.98s\tremaining: 48.1s\n",
      "175:\tlearn: 41.3029215\ttest: 43.2620174\tbest: 43.2620174 (175)\ttotal: 3s\tremaining: 48.2s\n",
      "176:\tlearn: 41.2911965\ttest: 43.2486270\tbest: 43.2486270 (176)\ttotal: 3.03s\tremaining: 48.4s\n",
      "177:\tlearn: 41.2786144\ttest: 43.2337631\tbest: 43.2337631 (177)\ttotal: 3.06s\tremaining: 48.5s\n",
      "178:\tlearn: 41.2700609\ttest: 43.2239707\tbest: 43.2239707 (178)\ttotal: 3.08s\tremaining: 48.5s\n",
      "179:\tlearn: 41.2536411\ttest: 43.2080717\tbest: 43.2080717 (179)\ttotal: 3.09s\tremaining: 48.5s\n",
      "180:\tlearn: 41.2356976\ttest: 43.1904210\tbest: 43.1904210 (180)\ttotal: 3.11s\tremaining: 48.4s\n",
      "181:\tlearn: 41.2259178\ttest: 43.1797801\tbest: 43.1797801 (181)\ttotal: 3.12s\tremaining: 48.4s\n",
      "182:\tlearn: 41.2091179\ttest: 43.1646649\tbest: 43.1646649 (182)\ttotal: 3.14s\tremaining: 48.3s\n",
      "183:\tlearn: 41.1971295\ttest: 43.1545311\tbest: 43.1545311 (183)\ttotal: 3.15s\tremaining: 48.2s\n",
      "184:\tlearn: 41.1802727\ttest: 43.1385703\tbest: 43.1385703 (184)\ttotal: 3.17s\tremaining: 48.2s\n",
      "185:\tlearn: 41.1670422\ttest: 43.1266212\tbest: 43.1266212 (185)\ttotal: 3.19s\tremaining: 48.2s\n",
      "186:\tlearn: 41.1562654\ttest: 43.1150633\tbest: 43.1150633 (186)\ttotal: 3.21s\tremaining: 48.2s\n",
      "187:\tlearn: 41.1447578\ttest: 43.1020352\tbest: 43.1020352 (187)\ttotal: 3.23s\tremaining: 48.3s\n",
      "188:\tlearn: 41.1285766\ttest: 43.0849857\tbest: 43.0849857 (188)\ttotal: 3.25s\tremaining: 48.3s\n",
      "189:\tlearn: 41.1221796\ttest: 43.0790078\tbest: 43.0790078 (189)\ttotal: 3.27s\tremaining: 48.3s\n",
      "190:\tlearn: 41.1128549\ttest: 43.0671377\tbest: 43.0671377 (190)\ttotal: 3.29s\tremaining: 48.3s\n",
      "191:\tlearn: 41.1039124\ttest: 43.0564802\tbest: 43.0564802 (191)\ttotal: 3.31s\tremaining: 48.4s\n",
      "192:\tlearn: 41.0876799\ttest: 43.0403117\tbest: 43.0403117 (192)\ttotal: 3.32s\tremaining: 48.3s\n",
      "193:\tlearn: 41.0745493\ttest: 43.0287247\tbest: 43.0287247 (193)\ttotal: 3.34s\tremaining: 48.3s\n",
      "194:\tlearn: 41.0672898\ttest: 43.0204767\tbest: 43.0204767 (194)\ttotal: 3.35s\tremaining: 48.2s\n",
      "195:\tlearn: 41.0548551\ttest: 43.0053605\tbest: 43.0053605 (195)\ttotal: 3.37s\tremaining: 48.2s\n",
      "196:\tlearn: 41.0463563\ttest: 42.9956418\tbest: 42.9956418 (196)\ttotal: 3.38s\tremaining: 48.1s\n",
      "197:\tlearn: 41.0351107\ttest: 42.9853368\tbest: 42.9853368 (197)\ttotal: 3.39s\tremaining: 48s\n",
      "198:\tlearn: 41.0246441\ttest: 42.9770241\tbest: 42.9770241 (198)\ttotal: 3.41s\tremaining: 48s\n",
      "199:\tlearn: 41.0162280\ttest: 42.9663912\tbest: 42.9663912 (199)\ttotal: 3.43s\tremaining: 48s\n",
      "200:\tlearn: 41.0061266\ttest: 42.9571256\tbest: 42.9571256 (200)\ttotal: 3.44s\tremaining: 48s\n",
      "201:\tlearn: 40.9920611\ttest: 42.9445336\tbest: 42.9445336 (201)\ttotal: 3.46s\tremaining: 48s\n",
      "202:\tlearn: 40.9850772\ttest: 42.9369600\tbest: 42.9369600 (202)\ttotal: 3.48s\tremaining: 48s\n",
      "203:\tlearn: 40.9757720\ttest: 42.9258489\tbest: 42.9258489 (203)\ttotal: 3.5s\tremaining: 47.9s\n",
      "204:\tlearn: 40.9662138\ttest: 42.9176178\tbest: 42.9176178 (204)\ttotal: 3.51s\tremaining: 47.9s\n",
      "205:\tlearn: 40.9564442\ttest: 42.9086685\tbest: 42.9086685 (205)\ttotal: 3.52s\tremaining: 47.8s\n",
      "206:\tlearn: 40.9448976\ttest: 42.8984646\tbest: 42.8984646 (206)\ttotal: 3.54s\tremaining: 47.7s\n",
      "207:\tlearn: 40.9390234\ttest: 42.8918338\tbest: 42.8918338 (207)\ttotal: 3.55s\tremaining: 47.7s\n",
      "208:\tlearn: 40.9271165\ttest: 42.8790074\tbest: 42.8790074 (208)\ttotal: 3.56s\tremaining: 47.6s\n",
      "209:\tlearn: 40.9202792\ttest: 42.8708939\tbest: 42.8708939 (209)\ttotal: 3.58s\tremaining: 47.5s\n",
      "210:\tlearn: 40.9142133\ttest: 42.8644244\tbest: 42.8644244 (210)\ttotal: 3.59s\tremaining: 47.4s\n",
      "211:\tlearn: 40.9062819\ttest: 42.8577662\tbest: 42.8577662 (211)\ttotal: 3.6s\tremaining: 47.4s\n",
      "212:\tlearn: 40.8989098\ttest: 42.8496166\tbest: 42.8496166 (212)\ttotal: 3.62s\tremaining: 47.4s\n",
      "213:\tlearn: 40.8909186\ttest: 42.8417914\tbest: 42.8417914 (213)\ttotal: 3.64s\tremaining: 47.4s\n",
      "214:\tlearn: 40.8782454\ttest: 42.8302405\tbest: 42.8302405 (214)\ttotal: 3.66s\tremaining: 47.4s\n",
      "215:\tlearn: 40.8671271\ttest: 42.8180461\tbest: 42.8180461 (215)\ttotal: 3.68s\tremaining: 47.5s\n",
      "216:\tlearn: 40.8609665\ttest: 42.8109851\tbest: 42.8109851 (216)\ttotal: 3.69s\tremaining: 47.4s\n",
      "217:\tlearn: 40.8537628\ttest: 42.8049755\tbest: 42.8049755 (217)\ttotal: 3.71s\tremaining: 47.3s\n",
      "218:\tlearn: 40.8431856\ttest: 42.7935692\tbest: 42.7935692 (218)\ttotal: 3.73s\tremaining: 47.3s\n",
      "219:\tlearn: 40.8335743\ttest: 42.7831227\tbest: 42.7831227 (219)\ttotal: 3.74s\tremaining: 47.3s\n",
      "220:\tlearn: 40.8279122\ttest: 42.7772219\tbest: 42.7772219 (220)\ttotal: 3.75s\tremaining: 47.2s\n",
      "221:\tlearn: 40.8197013\ttest: 42.7671751\tbest: 42.7671751 (221)\ttotal: 3.77s\tremaining: 47.2s\n",
      "222:\tlearn: 40.8079757\ttest: 42.7550153\tbest: 42.7550153 (222)\ttotal: 3.78s\tremaining: 47.1s\n",
      "223:\tlearn: 40.8020178\ttest: 42.7480294\tbest: 42.7480294 (223)\ttotal: 3.8s\tremaining: 47.1s\n",
      "224:\tlearn: 40.7959283\ttest: 42.7414480\tbest: 42.7414480 (224)\ttotal: 3.81s\tremaining: 47s\n",
      "225:\tlearn: 40.7876519\ttest: 42.7336050\tbest: 42.7336050 (225)\ttotal: 3.83s\tremaining: 47s\n",
      "226:\tlearn: 40.7757075\ttest: 42.7207558\tbest: 42.7207558 (226)\ttotal: 3.87s\tremaining: 47.3s\n",
      "227:\tlearn: 40.7646201\ttest: 42.7110062\tbest: 42.7110062 (227)\ttotal: 3.89s\tremaining: 47.3s\n",
      "228:\tlearn: 40.7562898\ttest: 42.7036903\tbest: 42.7036903 (228)\ttotal: 3.9s\tremaining: 47.2s\n",
      "229:\tlearn: 40.7488235\ttest: 42.6954656\tbest: 42.6954656 (229)\ttotal: 3.92s\tremaining: 47.2s\n",
      "230:\tlearn: 40.7380936\ttest: 42.6861340\tbest: 42.6861340 (230)\ttotal: 3.94s\tremaining: 47.2s\n",
      "231:\tlearn: 40.7281360\ttest: 42.6772785\tbest: 42.6772785 (231)\ttotal: 3.95s\tremaining: 47.1s\n",
      "232:\tlearn: 40.7208249\ttest: 42.6707917\tbest: 42.6707917 (232)\ttotal: 3.96s\tremaining: 47.1s\n",
      "233:\tlearn: 40.7144741\ttest: 42.6629850\tbest: 42.6629850 (233)\ttotal: 3.98s\tremaining: 47s\n",
      "234:\tlearn: 40.7065039\ttest: 42.6554561\tbest: 42.6554561 (234)\ttotal: 3.99s\tremaining: 46.9s\n",
      "235:\tlearn: 40.7001699\ttest: 42.6478238\tbest: 42.6478238 (235)\ttotal: 4s\tremaining: 46.9s\n",
      "236:\tlearn: 40.6911848\ttest: 42.6387058\tbest: 42.6387058 (236)\ttotal: 4.02s\tremaining: 46.8s\n",
      "237:\tlearn: 40.6828532\ttest: 42.6309661\tbest: 42.6309661 (237)\ttotal: 4.03s\tremaining: 46.8s\n",
      "238:\tlearn: 40.6759743\ttest: 42.6229562\tbest: 42.6229562 (238)\ttotal: 4.05s\tremaining: 46.8s\n",
      "239:\tlearn: 40.6712126\ttest: 42.6177139\tbest: 42.6177139 (239)\ttotal: 4.07s\tremaining: 46.8s\n",
      "240:\tlearn: 40.6632227\ttest: 42.6103875\tbest: 42.6103875 (240)\ttotal: 4.08s\tremaining: 46.7s\n",
      "241:\tlearn: 40.6588112\ttest: 42.6058853\tbest: 42.6058853 (241)\ttotal: 4.09s\tremaining: 46.6s\n",
      "242:\tlearn: 40.6537147\ttest: 42.6022954\tbest: 42.6022954 (242)\ttotal: 4.1s\tremaining: 46.6s\n",
      "243:\tlearn: 40.6489557\ttest: 42.5969057\tbest: 42.5969057 (243)\ttotal: 4.12s\tremaining: 46.5s\n",
      "244:\tlearn: 40.6438818\ttest: 42.5908810\tbest: 42.5908810 (244)\ttotal: 4.13s\tremaining: 46.4s\n",
      "245:\tlearn: 40.6363206\ttest: 42.5841431\tbest: 42.5841431 (245)\ttotal: 4.14s\tremaining: 46.4s\n",
      "246:\tlearn: 40.6296756\ttest: 42.5753853\tbest: 42.5753853 (246)\ttotal: 4.15s\tremaining: 46.3s\n",
      "247:\tlearn: 40.6205065\ttest: 42.5674554\tbest: 42.5674554 (247)\ttotal: 4.17s\tremaining: 46.2s\n",
      "248:\tlearn: 40.6153191\ttest: 42.5611050\tbest: 42.5611050 (248)\ttotal: 4.18s\tremaining: 46.2s\n",
      "249:\tlearn: 40.6104148\ttest: 42.5565826\tbest: 42.5565826 (249)\ttotal: 4.19s\tremaining: 46.1s\n",
      "250:\tlearn: 40.6045962\ttest: 42.5503741\tbest: 42.5503741 (250)\ttotal: 4.21s\tremaining: 46.1s\n",
      "251:\tlearn: 40.6005631\ttest: 42.5453866\tbest: 42.5453866 (251)\ttotal: 4.22s\tremaining: 46.1s\n",
      "252:\tlearn: 40.5940517\ttest: 42.5393862\tbest: 42.5393862 (252)\ttotal: 4.24s\tremaining: 46s\n",
      "253:\tlearn: 40.5905136\ttest: 42.5358993\tbest: 42.5358993 (253)\ttotal: 4.26s\tremaining: 46s\n",
      "254:\tlearn: 40.5862898\ttest: 42.5314009\tbest: 42.5314009 (254)\ttotal: 4.27s\tremaining: 46s\n",
      "255:\tlearn: 40.5823967\ttest: 42.5280206\tbest: 42.5280206 (255)\ttotal: 4.29s\tremaining: 46s\n",
      "256:\tlearn: 40.5757360\ttest: 42.5220401\tbest: 42.5220401 (256)\ttotal: 4.3s\tremaining: 45.9s\n",
      "257:\tlearn: 40.5712485\ttest: 42.5204461\tbest: 42.5204461 (257)\ttotal: 4.31s\tremaining: 45.9s\n",
      "258:\tlearn: 40.5668835\ttest: 42.5158306\tbest: 42.5158306 (258)\ttotal: 4.33s\tremaining: 45.8s\n",
      "259:\tlearn: 40.5615010\ttest: 42.5117841\tbest: 42.5117841 (259)\ttotal: 4.34s\tremaining: 45.7s\n",
      "260:\tlearn: 40.5560089\ttest: 42.5079863\tbest: 42.5079863 (260)\ttotal: 4.35s\tremaining: 45.7s\n",
      "261:\tlearn: 40.5510714\ttest: 42.5034601\tbest: 42.5034601 (261)\ttotal: 4.37s\tremaining: 45.6s\n",
      "262:\tlearn: 40.5472339\ttest: 42.4998693\tbest: 42.4998693 (262)\ttotal: 4.38s\tremaining: 45.6s\n",
      "263:\tlearn: 40.5406652\ttest: 42.4938032\tbest: 42.4938032 (263)\ttotal: 4.39s\tremaining: 45.5s\n",
      "264:\tlearn: 40.5333857\ttest: 42.4859547\tbest: 42.4859547 (264)\ttotal: 4.41s\tremaining: 45.5s\n",
      "265:\tlearn: 40.5252010\ttest: 42.4758572\tbest: 42.4758572 (265)\ttotal: 4.42s\tremaining: 45.5s\n",
      "266:\tlearn: 40.5187602\ttest: 42.4686062\tbest: 42.4686062 (266)\ttotal: 4.44s\tremaining: 45.5s\n",
      "267:\tlearn: 40.5157437\ttest: 42.4668168\tbest: 42.4668168 (267)\ttotal: 4.46s\tremaining: 45.4s\n",
      "268:\tlearn: 40.5111157\ttest: 42.4608475\tbest: 42.4608475 (268)\ttotal: 4.47s\tremaining: 45.4s\n",
      "269:\tlearn: 40.5038547\ttest: 42.4559720\tbest: 42.4559720 (269)\ttotal: 4.49s\tremaining: 45.4s\n",
      "270:\tlearn: 40.4961789\ttest: 42.4484990\tbest: 42.4484990 (270)\ttotal: 4.51s\tremaining: 45.4s\n",
      "271:\tlearn: 40.4891595\ttest: 42.4421615\tbest: 42.4421615 (271)\ttotal: 4.52s\tremaining: 45.4s\n",
      "272:\tlearn: 40.4824460\ttest: 42.4346450\tbest: 42.4346450 (272)\ttotal: 4.54s\tremaining: 45.3s\n",
      "273:\tlearn: 40.4783949\ttest: 42.4303863\tbest: 42.4303863 (273)\ttotal: 4.55s\tremaining: 45.3s\n",
      "274:\tlearn: 40.4739619\ttest: 42.4261612\tbest: 42.4261612 (274)\ttotal: 4.57s\tremaining: 45.2s\n",
      "275:\tlearn: 40.4701534\ttest: 42.4218780\tbest: 42.4218780 (275)\ttotal: 4.58s\tremaining: 45.2s\n",
      "276:\tlearn: 40.4668083\ttest: 42.4199912\tbest: 42.4199912 (276)\ttotal: 4.59s\tremaining: 45.1s\n",
      "277:\tlearn: 40.4600727\ttest: 42.4133450\tbest: 42.4133450 (277)\ttotal: 4.61s\tremaining: 45.1s\n",
      "278:\tlearn: 40.4533582\ttest: 42.4089261\tbest: 42.4089261 (278)\ttotal: 4.62s\tremaining: 45.1s\n",
      "279:\tlearn: 40.4500412\ttest: 42.4080392\tbest: 42.4080392 (279)\ttotal: 4.63s\tremaining: 45s\n",
      "280:\tlearn: 40.4461760\ttest: 42.4034287\tbest: 42.4034287 (280)\ttotal: 4.65s\tremaining: 45s\n",
      "281:\tlearn: 40.4418648\ttest: 42.3993732\tbest: 42.3993732 (281)\ttotal: 4.66s\tremaining: 45s\n",
      "282:\tlearn: 40.4383599\ttest: 42.3957704\tbest: 42.3957704 (282)\ttotal: 4.68s\tremaining: 44.9s\n",
      "283:\tlearn: 40.4346834\ttest: 42.3929232\tbest: 42.3929232 (283)\ttotal: 4.69s\tremaining: 44.9s\n",
      "284:\tlearn: 40.4275334\ttest: 42.3844500\tbest: 42.3844500 (284)\ttotal: 4.71s\tremaining: 44.8s\n",
      "285:\tlearn: 40.4242453\ttest: 42.3815421\tbest: 42.3815421 (285)\ttotal: 4.72s\tremaining: 44.8s\n",
      "286:\tlearn: 40.4202912\ttest: 42.3772282\tbest: 42.3772282 (286)\ttotal: 4.73s\tremaining: 44.7s\n",
      "287:\tlearn: 40.4174399\ttest: 42.3741043\tbest: 42.3741043 (287)\ttotal: 4.74s\tremaining: 44.7s\n",
      "288:\tlearn: 40.4141273\ttest: 42.3710032\tbest: 42.3710032 (288)\ttotal: 4.75s\tremaining: 44.6s\n",
      "289:\tlearn: 40.4098309\ttest: 42.3673372\tbest: 42.3673372 (289)\ttotal: 4.77s\tremaining: 44.6s\n",
      "290:\tlearn: 40.4047141\ttest: 42.3623700\tbest: 42.3623700 (290)\ttotal: 4.79s\tremaining: 44.6s\n",
      "291:\tlearn: 40.3982057\ttest: 42.3551984\tbest: 42.3551984 (291)\ttotal: 4.8s\tremaining: 44.5s\n",
      "292:\tlearn: 40.3918131\ttest: 42.3490540\tbest: 42.3490540 (292)\ttotal: 4.81s\tremaining: 44.5s\n",
      "293:\tlearn: 40.3878618\ttest: 42.3440172\tbest: 42.3440172 (293)\ttotal: 4.83s\tremaining: 44.4s\n",
      "294:\tlearn: 40.3817351\ttest: 42.3373532\tbest: 42.3373532 (294)\ttotal: 4.84s\tremaining: 44.4s\n",
      "295:\tlearn: 40.3758178\ttest: 42.3319394\tbest: 42.3319394 (295)\ttotal: 4.86s\tremaining: 44.4s\n",
      "296:\tlearn: 40.3720009\ttest: 42.3277261\tbest: 42.3277261 (296)\ttotal: 4.88s\tremaining: 44.4s\n",
      "297:\tlearn: 40.3682115\ttest: 42.3246612\tbest: 42.3246612 (297)\ttotal: 4.89s\tremaining: 44.3s\n",
      "298:\tlearn: 40.3629533\ttest: 42.3200872\tbest: 42.3200872 (298)\ttotal: 4.91s\tremaining: 44.3s\n",
      "299:\tlearn: 40.3574327\ttest: 42.3172010\tbest: 42.3172010 (299)\ttotal: 4.92s\tremaining: 44.3s\n",
      "300:\tlearn: 40.3537598\ttest: 42.3144646\tbest: 42.3144646 (300)\ttotal: 4.93s\tremaining: 44.2s\n",
      "301:\tlearn: 40.3506198\ttest: 42.3112354\tbest: 42.3112354 (301)\ttotal: 4.95s\tremaining: 44.2s\n",
      "302:\tlearn: 40.3447553\ttest: 42.3043649\tbest: 42.3043649 (302)\ttotal: 4.96s\tremaining: 44.2s\n",
      "303:\tlearn: 40.3420607\ttest: 42.3017387\tbest: 42.3017387 (303)\ttotal: 4.97s\tremaining: 44.1s\n",
      "304:\tlearn: 40.3379949\ttest: 42.2983597\tbest: 42.2983597 (304)\ttotal: 4.99s\tremaining: 44.1s\n",
      "305:\tlearn: 40.3353572\ttest: 42.2951980\tbest: 42.2951980 (305)\ttotal: 5s\tremaining: 44s\n",
      "306:\tlearn: 40.3331344\ttest: 42.2933298\tbest: 42.2933298 (306)\ttotal: 5.02s\tremaining: 44s\n",
      "307:\tlearn: 40.3294762\ttest: 42.2892270\tbest: 42.2892270 (307)\ttotal: 5.03s\tremaining: 44s\n",
      "308:\tlearn: 40.3264545\ttest: 42.2855205\tbest: 42.2855205 (308)\ttotal: 5.04s\tremaining: 43.9s\n",
      "309:\tlearn: 40.3205789\ttest: 42.2804666\tbest: 42.2804666 (309)\ttotal: 5.06s\tremaining: 43.9s\n",
      "310:\tlearn: 40.3184344\ttest: 42.2775386\tbest: 42.2775386 (310)\ttotal: 5.08s\tremaining: 43.9s\n",
      "311:\tlearn: 40.3143226\ttest: 42.2743545\tbest: 42.2743545 (311)\ttotal: 5.09s\tremaining: 43.9s\n",
      "312:\tlearn: 40.3113652\ttest: 42.2705960\tbest: 42.2705960 (312)\ttotal: 5.11s\tremaining: 43.8s\n",
      "313:\tlearn: 40.3081783\ttest: 42.2665213\tbest: 42.2665213 (313)\ttotal: 5.12s\tremaining: 43.8s\n",
      "314:\tlearn: 40.3042647\ttest: 42.2639119\tbest: 42.2639119 (314)\ttotal: 5.13s\tremaining: 43.8s\n",
      "315:\tlearn: 40.2987490\ttest: 42.2608259\tbest: 42.2608259 (315)\ttotal: 5.15s\tremaining: 43.7s\n",
      "316:\tlearn: 40.2938910\ttest: 42.2574135\tbest: 42.2574135 (316)\ttotal: 5.16s\tremaining: 43.7s\n",
      "317:\tlearn: 40.2892960\ttest: 42.2536195\tbest: 42.2536195 (317)\ttotal: 5.17s\tremaining: 43.6s\n",
      "318:\tlearn: 40.2862379\ttest: 42.2516452\tbest: 42.2516452 (318)\ttotal: 5.19s\tremaining: 43.6s\n",
      "319:\tlearn: 40.2835496\ttest: 42.2500458\tbest: 42.2500458 (319)\ttotal: 5.2s\tremaining: 43.5s\n",
      "320:\tlearn: 40.2810932\ttest: 42.2471598\tbest: 42.2471598 (320)\ttotal: 5.21s\tremaining: 43.5s\n",
      "321:\tlearn: 40.2782503\ttest: 42.2443623\tbest: 42.2443623 (321)\ttotal: 5.22s\tremaining: 43.4s\n",
      "322:\tlearn: 40.2751016\ttest: 42.2408194\tbest: 42.2408194 (322)\ttotal: 5.23s\tremaining: 43.4s\n",
      "323:\tlearn: 40.2727594\ttest: 42.2382433\tbest: 42.2382433 (323)\ttotal: 5.25s\tremaining: 43.3s\n",
      "324:\tlearn: 40.2701054\ttest: 42.2349836\tbest: 42.2349836 (324)\ttotal: 5.26s\tremaining: 43.3s\n",
      "325:\tlearn: 40.2663800\ttest: 42.2331967\tbest: 42.2331967 (325)\ttotal: 5.28s\tremaining: 43.3s\n",
      "326:\tlearn: 40.2641674\ttest: 42.2313201\tbest: 42.2313201 (326)\ttotal: 5.29s\tremaining: 43.3s\n",
      "327:\tlearn: 40.2606227\ttest: 42.2271805\tbest: 42.2271805 (327)\ttotal: 5.31s\tremaining: 43.3s\n",
      "328:\tlearn: 40.2567334\ttest: 42.2250218\tbest: 42.2250218 (328)\ttotal: 5.33s\tremaining: 43.2s\n",
      "329:\tlearn: 40.2543556\ttest: 42.2242262\tbest: 42.2242262 (329)\ttotal: 5.34s\tremaining: 43.2s\n",
      "330:\tlearn: 40.2502601\ttest: 42.2194735\tbest: 42.2194735 (330)\ttotal: 5.36s\tremaining: 43.2s\n",
      "331:\tlearn: 40.2454405\ttest: 42.2145331\tbest: 42.2145331 (331)\ttotal: 5.37s\tremaining: 43.2s\n",
      "332:\tlearn: 40.2415384\ttest: 42.2113304\tbest: 42.2113304 (332)\ttotal: 5.39s\tremaining: 43.2s\n",
      "333:\tlearn: 40.2393523\ttest: 42.2096657\tbest: 42.2096657 (333)\ttotal: 5.4s\tremaining: 43.1s\n",
      "334:\tlearn: 40.2359262\ttest: 42.2057939\tbest: 42.2057939 (334)\ttotal: 5.41s\tremaining: 43.1s\n",
      "335:\tlearn: 40.2334033\ttest: 42.2045198\tbest: 42.2045198 (335)\ttotal: 5.43s\tremaining: 43s\n",
      "336:\tlearn: 40.2291669\ttest: 42.1997774\tbest: 42.1997774 (336)\ttotal: 5.44s\tremaining: 43s\n",
      "337:\tlearn: 40.2272328\ttest: 42.1980082\tbest: 42.1980082 (337)\ttotal: 5.46s\tremaining: 43s\n",
      "338:\tlearn: 40.2245767\ttest: 42.1942269\tbest: 42.1942269 (338)\ttotal: 5.47s\tremaining: 43s\n",
      "339:\tlearn: 40.2228535\ttest: 42.1923416\tbest: 42.1923416 (339)\ttotal: 5.49s\tremaining: 43s\n",
      "340:\tlearn: 40.2188108\ttest: 42.1876849\tbest: 42.1876849 (340)\ttotal: 5.51s\tremaining: 42.9s\n",
      "341:\tlearn: 40.2153408\ttest: 42.1851136\tbest: 42.1851136 (341)\ttotal: 5.52s\tremaining: 42.9s\n",
      "342:\tlearn: 40.2134942\ttest: 42.1834332\tbest: 42.1834332 (342)\ttotal: 5.53s\tremaining: 42.9s\n",
      "343:\tlearn: 40.2118243\ttest: 42.1814857\tbest: 42.1814857 (343)\ttotal: 5.54s\tremaining: 42.8s\n",
      "344:\tlearn: 40.2076217\ttest: 42.1780732\tbest: 42.1780732 (344)\ttotal: 5.56s\tremaining: 42.8s\n",
      "345:\tlearn: 40.2055219\ttest: 42.1766523\tbest: 42.1766523 (345)\ttotal: 5.57s\tremaining: 42.7s\n",
      "346:\tlearn: 40.2018519\ttest: 42.1726881\tbest: 42.1726881 (346)\ttotal: 5.59s\tremaining: 42.7s\n",
      "347:\tlearn: 40.1989870\ttest: 42.1698227\tbest: 42.1698227 (347)\ttotal: 5.6s\tremaining: 42.7s\n",
      "348:\tlearn: 40.1962836\ttest: 42.1692041\tbest: 42.1692041 (348)\ttotal: 5.61s\tremaining: 42.6s\n",
      "349:\tlearn: 40.1938175\ttest: 42.1683157\tbest: 42.1683157 (349)\ttotal: 5.62s\tremaining: 42.6s\n",
      "350:\tlearn: 40.1922362\ttest: 42.1667881\tbest: 42.1667881 (350)\ttotal: 5.63s\tremaining: 42.5s\n",
      "351:\tlearn: 40.1880937\ttest: 42.1642446\tbest: 42.1642446 (351)\ttotal: 5.65s\tremaining: 42.5s\n",
      "352:\tlearn: 40.1853340\ttest: 42.1610909\tbest: 42.1610909 (352)\ttotal: 5.66s\tremaining: 42.5s\n",
      "353:\tlearn: 40.1830170\ttest: 42.1582873\tbest: 42.1582873 (353)\ttotal: 5.68s\tremaining: 42.4s\n",
      "354:\tlearn: 40.1801890\ttest: 42.1579759\tbest: 42.1579759 (354)\ttotal: 5.69s\tremaining: 42.4s\n",
      "355:\tlearn: 40.1761338\ttest: 42.1541354\tbest: 42.1541354 (355)\ttotal: 5.71s\tremaining: 42.4s\n",
      "356:\tlearn: 40.1737883\ttest: 42.1517858\tbest: 42.1517858 (356)\ttotal: 5.73s\tremaining: 42.4s\n",
      "357:\tlearn: 40.1718548\ttest: 42.1506181\tbest: 42.1506181 (357)\ttotal: 5.74s\tremaining: 42.4s\n",
      "358:\tlearn: 40.1705460\ttest: 42.1494293\tbest: 42.1494293 (358)\ttotal: 5.75s\tremaining: 42.3s\n",
      "359:\tlearn: 40.1673547\ttest: 42.1487422\tbest: 42.1487422 (359)\ttotal: 5.76s\tremaining: 42.3s\n",
      "360:\tlearn: 40.1636084\ttest: 42.1442773\tbest: 42.1442773 (360)\ttotal: 5.78s\tremaining: 42.3s\n",
      "361:\tlearn: 40.1597069\ttest: 42.1409831\tbest: 42.1409831 (361)\ttotal: 5.8s\tremaining: 42.2s\n",
      "362:\tlearn: 40.1555733\ttest: 42.1377772\tbest: 42.1377772 (362)\ttotal: 5.81s\tremaining: 42.2s\n",
      "363:\tlearn: 40.1525145\ttest: 42.1360564\tbest: 42.1360564 (363)\ttotal: 5.82s\tremaining: 42.2s\n",
      "364:\tlearn: 40.1499429\ttest: 42.1333334\tbest: 42.1333334 (364)\ttotal: 5.84s\tremaining: 42.1s\n",
      "365:\tlearn: 40.1484341\ttest: 42.1318490\tbest: 42.1318490 (365)\ttotal: 5.85s\tremaining: 42.1s\n",
      "366:\tlearn: 40.1450604\ttest: 42.1291220\tbest: 42.1291220 (366)\ttotal: 5.86s\tremaining: 42.1s\n",
      "367:\tlearn: 40.1419440\ttest: 42.1254291\tbest: 42.1254291 (367)\ttotal: 5.88s\tremaining: 42s\n",
      "368:\tlearn: 40.1384048\ttest: 42.1225311\tbest: 42.1225311 (368)\ttotal: 5.9s\tremaining: 42s\n",
      "369:\tlearn: 40.1355434\ttest: 42.1192538\tbest: 42.1192538 (369)\ttotal: 5.91s\tremaining: 42s\n",
      "370:\tlearn: 40.1336617\ttest: 42.1167634\tbest: 42.1167634 (370)\ttotal: 5.93s\tremaining: 42s\n",
      "371:\tlearn: 40.1314110\ttest: 42.1157506\tbest: 42.1157506 (371)\ttotal: 5.94s\tremaining: 42s\n",
      "372:\tlearn: 40.1299390\ttest: 42.1140472\tbest: 42.1140472 (372)\ttotal: 5.95s\tremaining: 41.9s\n",
      "373:\tlearn: 40.1262489\ttest: 42.1103864\tbest: 42.1103864 (373)\ttotal: 5.96s\tremaining: 41.9s\n",
      "374:\tlearn: 40.1228356\ttest: 42.1083384\tbest: 42.1083384 (374)\ttotal: 5.98s\tremaining: 41.9s\n",
      "375:\tlearn: 40.1215487\ttest: 42.1074106\tbest: 42.1074106 (375)\ttotal: 5.99s\tremaining: 41.8s\n",
      "376:\tlearn: 40.1190260\ttest: 42.1048665\tbest: 42.1048665 (376)\ttotal: 6s\tremaining: 41.8s\n",
      "377:\tlearn: 40.1177095\ttest: 42.1037651\tbest: 42.1037651 (377)\ttotal: 6.01s\tremaining: 41.7s\n",
      "378:\tlearn: 40.1151997\ttest: 42.1024664\tbest: 42.1024664 (378)\ttotal: 6.03s\tremaining: 41.7s\n",
      "379:\tlearn: 40.1136448\ttest: 42.1009766\tbest: 42.1009766 (379)\ttotal: 6.04s\tremaining: 41.6s\n",
      "380:\tlearn: 40.1121005\ttest: 42.1009081\tbest: 42.1009081 (380)\ttotal: 6.05s\tremaining: 41.6s\n",
      "381:\tlearn: 40.1103321\ttest: 42.0982780\tbest: 42.0982780 (381)\ttotal: 6.06s\tremaining: 41.5s\n",
      "382:\tlearn: 40.1090282\ttest: 42.0976508\tbest: 42.0976508 (382)\ttotal: 6.08s\tremaining: 41.5s\n",
      "383:\tlearn: 40.1059156\ttest: 42.0971249\tbest: 42.0971249 (383)\ttotal: 6.09s\tremaining: 41.5s\n",
      "384:\tlearn: 40.1038185\ttest: 42.0946160\tbest: 42.0946160 (384)\ttotal: 6.11s\tremaining: 41.5s\n",
      "385:\tlearn: 40.1003610\ttest: 42.0908954\tbest: 42.0908954 (385)\ttotal: 6.13s\tremaining: 41.5s\n",
      "386:\tlearn: 40.0970133\ttest: 42.0875358\tbest: 42.0875358 (386)\ttotal: 6.14s\tremaining: 41.5s\n",
      "387:\tlearn: 40.0955719\ttest: 42.0864474\tbest: 42.0864474 (387)\ttotal: 6.16s\tremaining: 41.4s\n",
      "388:\tlearn: 40.0923962\ttest: 42.0837959\tbest: 42.0837959 (388)\ttotal: 6.17s\tremaining: 41.4s\n",
      "389:\tlearn: 40.0904853\ttest: 42.0817035\tbest: 42.0817035 (389)\ttotal: 6.19s\tremaining: 41.4s\n",
      "390:\tlearn: 40.0878472\ttest: 42.0786556\tbest: 42.0786556 (390)\ttotal: 6.2s\tremaining: 41.4s\n",
      "391:\tlearn: 40.0849236\ttest: 42.0794079\tbest: 42.0786556 (390)\ttotal: 6.21s\tremaining: 41.3s\n",
      "392:\tlearn: 40.0826832\ttest: 42.0768510\tbest: 42.0768510 (392)\ttotal: 6.23s\tremaining: 41.3s\n",
      "393:\tlearn: 40.0798753\ttest: 42.0737320\tbest: 42.0737320 (393)\ttotal: 6.24s\tremaining: 41.3s\n",
      "394:\tlearn: 40.0780052\ttest: 42.0719690\tbest: 42.0719690 (394)\ttotal: 6.25s\tremaining: 41.3s\n",
      "395:\tlearn: 40.0767224\ttest: 42.0705373\tbest: 42.0705373 (395)\ttotal: 6.27s\tremaining: 41.2s\n",
      "396:\tlearn: 40.0746967\ttest: 42.0691840\tbest: 42.0691840 (396)\ttotal: 6.28s\tremaining: 41.2s\n",
      "397:\tlearn: 40.0710775\ttest: 42.0664008\tbest: 42.0664008 (397)\ttotal: 6.3s\tremaining: 41.2s\n",
      "398:\tlearn: 40.0680771\ttest: 42.0650966\tbest: 42.0650966 (398)\ttotal: 6.32s\tremaining: 41.2s\n",
      "399:\tlearn: 40.0664757\ttest: 42.0635183\tbest: 42.0635183 (399)\ttotal: 6.33s\tremaining: 41.2s\n",
      "400:\tlearn: 40.0637652\ttest: 42.0629727\tbest: 42.0629727 (400)\ttotal: 6.34s\tremaining: 41.1s\n",
      "401:\tlearn: 40.0624956\ttest: 42.0611759\tbest: 42.0611759 (401)\ttotal: 6.36s\tremaining: 41.1s\n",
      "402:\tlearn: 40.0595953\ttest: 42.0582140\tbest: 42.0582140 (402)\ttotal: 6.37s\tremaining: 41.1s\n",
      "403:\tlearn: 40.0583210\ttest: 42.0572296\tbest: 42.0572296 (403)\ttotal: 6.38s\tremaining: 41s\n",
      "404:\tlearn: 40.0553996\ttest: 42.0557773\tbest: 42.0557773 (404)\ttotal: 6.4s\tremaining: 41s\n",
      "405:\tlearn: 40.0533772\ttest: 42.0544507\tbest: 42.0544507 (405)\ttotal: 6.41s\tremaining: 41s\n",
      "406:\tlearn: 40.0518165\ttest: 42.0527262\tbest: 42.0527262 (406)\ttotal: 6.42s\tremaining: 40.9s\n",
      "407:\tlearn: 40.0497478\ttest: 42.0527238\tbest: 42.0527238 (407)\ttotal: 6.43s\tremaining: 40.9s\n",
      "408:\tlearn: 40.0472700\ttest: 42.0511308\tbest: 42.0511308 (408)\ttotal: 6.45s\tremaining: 40.9s\n",
      "409:\tlearn: 40.0454445\ttest: 42.0492738\tbest: 42.0492738 (409)\ttotal: 6.46s\tremaining: 40.8s\n",
      "410:\tlearn: 40.0425306\ttest: 42.0464225\tbest: 42.0464225 (410)\ttotal: 6.48s\tremaining: 40.8s\n",
      "411:\tlearn: 40.0405224\ttest: 42.0457249\tbest: 42.0457249 (411)\ttotal: 6.5s\tremaining: 40.9s\n",
      "412:\tlearn: 40.0380027\ttest: 42.0453472\tbest: 42.0453472 (412)\ttotal: 6.52s\tremaining: 40.9s\n",
      "413:\tlearn: 40.0361120\ttest: 42.0434495\tbest: 42.0434495 (413)\ttotal: 6.54s\tremaining: 40.9s\n",
      "414:\tlearn: 40.0348688\ttest: 42.0421095\tbest: 42.0421095 (414)\ttotal: 6.55s\tremaining: 40.8s\n",
      "415:\tlearn: 40.0337330\ttest: 42.0412237\tbest: 42.0412237 (415)\ttotal: 6.57s\tremaining: 40.8s\n",
      "416:\tlearn: 40.0319323\ttest: 42.0395936\tbest: 42.0395936 (416)\ttotal: 6.58s\tremaining: 40.8s\n",
      "417:\tlearn: 40.0293989\ttest: 42.0380725\tbest: 42.0380725 (417)\ttotal: 6.59s\tremaining: 40.7s\n",
      "418:\tlearn: 40.0280531\ttest: 42.0375224\tbest: 42.0375224 (418)\ttotal: 6.6s\tremaining: 40.7s\n",
      "419:\tlearn: 40.0267932\ttest: 42.0362531\tbest: 42.0362531 (419)\ttotal: 6.62s\tremaining: 40.6s\n",
      "420:\tlearn: 40.0248801\ttest: 42.0352332\tbest: 42.0352332 (420)\ttotal: 6.63s\tremaining: 40.6s\n",
      "421:\tlearn: 40.0230096\ttest: 42.0350450\tbest: 42.0350450 (421)\ttotal: 6.64s\tremaining: 40.6s\n",
      "422:\tlearn: 40.0213136\ttest: 42.0344289\tbest: 42.0344289 (422)\ttotal: 6.65s\tremaining: 40.5s\n",
      "423:\tlearn: 40.0193916\ttest: 42.0346363\tbest: 42.0344289 (422)\ttotal: 6.67s\tremaining: 40.5s\n",
      "424:\tlearn: 40.0185710\ttest: 42.0336614\tbest: 42.0336614 (424)\ttotal: 6.68s\tremaining: 40.5s\n",
      "425:\tlearn: 40.0171108\ttest: 42.0334281\tbest: 42.0334281 (425)\ttotal: 6.69s\tremaining: 40.4s\n",
      "426:\tlearn: 40.0149422\ttest: 42.0312241\tbest: 42.0312241 (426)\ttotal: 6.71s\tremaining: 40.4s\n",
      "427:\tlearn: 40.0140275\ttest: 42.0302258\tbest: 42.0302258 (427)\ttotal: 6.72s\tremaining: 40.4s\n",
      "428:\tlearn: 40.0113708\ttest: 42.0274020\tbest: 42.0274020 (428)\ttotal: 6.74s\tremaining: 40.4s\n",
      "429:\tlearn: 40.0103269\ttest: 42.0264189\tbest: 42.0264189 (429)\ttotal: 6.75s\tremaining: 40.4s\n",
      "430:\tlearn: 40.0079339\ttest: 42.0263709\tbest: 42.0263709 (430)\ttotal: 6.77s\tremaining: 40.3s\n",
      "431:\tlearn: 40.0067853\ttest: 42.0254118\tbest: 42.0254118 (431)\ttotal: 6.78s\tremaining: 40.3s\n",
      "432:\tlearn: 40.0045269\ttest: 42.0249613\tbest: 42.0249613 (432)\ttotal: 6.79s\tremaining: 40.3s\n",
      "433:\tlearn: 40.0031020\ttest: 42.0241646\tbest: 42.0241646 (433)\ttotal: 6.8s\tremaining: 40.2s\n",
      "434:\tlearn: 40.0020132\ttest: 42.0231155\tbest: 42.0231155 (434)\ttotal: 6.82s\tremaining: 40.2s\n",
      "435:\tlearn: 40.0009203\ttest: 42.0217701\tbest: 42.0217701 (435)\ttotal: 6.83s\tremaining: 40.2s\n",
      "436:\tlearn: 39.9994347\ttest: 42.0225427\tbest: 42.0217701 (435)\ttotal: 6.84s\tremaining: 40.1s\n",
      "437:\tlearn: 39.9968985\ttest: 42.0231567\tbest: 42.0217701 (435)\ttotal: 6.85s\tremaining: 40.1s\n",
      "438:\tlearn: 39.9946628\ttest: 42.0208963\tbest: 42.0208963 (438)\ttotal: 6.87s\tremaining: 40.1s\n",
      "439:\tlearn: 39.9930125\ttest: 42.0192123\tbest: 42.0192123 (439)\ttotal: 6.88s\tremaining: 40s\n",
      "440:\tlearn: 39.9914057\ttest: 42.0198013\tbest: 42.0192123 (439)\ttotal: 6.89s\tremaining: 40s\n",
      "441:\tlearn: 39.9893217\ttest: 42.0184629\tbest: 42.0184629 (441)\ttotal: 6.91s\tremaining: 40s\n",
      "442:\tlearn: 39.9879322\ttest: 42.0177304\tbest: 42.0177304 (442)\ttotal: 6.93s\tremaining: 40s\n",
      "443:\tlearn: 39.9863990\ttest: 42.0182547\tbest: 42.0177304 (442)\ttotal: 6.96s\tremaining: 40.1s\n",
      "444:\tlearn: 39.9854247\ttest: 42.0172447\tbest: 42.0172447 (444)\ttotal: 6.97s\tremaining: 40s\n",
      "445:\tlearn: 39.9846655\ttest: 42.0163001\tbest: 42.0163001 (445)\ttotal: 6.99s\tremaining: 40s\n",
      "446:\tlearn: 39.9834487\ttest: 42.0165560\tbest: 42.0163001 (445)\ttotal: 7s\tremaining: 40s\n",
      "447:\tlearn: 39.9812282\ttest: 42.0139475\tbest: 42.0139475 (447)\ttotal: 7.01s\tremaining: 40s\n",
      "448:\tlearn: 39.9798238\ttest: 42.0125938\tbest: 42.0125938 (448)\ttotal: 7.03s\tremaining: 39.9s\n",
      "449:\tlearn: 39.9773203\ttest: 42.0119445\tbest: 42.0119445 (449)\ttotal: 7.04s\tremaining: 39.9s\n",
      "450:\tlearn: 39.9760597\ttest: 42.0118103\tbest: 42.0118103 (450)\ttotal: 7.06s\tremaining: 39.9s\n",
      "451:\tlearn: 39.9751433\ttest: 42.0109227\tbest: 42.0109227 (451)\ttotal: 7.07s\tremaining: 39.9s\n",
      "452:\tlearn: 39.9739142\ttest: 42.0095239\tbest: 42.0095239 (452)\ttotal: 7.08s\tremaining: 39.8s\n",
      "453:\tlearn: 39.9718042\ttest: 42.0073812\tbest: 42.0073812 (453)\ttotal: 7.1s\tremaining: 39.8s\n",
      "454:\tlearn: 39.9709128\ttest: 42.0064195\tbest: 42.0064195 (454)\ttotal: 7.12s\tremaining: 39.8s\n",
      "455:\tlearn: 39.9697471\ttest: 42.0058191\tbest: 42.0058191 (455)\ttotal: 7.13s\tremaining: 39.8s\n",
      "456:\tlearn: 39.9674699\ttest: 42.0042386\tbest: 42.0042386 (456)\ttotal: 7.15s\tremaining: 39.8s\n",
      "457:\tlearn: 39.9661593\ttest: 42.0030218\tbest: 42.0030218 (457)\ttotal: 7.17s\tremaining: 39.8s\n",
      "458:\tlearn: 39.9639076\ttest: 42.0005824\tbest: 42.0005824 (458)\ttotal: 7.18s\tremaining: 39.8s\n",
      "459:\tlearn: 39.9624620\ttest: 42.0007006\tbest: 42.0005824 (458)\ttotal: 7.2s\tremaining: 39.7s\n",
      "460:\tlearn: 39.9613958\ttest: 41.9995156\tbest: 41.9995156 (460)\ttotal: 7.22s\tremaining: 39.7s\n",
      "461:\tlearn: 39.9603245\ttest: 41.9981791\tbest: 41.9981791 (461)\ttotal: 7.23s\tremaining: 39.7s\n",
      "462:\tlearn: 39.9584449\ttest: 41.9975416\tbest: 41.9975416 (462)\ttotal: 7.25s\tremaining: 39.7s\n",
      "463:\tlearn: 39.9566602\ttest: 41.9956067\tbest: 41.9956067 (463)\ttotal: 7.26s\tremaining: 39.7s\n",
      "464:\tlearn: 39.9552922\ttest: 41.9934565\tbest: 41.9934565 (464)\ttotal: 7.28s\tremaining: 39.7s\n",
      "465:\tlearn: 39.9538687\ttest: 41.9930148\tbest: 41.9930148 (465)\ttotal: 7.3s\tremaining: 39.7s\n",
      "466:\tlearn: 39.9528370\ttest: 41.9919306\tbest: 41.9919306 (466)\ttotal: 7.32s\tremaining: 39.7s\n",
      "467:\tlearn: 39.9503336\ttest: 41.9911607\tbest: 41.9911607 (467)\ttotal: 7.33s\tremaining: 39.7s\n",
      "468:\tlearn: 39.9481236\ttest: 41.9899090\tbest: 41.9899090 (468)\ttotal: 7.35s\tremaining: 39.7s\n",
      "469:\tlearn: 39.9464250\ttest: 41.9880330\tbest: 41.9880330 (469)\ttotal: 7.37s\tremaining: 39.6s\n",
      "470:\tlearn: 39.9455045\ttest: 41.9869933\tbest: 41.9869933 (470)\ttotal: 7.38s\tremaining: 39.6s\n",
      "471:\tlearn: 39.9444783\ttest: 41.9861426\tbest: 41.9861426 (471)\ttotal: 7.39s\tremaining: 39.6s\n",
      "472:\tlearn: 39.9426274\ttest: 41.9837881\tbest: 41.9837881 (472)\ttotal: 7.4s\tremaining: 39.6s\n",
      "473:\tlearn: 39.9414547\ttest: 41.9842677\tbest: 41.9837881 (472)\ttotal: 7.42s\tremaining: 39.5s\n",
      "474:\tlearn: 39.9406996\ttest: 41.9835899\tbest: 41.9835899 (474)\ttotal: 7.43s\tremaining: 39.5s\n",
      "475:\tlearn: 39.9399491\ttest: 41.9827332\tbest: 41.9827332 (475)\ttotal: 7.44s\tremaining: 39.4s\n",
      "476:\tlearn: 39.9392845\ttest: 41.9819009\tbest: 41.9819009 (476)\ttotal: 7.45s\tremaining: 39.4s\n",
      "477:\tlearn: 39.9370317\ttest: 41.9815758\tbest: 41.9815758 (477)\ttotal: 7.46s\tremaining: 39.4s\n",
      "478:\tlearn: 39.9351905\ttest: 41.9804596\tbest: 41.9804596 (478)\ttotal: 7.48s\tremaining: 39.4s\n",
      "479:\tlearn: 39.9341710\ttest: 41.9794851\tbest: 41.9794851 (479)\ttotal: 7.49s\tremaining: 39.3s\n",
      "480:\tlearn: 39.9322414\ttest: 41.9773071\tbest: 41.9773071 (480)\ttotal: 7.51s\tremaining: 39.3s\n",
      "481:\tlearn: 39.9316805\ttest: 41.9768771\tbest: 41.9768771 (481)\ttotal: 7.52s\tremaining: 39.3s\n",
      "482:\tlearn: 39.9306129\ttest: 41.9759451\tbest: 41.9759451 (482)\ttotal: 7.54s\tremaining: 39.3s\n",
      "483:\tlearn: 39.9299728\ttest: 41.9753823\tbest: 41.9753823 (483)\ttotal: 7.55s\tremaining: 39.3s\n",
      "484:\tlearn: 39.9286413\ttest: 41.9759089\tbest: 41.9753823 (483)\ttotal: 7.57s\tremaining: 39.2s\n",
      "485:\tlearn: 39.9278545\ttest: 41.9747786\tbest: 41.9747786 (485)\ttotal: 7.58s\tremaining: 39.2s\n",
      "486:\tlearn: 39.9271918\ttest: 41.9740941\tbest: 41.9740941 (486)\ttotal: 7.59s\tremaining: 39.2s\n",
      "487:\tlearn: 39.9255787\ttest: 41.9730609\tbest: 41.9730609 (487)\ttotal: 7.6s\tremaining: 39.1s\n",
      "488:\tlearn: 39.9244840\ttest: 41.9734984\tbest: 41.9730609 (487)\ttotal: 7.62s\tremaining: 39.1s\n",
      "489:\tlearn: 39.9238846\ttest: 41.9727572\tbest: 41.9727572 (489)\ttotal: 7.63s\tremaining: 39.1s\n",
      "490:\tlearn: 39.9222691\ttest: 41.9713831\tbest: 41.9713831 (490)\ttotal: 7.64s\tremaining: 39s\n",
      "491:\tlearn: 39.9211428\ttest: 41.9713025\tbest: 41.9713025 (491)\ttotal: 7.65s\tremaining: 39s\n",
      "492:\tlearn: 39.9194006\ttest: 41.9692305\tbest: 41.9692305 (492)\ttotal: 7.67s\tremaining: 39s\n",
      "493:\tlearn: 39.9172821\ttest: 41.9679608\tbest: 41.9679608 (493)\ttotal: 7.68s\tremaining: 39s\n",
      "494:\tlearn: 39.9154955\ttest: 41.9661248\tbest: 41.9661248 (494)\ttotal: 7.7s\tremaining: 39s\n",
      "495:\tlearn: 39.9148835\ttest: 41.9656626\tbest: 41.9656626 (495)\ttotal: 7.71s\tremaining: 38.9s\n",
      "496:\tlearn: 39.9131386\ttest: 41.9639515\tbest: 41.9639515 (496)\ttotal: 7.74s\tremaining: 39s\n",
      "497:\tlearn: 39.9126664\ttest: 41.9637223\tbest: 41.9637223 (497)\ttotal: 7.75s\tremaining: 39s\n",
      "498:\tlearn: 39.9121176\ttest: 41.9630793\tbest: 41.9630793 (498)\ttotal: 7.77s\tremaining: 38.9s\n",
      "499:\tlearn: 39.9112562\ttest: 41.9625595\tbest: 41.9625595 (499)\ttotal: 7.78s\tremaining: 38.9s\n",
      "500:\tlearn: 39.9093517\ttest: 41.9631807\tbest: 41.9625595 (499)\ttotal: 7.8s\tremaining: 38.9s\n",
      "501:\tlearn: 39.9087794\ttest: 41.9624762\tbest: 41.9624762 (501)\ttotal: 7.81s\tremaining: 38.9s\n",
      "502:\tlearn: 39.9081582\ttest: 41.9620661\tbest: 41.9620661 (502)\ttotal: 7.82s\tremaining: 38.8s\n",
      "503:\tlearn: 39.9063165\ttest: 41.9610135\tbest: 41.9610135 (503)\ttotal: 7.84s\tremaining: 38.8s\n",
      "504:\tlearn: 39.9045498\ttest: 41.9612797\tbest: 41.9610135 (503)\ttotal: 7.85s\tremaining: 38.8s\n",
      "505:\tlearn: 39.9034428\ttest: 41.9600609\tbest: 41.9600609 (505)\ttotal: 7.87s\tremaining: 38.8s\n",
      "506:\tlearn: 39.9018009\ttest: 41.9605863\tbest: 41.9600609 (505)\ttotal: 7.88s\tremaining: 38.7s\n",
      "507:\tlearn: 39.9011562\ttest: 41.9600725\tbest: 41.9600609 (505)\ttotal: 7.89s\tremaining: 38.7s\n",
      "508:\tlearn: 39.8997493\ttest: 41.9592862\tbest: 41.9592862 (508)\ttotal: 7.91s\tremaining: 38.7s\n",
      "509:\tlearn: 39.8989228\ttest: 41.9581752\tbest: 41.9581752 (509)\ttotal: 7.92s\tremaining: 38.7s\n",
      "510:\tlearn: 39.8973101\ttest: 41.9583443\tbest: 41.9581752 (509)\ttotal: 7.94s\tremaining: 38.7s\n",
      "511:\tlearn: 39.8956476\ttest: 41.9566607\tbest: 41.9566607 (511)\ttotal: 7.96s\tremaining: 38.7s\n",
      "512:\tlearn: 39.8947085\ttest: 41.9571110\tbest: 41.9566607 (511)\ttotal: 7.97s\tremaining: 38.6s\n",
      "513:\tlearn: 39.8932179\ttest: 41.9560065\tbest: 41.9560065 (513)\ttotal: 7.99s\tremaining: 38.6s\n",
      "514:\tlearn: 39.8915795\ttest: 41.9541858\tbest: 41.9541858 (514)\ttotal: 8.01s\tremaining: 38.6s\n",
      "515:\tlearn: 39.8901761\ttest: 41.9530509\tbest: 41.9530509 (515)\ttotal: 8.02s\tremaining: 38.6s\n",
      "516:\tlearn: 39.8895857\ttest: 41.9525698\tbest: 41.9525698 (516)\ttotal: 8.03s\tremaining: 38.6s\n",
      "517:\tlearn: 39.8878731\ttest: 41.9532449\tbest: 41.9525698 (516)\ttotal: 8.05s\tremaining: 38.6s\n",
      "518:\tlearn: 39.8869030\ttest: 41.9538345\tbest: 41.9525698 (516)\ttotal: 8.06s\tremaining: 38.5s\n",
      "519:\tlearn: 39.8864576\ttest: 41.9536803\tbest: 41.9525698 (516)\ttotal: 8.07s\tremaining: 38.5s\n",
      "520:\tlearn: 39.8850996\ttest: 41.9526095\tbest: 41.9525698 (516)\ttotal: 8.08s\tremaining: 38.5s\n",
      "521:\tlearn: 39.8837171\ttest: 41.9513233\tbest: 41.9513233 (521)\ttotal: 8.1s\tremaining: 38.4s\n",
      "522:\tlearn: 39.8825032\ttest: 41.9510524\tbest: 41.9510524 (522)\ttotal: 8.11s\tremaining: 38.4s\n",
      "523:\tlearn: 39.8811558\ttest: 41.9504458\tbest: 41.9504458 (523)\ttotal: 8.13s\tremaining: 38.4s\n",
      "524:\tlearn: 39.8807800\ttest: 41.9498420\tbest: 41.9498420 (524)\ttotal: 8.14s\tremaining: 38.4s\n",
      "525:\tlearn: 39.8793622\ttest: 41.9490539\tbest: 41.9490539 (525)\ttotal: 8.16s\tremaining: 38.4s\n",
      "526:\tlearn: 39.8779638\ttest: 41.9476511\tbest: 41.9476511 (526)\ttotal: 8.18s\tremaining: 38.4s\n",
      "527:\tlearn: 39.8769687\ttest: 41.9479231\tbest: 41.9476511 (526)\ttotal: 8.2s\tremaining: 38.4s\n",
      "528:\tlearn: 39.8764213\ttest: 41.9473720\tbest: 41.9473720 (528)\ttotal: 8.21s\tremaining: 38.4s\n",
      "529:\tlearn: 39.8756773\ttest: 41.9466553\tbest: 41.9466553 (529)\ttotal: 8.23s\tremaining: 38.3s\n",
      "530:\tlearn: 39.8751207\ttest: 41.9459605\tbest: 41.9459605 (530)\ttotal: 8.24s\tremaining: 38.3s\n",
      "531:\tlearn: 39.8733386\ttest: 41.9460211\tbest: 41.9459605 (530)\ttotal: 8.26s\tremaining: 38.3s\n",
      "532:\tlearn: 39.8727729\ttest: 41.9455786\tbest: 41.9455786 (532)\ttotal: 8.27s\tremaining: 38.3s\n",
      "533:\tlearn: 39.8713123\ttest: 41.9459053\tbest: 41.9455786 (532)\ttotal: 8.28s\tremaining: 38.3s\n",
      "534:\tlearn: 39.8695913\ttest: 41.9448683\tbest: 41.9448683 (534)\ttotal: 8.3s\tremaining: 38.2s\n",
      "535:\tlearn: 39.8683279\ttest: 41.9453538\tbest: 41.9448683 (534)\ttotal: 8.31s\tremaining: 38.2s\n",
      "536:\tlearn: 39.8670304\ttest: 41.9443418\tbest: 41.9443418 (536)\ttotal: 8.32s\tremaining: 38.2s\n",
      "537:\tlearn: 39.8657929\ttest: 41.9429418\tbest: 41.9429418 (537)\ttotal: 8.34s\tremaining: 38.2s\n",
      "538:\tlearn: 39.8651069\ttest: 41.9421958\tbest: 41.9421958 (538)\ttotal: 8.36s\tremaining: 38.1s\n",
      "539:\tlearn: 39.8645920\ttest: 41.9415093\tbest: 41.9415093 (539)\ttotal: 8.37s\tremaining: 38.1s\n",
      "540:\tlearn: 39.8635345\ttest: 41.9411934\tbest: 41.9411934 (540)\ttotal: 8.38s\tremaining: 38.1s\n",
      "541:\tlearn: 39.8619837\ttest: 41.9420234\tbest: 41.9411934 (540)\ttotal: 8.4s\tremaining: 38.1s\n",
      "542:\tlearn: 39.8604684\ttest: 41.9418722\tbest: 41.9411934 (540)\ttotal: 8.41s\tremaining: 38s\n",
      "543:\tlearn: 39.8592398\ttest: 41.9412484\tbest: 41.9411934 (540)\ttotal: 8.42s\tremaining: 38s\n",
      "544:\tlearn: 39.8578546\ttest: 41.9408983\tbest: 41.9408983 (544)\ttotal: 8.44s\tremaining: 38s\n",
      "545:\tlearn: 39.8570762\ttest: 41.9397346\tbest: 41.9397346 (545)\ttotal: 8.45s\tremaining: 38s\n",
      "546:\tlearn: 39.8558469\ttest: 41.9408847\tbest: 41.9397346 (545)\ttotal: 8.46s\tremaining: 37.9s\n",
      "547:\tlearn: 39.8548357\ttest: 41.9417346\tbest: 41.9397346 (545)\ttotal: 8.47s\tremaining: 37.9s\n",
      "548:\tlearn: 39.8543165\ttest: 41.9413386\tbest: 41.9397346 (545)\ttotal: 8.48s\tremaining: 37.9s\n",
      "549:\tlearn: 39.8539769\ttest: 41.9409786\tbest: 41.9397346 (545)\ttotal: 8.49s\tremaining: 37.8s\n",
      "550:\tlearn: 39.8536353\ttest: 41.9405249\tbest: 41.9397346 (545)\ttotal: 8.51s\tremaining: 37.8s\n",
      "551:\tlearn: 39.8531030\ttest: 41.9398628\tbest: 41.9397346 (545)\ttotal: 8.52s\tremaining: 37.8s\n",
      "552:\tlearn: 39.8517180\ttest: 41.9404666\tbest: 41.9397346 (545)\ttotal: 8.55s\tremaining: 37.8s\n",
      "553:\tlearn: 39.8504606\ttest: 41.9392695\tbest: 41.9392695 (553)\ttotal: 8.57s\tremaining: 37.9s\n",
      "554:\tlearn: 39.8500974\ttest: 41.9387260\tbest: 41.9387260 (554)\ttotal: 8.59s\tremaining: 37.8s\n",
      "555:\tlearn: 39.8486792\ttest: 41.9378981\tbest: 41.9378981 (555)\ttotal: 8.6s\tremaining: 37.8s\n",
      "556:\tlearn: 39.8476984\ttest: 41.9387196\tbest: 41.9378981 (555)\ttotal: 8.62s\tremaining: 37.8s\n",
      "557:\tlearn: 39.8471615\ttest: 41.9380447\tbest: 41.9378981 (555)\ttotal: 8.63s\tremaining: 37.8s\n",
      "558:\tlearn: 39.8457480\ttest: 41.9379040\tbest: 41.9378981 (555)\ttotal: 8.64s\tremaining: 37.7s\n",
      "559:\tlearn: 39.8445390\ttest: 41.9375664\tbest: 41.9375664 (559)\ttotal: 8.66s\tremaining: 37.7s\n",
      "560:\tlearn: 39.8435956\ttest: 41.9368891\tbest: 41.9368891 (560)\ttotal: 8.67s\tremaining: 37.7s\n",
      "561:\tlearn: 39.8430114\ttest: 41.9360957\tbest: 41.9360957 (561)\ttotal: 8.68s\tremaining: 37.7s\n",
      "562:\tlearn: 39.8416396\ttest: 41.9355245\tbest: 41.9355245 (562)\ttotal: 8.7s\tremaining: 37.7s\n",
      "563:\tlearn: 39.8405764\ttest: 41.9343662\tbest: 41.9343662 (563)\ttotal: 8.72s\tremaining: 37.7s\n",
      "564:\tlearn: 39.8402633\ttest: 41.9340076\tbest: 41.9340076 (564)\ttotal: 8.74s\tremaining: 37.7s\n",
      "565:\tlearn: 39.8387968\ttest: 41.9326805\tbest: 41.9326805 (565)\ttotal: 8.76s\tremaining: 37.7s\n",
      "566:\tlearn: 39.8375789\ttest: 41.9335682\tbest: 41.9326805 (565)\ttotal: 8.78s\tremaining: 37.7s\n",
      "567:\tlearn: 39.8368304\ttest: 41.9331408\tbest: 41.9326805 (565)\ttotal: 8.8s\tremaining: 37.7s\n",
      "568:\tlearn: 39.8360336\ttest: 41.9332046\tbest: 41.9326805 (565)\ttotal: 8.82s\tremaining: 37.7s\n",
      "569:\tlearn: 39.8353556\ttest: 41.9323331\tbest: 41.9323331 (569)\ttotal: 8.83s\tremaining: 37.6s\n",
      "570:\tlearn: 39.8350227\ttest: 41.9320784\tbest: 41.9320784 (570)\ttotal: 8.84s\tremaining: 37.6s\n",
      "571:\tlearn: 39.8344681\ttest: 41.9325645\tbest: 41.9320784 (570)\ttotal: 8.86s\tremaining: 37.6s\n",
      "572:\tlearn: 39.8334490\ttest: 41.9322775\tbest: 41.9320784 (570)\ttotal: 8.87s\tremaining: 37.6s\n",
      "573:\tlearn: 39.8322693\ttest: 41.9313253\tbest: 41.9313253 (573)\ttotal: 8.89s\tremaining: 37.6s\n",
      "574:\tlearn: 39.8310862\ttest: 41.9302906\tbest: 41.9302906 (574)\ttotal: 8.91s\tremaining: 37.6s\n",
      "575:\tlearn: 39.8301694\ttest: 41.9311444\tbest: 41.9302906 (574)\ttotal: 8.92s\tremaining: 37.5s\n",
      "576:\tlearn: 39.8299358\ttest: 41.9309355\tbest: 41.9302906 (574)\ttotal: 8.93s\tremaining: 37.5s\n",
      "577:\tlearn: 39.8289781\ttest: 41.9299972\tbest: 41.9299972 (577)\ttotal: 8.95s\tremaining: 37.5s\n",
      "578:\tlearn: 39.8280366\ttest: 41.9307598\tbest: 41.9299972 (577)\ttotal: 8.96s\tremaining: 37.5s\n",
      "579:\tlearn: 39.8270499\ttest: 41.9298076\tbest: 41.9298076 (579)\ttotal: 8.98s\tremaining: 37.5s\n",
      "580:\tlearn: 39.8258056\ttest: 41.9294130\tbest: 41.9294130 (580)\ttotal: 9s\tremaining: 37.5s\n",
      "581:\tlearn: 39.8251211\ttest: 41.9300313\tbest: 41.9294130 (580)\ttotal: 9.01s\tremaining: 37.4s\n",
      "582:\tlearn: 39.8238602\ttest: 41.9299838\tbest: 41.9294130 (580)\ttotal: 9.02s\tremaining: 37.4s\n",
      "583:\tlearn: 39.8227376\ttest: 41.9289256\tbest: 41.9289256 (583)\ttotal: 9.04s\tremaining: 37.4s\n",
      "584:\tlearn: 39.8217766\ttest: 41.9278084\tbest: 41.9278084 (584)\ttotal: 9.05s\tremaining: 37.4s\n",
      "585:\tlearn: 39.8208810\ttest: 41.9272748\tbest: 41.9272748 (585)\ttotal: 9.06s\tremaining: 37.3s\n",
      "586:\tlearn: 39.8203412\ttest: 41.9268580\tbest: 41.9268580 (586)\ttotal: 9.08s\tremaining: 37.3s\n",
      "587:\tlearn: 39.8197472\ttest: 41.9265660\tbest: 41.9265660 (587)\ttotal: 9.09s\tremaining: 37.3s\n",
      "588:\tlearn: 39.8184180\ttest: 41.9255810\tbest: 41.9255810 (588)\ttotal: 9.1s\tremaining: 37.3s\n",
      "589:\tlearn: 39.8171676\ttest: 41.9246295\tbest: 41.9246295 (589)\ttotal: 9.12s\tremaining: 37.2s\n",
      "590:\tlearn: 39.8159369\ttest: 41.9250910\tbest: 41.9246295 (589)\ttotal: 9.13s\tremaining: 37.2s\n",
      "591:\tlearn: 39.8154441\ttest: 41.9244696\tbest: 41.9244696 (591)\ttotal: 9.14s\tremaining: 37.2s\n",
      "592:\tlearn: 39.8142999\ttest: 41.9238503\tbest: 41.9238503 (592)\ttotal: 9.16s\tremaining: 37.2s\n",
      "593:\tlearn: 39.8137977\ttest: 41.9232590\tbest: 41.9232590 (593)\ttotal: 9.18s\tremaining: 37.2s\n",
      "594:\tlearn: 39.8134800\ttest: 41.9228085\tbest: 41.9228085 (594)\ttotal: 9.2s\tremaining: 37.2s\n",
      "595:\tlearn: 39.8126551\ttest: 41.9232395\tbest: 41.9228085 (594)\ttotal: 9.21s\tremaining: 37.2s\n",
      "596:\tlearn: 39.8117351\ttest: 41.9232874\tbest: 41.9228085 (594)\ttotal: 9.23s\tremaining: 37.2s\n",
      "597:\tlearn: 39.8105269\ttest: 41.9226906\tbest: 41.9226906 (597)\ttotal: 9.25s\tremaining: 37.2s\n",
      "598:\tlearn: 39.8093958\ttest: 41.9224677\tbest: 41.9224677 (598)\ttotal: 9.28s\tremaining: 37.2s\n",
      "599:\tlearn: 39.8087201\ttest: 41.9226182\tbest: 41.9224677 (598)\ttotal: 9.3s\tremaining: 37.2s\n",
      "600:\tlearn: 39.8084099\ttest: 41.9222284\tbest: 41.9222284 (600)\ttotal: 9.32s\tremaining: 37.2s\n",
      "601:\tlearn: 39.8077881\ttest: 41.9215073\tbest: 41.9215073 (601)\ttotal: 9.35s\tremaining: 37.2s\n",
      "602:\tlearn: 39.8070072\ttest: 41.9215452\tbest: 41.9215073 (601)\ttotal: 9.37s\tremaining: 37.2s\n",
      "603:\tlearn: 39.8058642\ttest: 41.9220815\tbest: 41.9215073 (601)\ttotal: 9.39s\tremaining: 37.3s\n",
      "604:\tlearn: 39.8049870\ttest: 41.9220397\tbest: 41.9215073 (601)\ttotal: 9.42s\tremaining: 37.3s\n",
      "605:\tlearn: 39.8041288\ttest: 41.9212103\tbest: 41.9212103 (605)\ttotal: 9.45s\tremaining: 37.3s\n",
      "606:\tlearn: 39.8034709\ttest: 41.9217667\tbest: 41.9212103 (605)\ttotal: 9.47s\tremaining: 37.3s\n",
      "607:\tlearn: 39.8030272\ttest: 41.9221710\tbest: 41.9212103 (605)\ttotal: 9.49s\tremaining: 37.3s\n",
      "608:\tlearn: 39.8023492\ttest: 41.9224424\tbest: 41.9212103 (605)\ttotal: 9.51s\tremaining: 37.3s\n",
      "609:\tlearn: 39.8012804\ttest: 41.9221210\tbest: 41.9212103 (605)\ttotal: 9.52s\tremaining: 37.3s\n",
      "610:\tlearn: 39.8001824\ttest: 41.9224819\tbest: 41.9212103 (605)\ttotal: 9.54s\tremaining: 37.3s\n",
      "611:\tlearn: 39.7999066\ttest: 41.9222180\tbest: 41.9212103 (605)\ttotal: 9.57s\tremaining: 37.4s\n",
      "612:\tlearn: 39.7990727\ttest: 41.9221069\tbest: 41.9212103 (605)\ttotal: 9.6s\tremaining: 37.4s\n",
      "613:\tlearn: 39.7979882\ttest: 41.9219171\tbest: 41.9212103 (605)\ttotal: 9.62s\tremaining: 37.4s\n",
      "614:\tlearn: 39.7973156\ttest: 41.9219880\tbest: 41.9212103 (605)\ttotal: 9.63s\tremaining: 37.4s\n",
      "615:\tlearn: 39.7967456\ttest: 41.9215639\tbest: 41.9212103 (605)\ttotal: 9.65s\tremaining: 37.3s\n",
      "616:\tlearn: 39.7960660\ttest: 41.9211829\tbest: 41.9211829 (616)\ttotal: 9.67s\tremaining: 37.3s\n",
      "617:\tlearn: 39.7953532\ttest: 41.9216521\tbest: 41.9211829 (616)\ttotal: 9.68s\tremaining: 37.3s\n",
      "618:\tlearn: 39.7942532\ttest: 41.9211738\tbest: 41.9211738 (618)\ttotal: 9.7s\tremaining: 37.3s\n",
      "619:\tlearn: 39.7938617\ttest: 41.9208180\tbest: 41.9208180 (619)\ttotal: 9.71s\tremaining: 37.3s\n",
      "620:\tlearn: 39.7932580\ttest: 41.9213820\tbest: 41.9208180 (619)\ttotal: 9.72s\tremaining: 37.3s\n",
      "621:\tlearn: 39.7926148\ttest: 41.9217526\tbest: 41.9208180 (619)\ttotal: 9.74s\tremaining: 37.2s\n",
      "622:\tlearn: 39.7917609\ttest: 41.9211909\tbest: 41.9208180 (619)\ttotal: 9.75s\tremaining: 37.2s\n",
      "623:\tlearn: 39.7908622\ttest: 41.9200955\tbest: 41.9200955 (623)\ttotal: 9.77s\tremaining: 37.2s\n",
      "624:\tlearn: 39.7901535\ttest: 41.9197293\tbest: 41.9197293 (624)\ttotal: 9.78s\tremaining: 37.2s\n",
      "625:\tlearn: 39.7898135\ttest: 41.9192656\tbest: 41.9192656 (625)\ttotal: 9.8s\tremaining: 37.2s\n",
      "626:\tlearn: 39.7888602\ttest: 41.9188357\tbest: 41.9188357 (626)\ttotal: 9.82s\tremaining: 37.2s\n",
      "627:\tlearn: 39.7880264\ttest: 41.9179923\tbest: 41.9179923 (627)\ttotal: 9.84s\tremaining: 37.2s\n",
      "628:\tlearn: 39.7878301\ttest: 41.9177610\tbest: 41.9177610 (628)\ttotal: 9.85s\tremaining: 37.1s\n",
      "629:\tlearn: 39.7868719\ttest: 41.9176500\tbest: 41.9176500 (629)\ttotal: 9.87s\tremaining: 37.1s\n",
      "630:\tlearn: 39.7866305\ttest: 41.9173051\tbest: 41.9173051 (630)\ttotal: 9.88s\tremaining: 37.1s\n",
      "631:\tlearn: 39.7855711\ttest: 41.9164155\tbest: 41.9164155 (631)\ttotal: 9.89s\tremaining: 37.1s\n",
      "632:\tlearn: 39.7847311\ttest: 41.9161766\tbest: 41.9161766 (632)\ttotal: 9.91s\tremaining: 37s\n",
      "633:\tlearn: 39.7839501\ttest: 41.9154810\tbest: 41.9154810 (633)\ttotal: 9.92s\tremaining: 37s\n",
      "634:\tlearn: 39.7833332\ttest: 41.9155539\tbest: 41.9154810 (633)\ttotal: 9.93s\tremaining: 37s\n",
      "635:\tlearn: 39.7829899\ttest: 41.9152453\tbest: 41.9152453 (635)\ttotal: 9.95s\tremaining: 37s\n",
      "636:\tlearn: 39.7825040\ttest: 41.9154805\tbest: 41.9152453 (635)\ttotal: 9.96s\tremaining: 36.9s\n",
      "637:\tlearn: 39.7815406\ttest: 41.9153827\tbest: 41.9152453 (635)\ttotal: 9.97s\tremaining: 36.9s\n",
      "638:\tlearn: 39.7809878\ttest: 41.9159716\tbest: 41.9152453 (635)\ttotal: 9.99s\tremaining: 36.9s\n",
      "639:\tlearn: 39.7803461\ttest: 41.9161093\tbest: 41.9152453 (635)\ttotal: 10s\tremaining: 37s\n",
      "640:\tlearn: 39.7799791\ttest: 41.9159701\tbest: 41.9152453 (635)\ttotal: 10.1s\tremaining: 37s\n",
      "641:\tlearn: 39.7796955\ttest: 41.9156486\tbest: 41.9152453 (635)\ttotal: 10.1s\tremaining: 37s\n",
      "642:\tlearn: 39.7787392\ttest: 41.9152252\tbest: 41.9152252 (642)\ttotal: 10.1s\tremaining: 37s\n",
      "643:\tlearn: 39.7779447\ttest: 41.9146170\tbest: 41.9146170 (643)\ttotal: 10.1s\tremaining: 37s\n",
      "644:\tlearn: 39.7773446\ttest: 41.9149889\tbest: 41.9146170 (643)\ttotal: 10.1s\tremaining: 37s\n",
      "645:\tlearn: 39.7763702\ttest: 41.9145654\tbest: 41.9145654 (645)\ttotal: 10.1s\tremaining: 36.9s\n",
      "646:\tlearn: 39.7757601\ttest: 41.9147064\tbest: 41.9145654 (645)\ttotal: 10.2s\tremaining: 36.9s\n",
      "647:\tlearn: 39.7749225\ttest: 41.9141195\tbest: 41.9141195 (647)\ttotal: 10.2s\tremaining: 36.9s\n",
      "648:\tlearn: 39.7740683\ttest: 41.9136804\tbest: 41.9136804 (648)\ttotal: 10.2s\tremaining: 36.9s\n",
      "649:\tlearn: 39.7737680\ttest: 41.9134335\tbest: 41.9134335 (649)\ttotal: 10.2s\tremaining: 36.9s\n",
      "650:\tlearn: 39.7729529\ttest: 41.9124574\tbest: 41.9124574 (650)\ttotal: 10.2s\tremaining: 36.9s\n",
      "651:\tlearn: 39.7725931\ttest: 41.9118880\tbest: 41.9118880 (651)\ttotal: 10.2s\tremaining: 36.8s\n",
      "652:\tlearn: 39.7717487\ttest: 41.9111092\tbest: 41.9111092 (652)\ttotal: 10.2s\tremaining: 36.8s\n",
      "653:\tlearn: 39.7711756\ttest: 41.9112540\tbest: 41.9111092 (652)\ttotal: 10.3s\tremaining: 36.8s\n",
      "654:\tlearn: 39.7701071\ttest: 41.9106471\tbest: 41.9106471 (654)\ttotal: 10.3s\tremaining: 36.8s\n",
      "655:\tlearn: 39.7694599\ttest: 41.9112400\tbest: 41.9106471 (654)\ttotal: 10.3s\tremaining: 36.8s\n",
      "656:\tlearn: 39.7691800\ttest: 41.9110924\tbest: 41.9106471 (654)\ttotal: 10.3s\tremaining: 36.7s\n",
      "657:\tlearn: 39.7682342\ttest: 41.9103343\tbest: 41.9103343 (657)\ttotal: 10.3s\tremaining: 36.7s\n",
      "658:\tlearn: 39.7674928\ttest: 41.9109676\tbest: 41.9103343 (657)\ttotal: 10.3s\tremaining: 36.7s\n",
      "659:\tlearn: 39.7666872\ttest: 41.9105911\tbest: 41.9103343 (657)\ttotal: 10.3s\tremaining: 36.7s\n",
      "660:\tlearn: 39.7663376\ttest: 41.9104010\tbest: 41.9103343 (657)\ttotal: 10.4s\tremaining: 36.6s\n",
      "661:\tlearn: 39.7660861\ttest: 41.9101245\tbest: 41.9101245 (661)\ttotal: 10.4s\tremaining: 36.6s\n",
      "662:\tlearn: 39.7655648\ttest: 41.9104229\tbest: 41.9101245 (661)\ttotal: 10.4s\tremaining: 36.6s\n",
      "663:\tlearn: 39.7645955\ttest: 41.9101218\tbest: 41.9101218 (663)\ttotal: 10.4s\tremaining: 36.6s\n",
      "664:\tlearn: 39.7641206\ttest: 41.9097259\tbest: 41.9097259 (664)\ttotal: 10.4s\tremaining: 36.5s\n",
      "665:\tlearn: 39.7632447\ttest: 41.9093396\tbest: 41.9093396 (665)\ttotal: 10.4s\tremaining: 36.5s\n",
      "666:\tlearn: 39.7624403\ttest: 41.9093119\tbest: 41.9093119 (666)\ttotal: 10.4s\tremaining: 36.6s\n",
      "667:\tlearn: 39.7620968\ttest: 41.9090070\tbest: 41.9090070 (667)\ttotal: 10.5s\tremaining: 36.5s\n",
      "668:\tlearn: 39.7618456\ttest: 41.9088402\tbest: 41.9088402 (668)\ttotal: 10.5s\tremaining: 36.5s\n",
      "669:\tlearn: 39.7613372\ttest: 41.9092737\tbest: 41.9088402 (668)\ttotal: 10.5s\tremaining: 36.5s\n",
      "670:\tlearn: 39.7611162\ttest: 41.9091609\tbest: 41.9088402 (668)\ttotal: 10.5s\tremaining: 36.5s\n",
      "671:\tlearn: 39.7603646\ttest: 41.9088583\tbest: 41.9088402 (668)\ttotal: 10.5s\tremaining: 36.5s\n",
      "672:\tlearn: 39.7597033\ttest: 41.9088253\tbest: 41.9088253 (672)\ttotal: 10.6s\tremaining: 36.5s\n",
      "673:\tlearn: 39.7590014\ttest: 41.9083073\tbest: 41.9083073 (673)\ttotal: 10.6s\tremaining: 36.5s\n",
      "674:\tlearn: 39.7587735\ttest: 41.9081697\tbest: 41.9081697 (674)\ttotal: 10.6s\tremaining: 36.5s\n",
      "675:\tlearn: 39.7584756\ttest: 41.9075749\tbest: 41.9075749 (675)\ttotal: 10.6s\tremaining: 36.5s\n",
      "676:\tlearn: 39.7577108\ttest: 41.9082037\tbest: 41.9075749 (675)\ttotal: 10.6s\tremaining: 36.5s\n",
      "677:\tlearn: 39.7570234\ttest: 41.9073350\tbest: 41.9073350 (677)\ttotal: 10.7s\tremaining: 36.5s\n",
      "678:\tlearn: 39.7567392\ttest: 41.9077834\tbest: 41.9073350 (677)\ttotal: 10.7s\tremaining: 36.5s\n",
      "679:\tlearn: 39.7561281\ttest: 41.9082332\tbest: 41.9073350 (677)\ttotal: 10.7s\tremaining: 36.5s\n",
      "680:\tlearn: 39.7557771\ttest: 41.9083297\tbest: 41.9073350 (677)\ttotal: 10.7s\tremaining: 36.5s\n",
      "681:\tlearn: 39.7555480\ttest: 41.9081789\tbest: 41.9073350 (677)\ttotal: 10.7s\tremaining: 36.5s\n",
      "682:\tlearn: 39.7551051\ttest: 41.9077609\tbest: 41.9073350 (677)\ttotal: 10.7s\tremaining: 36.5s\n",
      "683:\tlearn: 39.7543631\ttest: 41.9071402\tbest: 41.9071402 (683)\ttotal: 10.8s\tremaining: 36.4s\n",
      "684:\tlearn: 39.7538190\ttest: 41.9076554\tbest: 41.9071402 (683)\ttotal: 10.8s\tremaining: 36.4s\n",
      "685:\tlearn: 39.7533812\ttest: 41.9077937\tbest: 41.9071402 (683)\ttotal: 10.8s\tremaining: 36.4s\n",
      "686:\tlearn: 39.7529085\ttest: 41.9079626\tbest: 41.9071402 (683)\ttotal: 10.8s\tremaining: 36.4s\n",
      "687:\tlearn: 39.7521519\ttest: 41.9079380\tbest: 41.9071402 (683)\ttotal: 10.8s\tremaining: 36.4s\n",
      "688:\tlearn: 39.7515483\ttest: 41.9083928\tbest: 41.9071402 (683)\ttotal: 10.8s\tremaining: 36.3s\n",
      "689:\tlearn: 39.7510752\ttest: 41.9081057\tbest: 41.9071402 (683)\ttotal: 10.9s\tremaining: 36.3s\n",
      "690:\tlearn: 39.7507555\ttest: 41.9078707\tbest: 41.9071402 (683)\ttotal: 10.9s\tremaining: 36.3s\n",
      "691:\tlearn: 39.7500471\ttest: 41.9084716\tbest: 41.9071402 (683)\ttotal: 10.9s\tremaining: 36.3s\n",
      "692:\tlearn: 39.7493323\ttest: 41.9082888\tbest: 41.9071402 (683)\ttotal: 10.9s\tremaining: 36.3s\n",
      "693:\tlearn: 39.7491083\ttest: 41.9081434\tbest: 41.9071402 (683)\ttotal: 10.9s\tremaining: 36.3s\n",
      "694:\tlearn: 39.7481464\ttest: 41.9084163\tbest: 41.9071402 (683)\ttotal: 10.9s\tremaining: 36.3s\n",
      "695:\tlearn: 39.7473108\ttest: 41.9084703\tbest: 41.9071402 (683)\ttotal: 10.9s\tremaining: 36.2s\n",
      "696:\tlearn: 39.7467805\ttest: 41.9080963\tbest: 41.9071402 (683)\ttotal: 11s\tremaining: 36.2s\n",
      "697:\tlearn: 39.7462821\ttest: 41.9090873\tbest: 41.9071402 (683)\ttotal: 11s\tremaining: 36.2s\n",
      "698:\tlearn: 39.7459307\ttest: 41.9093483\tbest: 41.9071402 (683)\ttotal: 11s\tremaining: 36.2s\n",
      "699:\tlearn: 39.7451515\ttest: 41.9100596\tbest: 41.9071402 (683)\ttotal: 11s\tremaining: 36.2s\n",
      "700:\tlearn: 39.7446242\ttest: 41.9102837\tbest: 41.9071402 (683)\ttotal: 11s\tremaining: 36.2s\n",
      "701:\tlearn: 39.7441322\ttest: 41.9111065\tbest: 41.9071402 (683)\ttotal: 11s\tremaining: 36.2s\n",
      "702:\tlearn: 39.7432878\ttest: 41.9104957\tbest: 41.9071402 (683)\ttotal: 11.1s\tremaining: 36.1s\n",
      "703:\tlearn: 39.7424967\ttest: 41.9101683\tbest: 41.9071402 (683)\ttotal: 11.1s\tremaining: 36.1s\n",
      "704:\tlearn: 39.7422419\ttest: 41.9101350\tbest: 41.9071402 (683)\ttotal: 11.1s\tremaining: 36.1s\n",
      "705:\tlearn: 39.7414742\ttest: 41.9101580\tbest: 41.9071402 (683)\ttotal: 11.1s\tremaining: 36.1s\n",
      "706:\tlearn: 39.7412410\ttest: 41.9107427\tbest: 41.9071402 (683)\ttotal: 11.1s\tremaining: 36.1s\n",
      "707:\tlearn: 39.7408579\ttest: 41.9109781\tbest: 41.9071402 (683)\ttotal: 11.1s\tremaining: 36s\n",
      "708:\tlearn: 39.7403775\ttest: 41.9116518\tbest: 41.9071402 (683)\ttotal: 11.1s\tremaining: 36s\n",
      "709:\tlearn: 39.7402155\ttest: 41.9113933\tbest: 41.9071402 (683)\ttotal: 11.2s\tremaining: 36s\n",
      "710:\tlearn: 39.7394881\ttest: 41.9117297\tbest: 41.9071402 (683)\ttotal: 11.2s\tremaining: 36s\n",
      "711:\tlearn: 39.7386329\ttest: 41.9120539\tbest: 41.9071402 (683)\ttotal: 11.2s\tremaining: 35.9s\n",
      "712:\tlearn: 39.7378476\ttest: 41.9116909\tbest: 41.9071402 (683)\ttotal: 11.2s\tremaining: 35.9s\n",
      "713:\tlearn: 39.7371748\ttest: 41.9114584\tbest: 41.9071402 (683)\ttotal: 11.2s\tremaining: 35.9s\n",
      "714:\tlearn: 39.7368992\ttest: 41.9113196\tbest: 41.9071402 (683)\ttotal: 11.2s\tremaining: 35.9s\n",
      "715:\tlearn: 39.7361116\ttest: 41.9123414\tbest: 41.9071402 (683)\ttotal: 11.3s\tremaining: 35.9s\n",
      "716:\tlearn: 39.7358292\ttest: 41.9128706\tbest: 41.9071402 (683)\ttotal: 11.3s\tremaining: 35.9s\n",
      "717:\tlearn: 39.7352237\ttest: 41.9130249\tbest: 41.9071402 (683)\ttotal: 11.3s\tremaining: 35.9s\n",
      "718:\tlearn: 39.7346403\ttest: 41.9125902\tbest: 41.9071402 (683)\ttotal: 11.3s\tremaining: 35.9s\n",
      "719:\tlearn: 39.7341885\ttest: 41.9130682\tbest: 41.9071402 (683)\ttotal: 11.3s\tremaining: 35.9s\n",
      "720:\tlearn: 39.7336738\ttest: 41.9134873\tbest: 41.9071402 (683)\ttotal: 11.3s\tremaining: 35.9s\n",
      "721:\tlearn: 39.7332065\ttest: 41.9136371\tbest: 41.9071402 (683)\ttotal: 11.4s\tremaining: 35.8s\n",
      "722:\tlearn: 39.7324680\ttest: 41.9132733\tbest: 41.9071402 (683)\ttotal: 11.4s\tremaining: 35.8s\n",
      "723:\tlearn: 39.7317431\ttest: 41.9132411\tbest: 41.9071402 (683)\ttotal: 11.4s\tremaining: 35.8s\n",
      "724:\tlearn: 39.7311677\ttest: 41.9128543\tbest: 41.9071402 (683)\ttotal: 11.4s\tremaining: 35.8s\n",
      "725:\tlearn: 39.7305021\ttest: 41.9129370\tbest: 41.9071402 (683)\ttotal: 11.4s\tremaining: 35.8s\n",
      "726:\tlearn: 39.7303281\ttest: 41.9129832\tbest: 41.9071402 (683)\ttotal: 11.4s\tremaining: 35.7s\n",
      "727:\tlearn: 39.7298566\ttest: 41.9127457\tbest: 41.9071402 (683)\ttotal: 11.4s\tremaining: 35.7s\n",
      "728:\tlearn: 39.7292791\ttest: 41.9126453\tbest: 41.9071402 (683)\ttotal: 11.5s\tremaining: 35.7s\n",
      "729:\tlearn: 39.7287860\ttest: 41.9132810\tbest: 41.9071402 (683)\ttotal: 11.5s\tremaining: 35.7s\n",
      "730:\tlearn: 39.7284399\ttest: 41.9135148\tbest: 41.9071402 (683)\ttotal: 11.5s\tremaining: 35.7s\n",
      "731:\tlearn: 39.7282344\ttest: 41.9141376\tbest: 41.9071402 (683)\ttotal: 11.5s\tremaining: 35.7s\n",
      "732:\tlearn: 39.7279488\ttest: 41.9137050\tbest: 41.9071402 (683)\ttotal: 11.5s\tremaining: 35.6s\n",
      "733:\tlearn: 39.7271125\ttest: 41.9136712\tbest: 41.9071402 (683)\ttotal: 11.5s\tremaining: 35.6s\n",
      "Stopped by overfitting detector  (50 iterations wait)\n",
      "\n",
      "bestTest = 41.90714023\n",
      "bestIteration = 683\n",
      "\n",
      "Shrink model to first 684 iterations.\n"
     ]
    },
    {
     "data": {
      "text/plain": [
       "<catboost.core.CatBoostRegressor at 0x7f9e8b2331c0>"
      ]
     },
     "execution_count": 27,
     "metadata": {},
     "output_type": "execute_result"
    }
   ],
   "source": [
    "clf.fit(X_train, y_train, eval_set= (X_test, y_test), early_stopping_rounds=50)"
   ]
  },
  {
   "cell_type": "markdown",
   "metadata": {},
   "source": [
    "41.74\n"
   ]
  },
  {
   "cell_type": "code",
   "execution_count": 28,
   "metadata": {},
   "outputs": [],
   "source": [
    "preds = clf.predict(X_test)"
   ]
  },
  {
   "cell_type": "code",
   "execution_count": 29,
   "metadata": {},
   "outputs": [],
   "source": [
    "from sklearn.metrics import check_scoring"
   ]
  },
  {
   "cell_type": "code",
   "execution_count": 33,
   "metadata": {},
   "outputs": [
    {
     "ename": "",
     "evalue": "",
     "output_type": "error",
     "traceback": [
      "\u001b[1;31mCanceled future for execute_request message before replies were done"
     ]
    },
    {
     "ename": "",
     "evalue": "",
     "output_type": "error",
     "traceback": [
      "\u001b[1;31mThe Kernel crashed while executing code in the the current cell or a previous cell. Please review the code in the cell(s) to identify a possible cause of the failure. Click <a href='https://aka.ms/vscodeJupyterKernelCrash'>here</a> for more info. View Jupyter <a href='command:jupyter.viewOutput'>log</a> for further details."
     ]
    }
   ],
   "source": [
    "clf.score(X_test, y_test)"
   ]
  },
  {
   "cell_type": "code",
   "execution_count": null,
   "metadata": {},
   "outputs": [
    {
     "ename": "",
     "evalue": "",
     "output_type": "error",
     "traceback": [
      "\u001b[1;31mCanceled future for execute_request message before replies were done"
     ]
    },
    {
     "ename": "",
     "evalue": "",
     "output_type": "error",
     "traceback": [
      "\u001b[1;31mThe Kernel crashed while executing code in the the current cell or a previous cell. Please review the code in the cell(s) to identify a possible cause of the failure. Click <a href='https://aka.ms/vscodeJupyterKernelCrash'>here</a> for more info. View Jupyter <a href='command:jupyter.viewOutput'>log</a> for further details."
     ]
    }
   ],
   "source": [
    "from eli5.sklearn import PermutationImportance\n",
    "perm = PermutationImportance(clf, n_iter = 2).fit(X_test,y_test)\n",
    "#from sklearn.inspection import permutation_importance\n",
    "#permutation_importance(clf, X_test, y_test, n_jobs=1)\n"
   ]
  },
  {
   "cell_type": "code",
   "execution_count": null,
   "metadata": {},
   "outputs": [],
   "source": []
  },
  {
   "cell_type": "code",
   "execution_count": null,
   "metadata": {},
   "outputs": [],
   "source": [
    "flat_y_test = y_test.values.flatten()"
   ]
  },
  {
   "cell_type": "code",
   "execution_count": null,
   "metadata": {},
   "outputs": [],
   "source": [
    "residuals = preds - flat_y_test"
   ]
  },
  {
   "cell_type": "code",
   "execution_count": null,
   "metadata": {},
   "outputs": [],
   "source": [
    "import matplotlib.pyplot as plt"
   ]
  },
  {
   "cell_type": "code",
   "execution_count": null,
   "metadata": {},
   "outputs": [],
   "source": [
    "def plot_residuals(residuals, bins =40):\n",
    "    fig = plt.figure()\n",
    "    ax = fig.gca()\n",
    "    ax.cla()\n",
    "    ax.hist(residuals, bins = bins)\n",
    "    return fig\n"
   ]
  },
  {
   "cell_type": "code",
   "execution_count": null,
   "metadata": {},
   "outputs": [
    {
     "data": {
      "image/png": "[encoded data removed]",
      "text/plain": [
       "<Figure size 432x288 with 1 Axes>"
      ]
     },
     "execution_count": 160,
     "metadata": {},
     "output_type": "execute_result"
    },
    {
     "data": {
      "image/png": "[encoded data removed]",
      "text/plain": [
       "<Figure size 432x288 with 1 Axes>"
      ]
     },
     "metadata": {
      "needs_background": "light"
     },
     "output_type": "display_data"
    }
   ],
   "source": [
    "plot_residuals(residuals)"
   ]
  },
  {
   "cell_type": "code",
   "execution_count": null,
   "metadata": {},
   "outputs": [
    {
     "name": "stderr",
     "output_type": "stream",
     "text": [
      "/var/folders/v3/nvp5qny9761b98yy3p9n041h0000gq/T/ipykernel_70518/917844508.py:1: SettingWithCopyWarning: \n",
      "A value is trying to be set on a copy of a slice from a DataFrame.\n",
      "Try using .loc[row_indexer,col_indexer] = value instead\n",
      "\n",
      "See the caveats in the documentation: https://pandas.pydata.org/pandas-docs/stable/user_guide/indexing.html#returning-a-view-versus-a-copy\n",
      "  X_test['preds'] = preds\n",
      "/var/folders/v3/nvp5qny9761b98yy3p9n041h0000gq/T/ipykernel_70518/917844508.py:2: SettingWithCopyWarning: \n",
      "A value is trying to be set on a copy of a slice from a DataFrame.\n",
      "Try using .loc[row_indexer,col_indexer] = value instead\n",
      "\n",
      "See the caveats in the documentation: https://pandas.pydata.org/pandas-docs/stable/user_guide/indexing.html#returning-a-view-versus-a-copy\n",
      "  X_test['actual'] = y_test\n",
      "/var/folders/v3/nvp5qny9761b98yy3p9n041h0000gq/T/ipykernel_70518/917844508.py:3: SettingWithCopyWarning: \n",
      "A value is trying to be set on a copy of a slice from a DataFrame.\n",
      "Try using .loc[row_indexer,col_indexer] = value instead\n",
      "\n",
      "See the caveats in the documentation: https://pandas.pydata.org/pandas-docs/stable/user_guide/indexing.html#returning-a-view-versus-a-copy\n",
      "  X_test['residuals'] = preds - flat_y_test\n"
     ]
    }
   ],
   "source": [
    "X_test['preds'] = preds\n",
    "X_test['actual'] = y_test\n",
    "X_test['residuals'] = preds - flat_y_test"
   ]
  },
  {
   "cell_type": "code",
   "execution_count": null,
   "metadata": {},
   "outputs": [],
   "source": [
    "from sklearn.metrics import mean_squared_error"
   ]
  },
  {
   "cell_type": "code",
   "execution_count": null,
   "metadata": {},
   "outputs": [],
   "source": [
    "import numpy as np"
   ]
  },
  {
   "cell_type": "code",
   "execution_count": null,
   "metadata": {},
   "outputs": [
    {
     "data": {
      "text/plain": [
       "41.907140228229245"
      ]
     },
     "execution_count": 98,
     "metadata": {},
     "output_type": "execute_result"
    }
   ],
   "source": [
    "np.sqrt(mean_squared_error(y_test, preds))"
   ]
  },
  {
   "cell_type": "code",
   "execution_count": null,
   "metadata": {},
   "outputs": [
    {
     "data": {
      "text/html": [
       "<div>\n",
       "<style scoped>\n",
       "    .dataframe tbody tr th:only-of-type {\n",
       "        vertical-align: middle;\n",
       "    }\n",
       "\n",
       "    .dataframe tbody tr th {\n",
       "        vertical-align: top;\n",
       "    }\n",
       "\n",
       "    .dataframe thead th {\n",
       "        text-align: right;\n",
       "    }\n",
       "</style>\n",
       "<table border=\"1\" class=\"dataframe\">\n",
       "  <thead>\n",
       "    <tr style=\"text-align: right;\">\n",
       "      <th></th>\n",
       "      <th>current_runs</th>\n",
       "      <th>current_wickets</th>\n",
       "      <th>overall_ball_n</th>\n",
       "      <th>preds</th>\n",
       "      <th>actual</th>\n",
       "      <th>residuals</th>\n",
       "    </tr>\n",
       "  </thead>\n",
       "  <tbody>\n",
       "    <tr>\n",
       "      <th>0</th>\n",
       "      <td>0</td>\n",
       "      <td>0</td>\n",
       "      <td>0</td>\n",
       "      <td>246.461016</td>\n",
       "      <td>276</td>\n",
       "      <td>-29.538984</td>\n",
       "    </tr>\n",
       "    <tr>\n",
       "      <th>1</th>\n",
       "      <td>0</td>\n",
       "      <td>0</td>\n",
       "      <td>1</td>\n",
       "      <td>246.461016</td>\n",
       "      <td>276</td>\n",
       "      <td>-29.538984</td>\n",
       "    </tr>\n",
       "    <tr>\n",
       "      <th>2</th>\n",
       "      <td>0</td>\n",
       "      <td>0</td>\n",
       "      <td>2</td>\n",
       "      <td>246.461016</td>\n",
       "      <td>276</td>\n",
       "      <td>-29.538984</td>\n",
       "    </tr>\n",
       "    <tr>\n",
       "      <th>3</th>\n",
       "      <td>1</td>\n",
       "      <td>0</td>\n",
       "      <td>3</td>\n",
       "      <td>246.846156</td>\n",
       "      <td>276</td>\n",
       "      <td>-29.153844</td>\n",
       "    </tr>\n",
       "    <tr>\n",
       "      <th>4</th>\n",
       "      <td>1</td>\n",
       "      <td>0</td>\n",
       "      <td>4</td>\n",
       "      <td>246.846156</td>\n",
       "      <td>276</td>\n",
       "      <td>-29.153844</td>\n",
       "    </tr>\n",
       "    <tr>\n",
       "      <th>...</th>\n",
       "      <td>...</td>\n",
       "      <td>...</td>\n",
       "      <td>...</td>\n",
       "      <td>...</td>\n",
       "      <td>...</td>\n",
       "      <td>...</td>\n",
       "    </tr>\n",
       "    <tr>\n",
       "      <th>164</th>\n",
       "      <td>117</td>\n",
       "      <td>9</td>\n",
       "      <td>164</td>\n",
       "      <td>130.577840</td>\n",
       "      <td>117</td>\n",
       "      <td>13.577840</td>\n",
       "    </tr>\n",
       "    <tr>\n",
       "      <th>165</th>\n",
       "      <td>117</td>\n",
       "      <td>9</td>\n",
       "      <td>165</td>\n",
       "      <td>130.626204</td>\n",
       "      <td>117</td>\n",
       "      <td>13.626204</td>\n",
       "    </tr>\n",
       "    <tr>\n",
       "      <th>166</th>\n",
       "      <td>117</td>\n",
       "      <td>9</td>\n",
       "      <td>166</td>\n",
       "      <td>130.943218</td>\n",
       "      <td>117</td>\n",
       "      <td>13.943218</td>\n",
       "    </tr>\n",
       "    <tr>\n",
       "      <th>167</th>\n",
       "      <td>117</td>\n",
       "      <td>9</td>\n",
       "      <td>167</td>\n",
       "      <td>130.753063</td>\n",
       "      <td>117</td>\n",
       "      <td>13.753063</td>\n",
       "    </tr>\n",
       "    <tr>\n",
       "      <th>168</th>\n",
       "      <td>117</td>\n",
       "      <td>10</td>\n",
       "      <td>168</td>\n",
       "      <td>123.215832</td>\n",
       "      <td>117</td>\n",
       "      <td>6.215832</td>\n",
       "    </tr>\n",
       "  </tbody>\n",
       "</table>\n",
       "<p>109628 rows × 6 columns</p>\n",
       "</div>"
      ],
      "text/plain": [
       "     current_runs  current_wickets  overall_ball_n       preds  actual  \\\n",
       "0               0                0               0  246.461016     276   \n",
       "1               0                0               1  246.461016     276   \n",
       "2               0                0               2  246.461016     276   \n",
       "3               1                0               3  246.846156     276   \n",
       "4               1                0               4  246.846156     276   \n",
       "..            ...              ...             ...         ...     ...   \n",
       "164           117                9             164  130.577840     117   \n",
       "165           117                9             165  130.626204     117   \n",
       "166           117                9             166  130.943218     117   \n",
       "167           117                9             167  130.753063     117   \n",
       "168           117               10             168  123.215832     117   \n",
       "\n",
       "     residuals  \n",
       "0   -29.538984  \n",
       "1   -29.538984  \n",
       "2   -29.538984  \n",
       "3   -29.153844  \n",
       "4   -29.153844  \n",
       "..         ...  \n",
       "164  13.577840  \n",
       "165  13.626204  \n",
       "166  13.943218  \n",
       "167  13.753063  \n",
       "168   6.215832  \n",
       "\n",
       "[109628 rows x 6 columns]"
      ]
     },
     "execution_count": 99,
     "metadata": {},
     "output_type": "execute_result"
    }
   ],
   "source": [
    "X_test"
   ]
  },
  {
   "cell_type": "code",
   "execution_count": null,
   "metadata": {},
   "outputs": [
    {
     "data": {
      "text/plain": [
       "(array([ 2.,  6., 14., 51., 94., 79., 70., 37., 12.,  3.]),\n",
       " array([-121.54678873,  -98.10839836,  -74.67000799,  -51.23161762,\n",
       "         -27.79322725,   -4.35483688,   19.08355349,   42.52194386,\n",
       "          65.96033423,   89.3987246 ,  112.83711497]),\n",
       " <BarContainer object of 10 artists>)"
      ]
     },
     "execution_count": 100,
     "metadata": {},
     "output_type": "execute_result"
    },
    {
     "data": {
      "image/png": "[encoded data removed]",
      "text/plain": [
       "<Figure size 432x288 with 1 Axes>"
      ]
     },
     "metadata": {
      "needs_background": "light"
     },
     "output_type": "display_data"
    }
   ],
   "source": [
    "plt.hist(X_test[X_test.overall_ball_n == 150]['residuals'])"
   ]
  },
  {
   "cell_type": "code",
   "execution_count": null,
   "metadata": {},
   "outputs": [],
   "source": [
    "mid_way = X_test[X_test.overall_ball_n == 10]"
   ]
  },
  {
   "cell_type": "code",
   "execution_count": null,
   "metadata": {},
   "outputs": [
    {
     "data": {
      "text/html": [
       "<div>\n",
       "<style scoped>\n",
       "    .dataframe tbody tr th:only-of-type {\n",
       "        vertical-align: middle;\n",
       "    }\n",
       "\n",
       "    .dataframe tbody tr th {\n",
       "        vertical-align: top;\n",
       "    }\n",
       "\n",
       "    .dataframe thead th {\n",
       "        text-align: right;\n",
       "    }\n",
       "</style>\n",
       "<table border=\"1\" class=\"dataframe\">\n",
       "  <thead>\n",
       "    <tr style=\"text-align: right;\">\n",
       "      <th></th>\n",
       "      <th>current_runs</th>\n",
       "      <th>current_wickets</th>\n",
       "      <th>overall_ball_n</th>\n",
       "      <th>preds</th>\n",
       "      <th>actual</th>\n",
       "      <th>residuals</th>\n",
       "    </tr>\n",
       "  </thead>\n",
       "  <tbody>\n",
       "    <tr>\n",
       "      <th>10</th>\n",
       "      <td>4</td>\n",
       "      <td>0</td>\n",
       "      <td>10</td>\n",
       "      <td>244.688674</td>\n",
       "      <td>276</td>\n",
       "      <td>-31.311326</td>\n",
       "    </tr>\n",
       "    <tr>\n",
       "      <th>10</th>\n",
       "      <td>7</td>\n",
       "      <td>0</td>\n",
       "      <td>10</td>\n",
       "      <td>254.198974</td>\n",
       "      <td>181</td>\n",
       "      <td>73.198974</td>\n",
       "    </tr>\n",
       "    <tr>\n",
       "      <th>10</th>\n",
       "      <td>10</td>\n",
       "      <td>1</td>\n",
       "      <td>10</td>\n",
       "      <td>241.213434</td>\n",
       "      <td>203</td>\n",
       "      <td>38.213434</td>\n",
       "    </tr>\n",
       "    <tr>\n",
       "      <th>10</th>\n",
       "      <td>0</td>\n",
       "      <td>0</td>\n",
       "      <td>10</td>\n",
       "      <td>237.230380</td>\n",
       "      <td>309</td>\n",
       "      <td>-71.769620</td>\n",
       "    </tr>\n",
       "    <tr>\n",
       "      <th>10</th>\n",
       "      <td>6</td>\n",
       "      <td>0</td>\n",
       "      <td>10</td>\n",
       "      <td>251.512974</td>\n",
       "      <td>375</td>\n",
       "      <td>-123.487026</td>\n",
       "    </tr>\n",
       "    <tr>\n",
       "      <th>...</th>\n",
       "      <td>...</td>\n",
       "      <td>...</td>\n",
       "      <td>...</td>\n",
       "      <td>...</td>\n",
       "      <td>...</td>\n",
       "      <td>...</td>\n",
       "    </tr>\n",
       "    <tr>\n",
       "      <th>10</th>\n",
       "      <td>1</td>\n",
       "      <td>0</td>\n",
       "      <td>10</td>\n",
       "      <td>239.098302</td>\n",
       "      <td>170</td>\n",
       "      <td>69.098302</td>\n",
       "    </tr>\n",
       "    <tr>\n",
       "      <th>10</th>\n",
       "      <td>14</td>\n",
       "      <td>0</td>\n",
       "      <td>10</td>\n",
       "      <td>277.670412</td>\n",
       "      <td>265</td>\n",
       "      <td>12.670412</td>\n",
       "    </tr>\n",
       "    <tr>\n",
       "      <th>10</th>\n",
       "      <td>13</td>\n",
       "      <td>0</td>\n",
       "      <td>10</td>\n",
       "      <td>276.624793</td>\n",
       "      <td>128</td>\n",
       "      <td>148.624793</td>\n",
       "    </tr>\n",
       "    <tr>\n",
       "      <th>10</th>\n",
       "      <td>4</td>\n",
       "      <td>0</td>\n",
       "      <td>10</td>\n",
       "      <td>244.688674</td>\n",
       "      <td>230</td>\n",
       "      <td>14.688674</td>\n",
       "    </tr>\n",
       "    <tr>\n",
       "      <th>10</th>\n",
       "      <td>0</td>\n",
       "      <td>0</td>\n",
       "      <td>10</td>\n",
       "      <td>237.230380</td>\n",
       "      <td>117</td>\n",
       "      <td>120.230380</td>\n",
       "    </tr>\n",
       "  </tbody>\n",
       "</table>\n",
       "<p>372 rows × 6 columns</p>\n",
       "</div>"
      ],
      "text/plain": [
       "    current_runs  current_wickets  overall_ball_n       preds  actual  \\\n",
       "10             4                0              10  244.688674     276   \n",
       "10             7                0              10  254.198974     181   \n",
       "10            10                1              10  241.213434     203   \n",
       "10             0                0              10  237.230380     309   \n",
       "10             6                0              10  251.512974     375   \n",
       "..           ...              ...             ...         ...     ...   \n",
       "10             1                0              10  239.098302     170   \n",
       "10            14                0              10  277.670412     265   \n",
       "10            13                0              10  276.624793     128   \n",
       "10             4                0              10  244.688674     230   \n",
       "10             0                0              10  237.230380     117   \n",
       "\n",
       "     residuals  \n",
       "10  -31.311326  \n",
       "10   73.198974  \n",
       "10   38.213434  \n",
       "10  -71.769620  \n",
       "10 -123.487026  \n",
       "..         ...  \n",
       "10   69.098302  \n",
       "10   12.670412  \n",
       "10  148.624793  \n",
       "10   14.688674  \n",
       "10  120.230380  \n",
       "\n",
       "[372 rows x 6 columns]"
      ]
     },
     "execution_count": 102,
     "metadata": {},
     "output_type": "execute_result"
    }
   ],
   "source": [
    "mid_way"
   ]
  },
  {
   "cell_type": "code",
   "execution_count": null,
   "metadata": {},
   "outputs": [
    {
     "data": {
      "text/plain": [
       "66.40616222337655"
      ]
     },
     "execution_count": 103,
     "metadata": {},
     "output_type": "execute_result"
    }
   ],
   "source": [
    "np.sqrt(mean_squared_error(mid_way['actual'], mid_way['preds']))"
   ]
  },
  {
   "cell_type": "code",
   "execution_count": null,
   "metadata": {},
   "outputs": [],
   "source": [
    "def rmse_at_balls(test_df, balls):\n",
    "    ball_df = test_df[test_df.overall_ball_n == balls]\n",
    "    return np.sqrt(mean_squared_error(ball_df['actual'], ball_df['preds']))"
   ]
  },
  {
   "cell_type": "code",
   "execution_count": null,
   "metadata": {},
   "outputs": [
    {
     "data": {
      "text/plain": [
       "66.16754705566882"
      ]
     },
     "execution_count": 105,
     "metadata": {},
     "output_type": "execute_result"
    }
   ],
   "source": [
    "rmse_at_balls(X_test, 11)"
   ]
  },
  {
   "cell_type": "code",
   "execution_count": null,
   "metadata": {},
   "outputs": [],
   "source": [
    "rmse_x = []\n",
    "rmse_y = []\n",
    "for i in range(12, 270):\n",
    "    rmse_x.append(i)\n",
    "    rmse_y.append(rmse_at_balls(X_test, i))\n"
   ]
  },
  {
   "cell_type": "code",
   "execution_count": null,
   "metadata": {},
   "outputs": [
    {
     "data": {
      "text/plain": [
       "[<matplotlib.lines.Line2D at 0x7fba6af49d50>]"
      ]
     },
     "execution_count": 107,
     "metadata": {},
     "output_type": "execute_result"
    },
    {
     "data": {
      "image/png": "[encoded data removed]",
      "text/plain": [
       "<Figure size 432x288 with 1 Axes>"
      ]
     },
     "metadata": {
      "needs_background": "light"
     },
     "output_type": "display_data"
    }
   ],
   "source": [
    "plt.plot(rmse_x, rmse_y)"
   ]
  },
  {
   "cell_type": "code",
   "execution_count": null,
   "metadata": {},
   "outputs": [],
   "source": [
    "def rmse_team(test_df, country):\n",
    "    country_df = test_df[test_df.batting_team == country]\n",
    "    return np.sqrt(mean_squared_error(country_df['actual'], country_df['preds']))"
   ]
  },
  {
   "cell_type": "code",
   "execution_count": null,
   "metadata": {},
   "outputs": [
    {
     "ename": "AttributeError",
     "evalue": "'DataFrame' object has no attribute 'batting_team'",
     "output_type": "error",
     "traceback": [
      "\u001b[0;31m---------------------------------------------------------------------------\u001b[0m",
      "\u001b[0;31mAttributeError\u001b[0m                            Traceback (most recent call last)",
      "\u001b[1;32m/Users/TimothyW/Fun/cricket_prediction/notebooks/regression.ipynb Cell 41'\u001b[0m in \u001b[0;36m<cell line: 1>\u001b[0;34m()\u001b[0m\n\u001b[0;32m----> <a href='vscode-notebook-cell:/Users/TimothyW/Fun/cricket_prediction/notebooks/regression.ipynb#ch0000042?line=0'>1</a>\u001b[0m rmse_team(X_test, \u001b[39m'\u001b[39;49m\u001b[39mSri Lanka\u001b[39;49m\u001b[39m'\u001b[39;49m)\n",
      "\u001b[1;32m/Users/TimothyW/Fun/cricket_prediction/notebooks/regression.ipynb Cell 40'\u001b[0m in \u001b[0;36mrmse_team\u001b[0;34m(test_df, country)\u001b[0m\n\u001b[1;32m      <a href='vscode-notebook-cell:/Users/TimothyW/Fun/cricket_prediction/notebooks/regression.ipynb#ch0000035?line=0'>1</a>\u001b[0m \u001b[39mdef\u001b[39;00m \u001b[39mrmse_team\u001b[39m(test_df, country):\n\u001b[0;32m----> <a href='vscode-notebook-cell:/Users/TimothyW/Fun/cricket_prediction/notebooks/regression.ipynb#ch0000035?line=1'>2</a>\u001b[0m     country_df \u001b[39m=\u001b[39m test_df[test_df\u001b[39m.\u001b[39;49mbatting_team \u001b[39m==\u001b[39m country]\n\u001b[1;32m      <a href='vscode-notebook-cell:/Users/TimothyW/Fun/cricket_prediction/notebooks/regression.ipynb#ch0000035?line=2'>3</a>\u001b[0m     \u001b[39mreturn\u001b[39;00m np\u001b[39m.\u001b[39msqrt(mean_squared_error(country_df[\u001b[39m'\u001b[39m\u001b[39mactual\u001b[39m\u001b[39m'\u001b[39m], country_df[\u001b[39m'\u001b[39m\u001b[39mpreds\u001b[39m\u001b[39m'\u001b[39m]))\n",
      "File \u001b[0;32m~/anaconda3/envs/cricket_prediction/lib/python3.10/site-packages/pandas/core/generic.py:5575\u001b[0m, in \u001b[0;36mNDFrame.__getattr__\u001b[0;34m(self, name)\u001b[0m\n\u001b[1;32m   <a href='file:///Users/TimothyW/anaconda3/envs/cricket_prediction/lib/python3.10/site-packages/pandas/core/generic.py?line=5567'>5568</a>\u001b[0m \u001b[39mif\u001b[39;00m (\n\u001b[1;32m   <a href='file:///Users/TimothyW/anaconda3/envs/cricket_prediction/lib/python3.10/site-packages/pandas/core/generic.py?line=5568'>5569</a>\u001b[0m     name \u001b[39mnot\u001b[39;00m \u001b[39min\u001b[39;00m \u001b[39mself\u001b[39m\u001b[39m.\u001b[39m_internal_names_set\n\u001b[1;32m   <a href='file:///Users/TimothyW/anaconda3/envs/cricket_prediction/lib/python3.10/site-packages/pandas/core/generic.py?line=5569'>5570</a>\u001b[0m     \u001b[39mand\u001b[39;00m name \u001b[39mnot\u001b[39;00m \u001b[39min\u001b[39;00m \u001b[39mself\u001b[39m\u001b[39m.\u001b[39m_metadata\n\u001b[1;32m   <a href='file:///Users/TimothyW/anaconda3/envs/cricket_prediction/lib/python3.10/site-packages/pandas/core/generic.py?line=5570'>5571</a>\u001b[0m     \u001b[39mand\u001b[39;00m name \u001b[39mnot\u001b[39;00m \u001b[39min\u001b[39;00m \u001b[39mself\u001b[39m\u001b[39m.\u001b[39m_accessors\n\u001b[1;32m   <a href='file:///Users/TimothyW/anaconda3/envs/cricket_prediction/lib/python3.10/site-packages/pandas/core/generic.py?line=5571'>5572</a>\u001b[0m     \u001b[39mand\u001b[39;00m \u001b[39mself\u001b[39m\u001b[39m.\u001b[39m_info_axis\u001b[39m.\u001b[39m_can_hold_identifiers_and_holds_name(name)\n\u001b[1;32m   <a href='file:///Users/TimothyW/anaconda3/envs/cricket_prediction/lib/python3.10/site-packages/pandas/core/generic.py?line=5572'>5573</a>\u001b[0m ):\n\u001b[1;32m   <a href='file:///Users/TimothyW/anaconda3/envs/cricket_prediction/lib/python3.10/site-packages/pandas/core/generic.py?line=5573'>5574</a>\u001b[0m     \u001b[39mreturn\u001b[39;00m \u001b[39mself\u001b[39m[name]\n\u001b[0;32m-> <a href='file:///Users/TimothyW/anaconda3/envs/cricket_prediction/lib/python3.10/site-packages/pandas/core/generic.py?line=5574'>5575</a>\u001b[0m \u001b[39mreturn\u001b[39;00m \u001b[39mobject\u001b[39;49m\u001b[39m.\u001b[39;49m\u001b[39m__getattribute__\u001b[39;49m(\u001b[39mself\u001b[39;49m, name)\n",
      "\u001b[0;31mAttributeError\u001b[0m: 'DataFrame' object has no attribute 'batting_team'"
     ]
    }
   ],
   "source": [
    "rmse_team(X_test, 'Sri Lanka')"
   ]
  },
  {
   "cell_type": "code",
   "execution_count": null,
   "metadata": {},
   "outputs": [
    {
     "data": {
      "image/svg+xml": "<?xml version=\"1.0\" encoding=\"UTF-8\" standalone=\"no\"?>\n<!DOCTYPE svg PUBLIC \"-//W3C//DTD SVG 1.1//EN\"\n \"http://www.w3.org/Graphics/SVG/1.1/DTD/svg11.dtd\">\n<!-- Generated by graphviz version 2.50.0 (20211204.2007)\n -->\n<!-- Pages: 1 -->\n<svg width=\"6330pt\" height=\"566pt\"\n viewBox=\"0.00 0.00 6330.00 566.00\" xmlns=\"http://www.w3.org/2000/svg\" xmlns:xlink=\"http://www.w3.org/1999/xlink\">\n<g id=\"graph0\" class=\"graph\" transform=\"scale(1 1) rotate(0) translate(4 562)\">\n<polygon fill=\"white\" stroke=\"transparent\" points=\"-4,4 -4,-562 6326,-562 6326,4 -4,4\"/>\n<!-- 0 -->\n<g id=\"node1\" class=\"node\">\n<title>0</title>\n<ellipse fill=\"none\" stroke=\"black\" cx=\"3363\" cy=\"-540\" rx=\"64.19\" ry=\"18\"/>\n<text text-anchor=\"middle\" x=\"3363\" y=\"-536.3\" font-family=\"Times,serif\" font-size=\"14.00\">0, value&gt;130.5</text>\n</g>\n<!-- 1 -->\n<g id=\"node2\" class=\"node\">\n<title>1</title>\n<ellipse fill=\"none\" stroke=\"black\" cx=\"2293\" cy=\"-453\" rx=\"64.19\" ry=\"18\"/>\n<text text-anchor=\"middle\" x=\"2293\" y=\"-449.3\" font-family=\"Times,serif\" font-size=\"14.00\">2, value&gt;175.5</text>\n</g>\n<!-- 0&#45;&gt;1 -->\n<g id=\"edge1\" class=\"edge\">\n<title>0&#45;&gt;1</title>\n<path fill=\"none\" stroke=\"black\" d=\"M3302.02,-534.16C3116.93,-519.45 2562.18,-475.38 2364.19,-459.66\"/>\n<polygon fill=\"black\" stroke=\"black\" points=\"2364.43,-456.16 2354.19,-458.86 2363.88,-463.14 2364.43,-456.16\"/>\n<text text-anchor=\"middle\" x=\"2901.5\" y=\"-492.8\" font-family=\"Times,serif\" font-size=\"14.00\">No</text>\n</g>\n<!-- 2 -->\n<g id=\"node3\" class=\"node\">\n<title>2</title>\n<ellipse fill=\"none\" stroke=\"black\" cx=\"3909\" cy=\"-453\" rx=\"64.19\" ry=\"18\"/>\n<text text-anchor=\"middle\" x=\"3909\" y=\"-449.3\" font-family=\"Times,serif\" font-size=\"14.00\">2, value&gt;175.5</text>\n</g>\n<!-- 0&#45;&gt;2 -->\n<g id=\"edge2\" class=\"edge\">\n<title>0&#45;&gt;2</title>\n<path fill=\"none\" stroke=\"black\" d=\"M3417.85,-530.46C3519.24,-514.68 3735.49,-481.01 3844.02,-464.12\"/>\n<polygon fill=\"black\" stroke=\"black\" points=\"3844.84,-467.53 3854.18,-462.53 3843.76,-460.61 3844.84,-467.53\"/>\n<text text-anchor=\"middle\" x=\"3679.5\" y=\"-492.8\" font-family=\"Times,serif\" font-size=\"14.00\">Yes</text>\n</g>\n<!-- 3 -->\n<g id=\"node4\" class=\"node\">\n<title>3</title>\n<ellipse fill=\"none\" stroke=\"black\" cx=\"1152\" cy=\"-366\" rx=\"55.79\" ry=\"18\"/>\n<text text-anchor=\"middle\" x=\"1152\" y=\"-362.3\" font-family=\"Times,serif\" font-size=\"14.00\">1, value&gt;2.5</text>\n</g>\n<!-- 1&#45;&gt;3 -->\n<g id=\"edge3\" class=\"edge\">\n<title>1&#45;&gt;3</title>\n<path fill=\"none\" stroke=\"black\" d=\"M2231.65,-447.43C2034.31,-432.73 1417.02,-386.74 1215.98,-371.77\"/>\n<polygon fill=\"black\" stroke=\"black\" points=\"1216.11,-368.27 1205.88,-371.01 1215.59,-375.25 1216.11,-368.27\"/>\n<text text-anchor=\"middle\" x=\"1799.5\" y=\"-405.8\" font-family=\"Times,serif\" font-size=\"14.00\">No</text>\n</g>\n<!-- 4 -->\n<g id=\"node5\" class=\"node\">\n<title>4</title>\n<ellipse fill=\"none\" stroke=\"black\" cx=\"2293\" cy=\"-366\" rx=\"55.79\" ry=\"18\"/>\n<text text-anchor=\"middle\" x=\"2293\" y=\"-362.3\" font-family=\"Times,serif\" font-size=\"14.00\">1, value&gt;2.5</text>\n</g>\n<!-- 1&#45;&gt;4 -->\n<g id=\"edge4\" class=\"edge\">\n<title>1&#45;&gt;4</title>\n<path fill=\"none\" stroke=\"black\" d=\"M2293,-434.8C2293,-423.16 2293,-407.55 2293,-394.24\"/>\n<polygon fill=\"black\" stroke=\"black\" points=\"2296.5,-394.18 2293,-384.18 2289.5,-394.18 2296.5,-394.18\"/>\n<text text-anchor=\"middle\" x=\"2303.5\" y=\"-405.8\" font-family=\"Times,serif\" font-size=\"14.00\">Yes</text>\n</g>\n<!-- 5 -->\n<g id=\"node6\" class=\"node\">\n<title>5</title>\n<ellipse fill=\"none\" stroke=\"black\" cx=\"3909\" cy=\"-366\" rx=\"55.79\" ry=\"18\"/>\n<text text-anchor=\"middle\" x=\"3909\" y=\"-362.3\" font-family=\"Times,serif\" font-size=\"14.00\">1, value&gt;2.5</text>\n</g>\n<!-- 2&#45;&gt;5 -->\n<g id=\"edge5\" class=\"edge\">\n<title>2&#45;&gt;5</title>\n<path fill=\"none\" stroke=\"black\" d=\"M3909,-434.8C3909,-423.16 3909,-407.55 3909,-394.24\"/>\n<polygon fill=\"black\" stroke=\"black\" points=\"3912.5,-394.18 3909,-384.18 3905.5,-394.18 3912.5,-394.18\"/>\n<text text-anchor=\"middle\" x=\"3917.5\" y=\"-405.8\" font-family=\"Times,serif\" font-size=\"14.00\">No</text>\n</g>\n<!-- 6 -->\n<g id=\"node7\" class=\"node\">\n<title>6</title>\n<ellipse fill=\"none\" stroke=\"black\" cx=\"5132\" cy=\"-366\" rx=\"55.79\" ry=\"18\"/>\n<text text-anchor=\"middle\" x=\"5132\" y=\"-362.3\" font-family=\"Times,serif\" font-size=\"14.00\">1, value&gt;2.5</text>\n</g>\n<!-- 2&#45;&gt;6 -->\n<g id=\"edge6\" class=\"edge\">\n<title>2&#45;&gt;6</title>\n<path fill=\"none\" stroke=\"black\" d=\"M3970.91,-447.7C4179.57,-433.2 4855.85,-386.19 5067.84,-371.46\"/>\n<polygon fill=\"black\" stroke=\"black\" points=\"5068.14,-374.95 5077.87,-370.76 5067.65,-367.96 5068.14,-374.95\"/>\n<text text-anchor=\"middle\" x=\"4604.5\" y=\"-405.8\" font-family=\"Times,serif\" font-size=\"14.00\">Yes</text>\n</g>\n<!-- 7 -->\n<g id=\"node8\" class=\"node\">\n<title>7</title>\n<ellipse fill=\"none\" stroke=\"black\" cx=\"580\" cy=\"-279\" rx=\"64.19\" ry=\"18\"/>\n<text text-anchor=\"middle\" x=\"580\" y=\"-275.3\" font-family=\"Times,serif\" font-size=\"14.00\">2, value&gt;218.5</text>\n</g>\n<!-- 3&#45;&gt;7 -->\n<g id=\"edge7\" class=\"edge\">\n<title>3&#45;&gt;7</title>\n<path fill=\"none\" stroke=\"black\" d=\"M1102.24,-357.61C998.95,-342.26 761.27,-306.94 645.61,-289.75\"/>\n<polygon fill=\"black\" stroke=\"black\" points=\"645.89,-286.25 635.48,-288.24 644.86,-293.18 645.89,-286.25\"/>\n<text text-anchor=\"middle\" x=\"909.5\" y=\"-318.8\" font-family=\"Times,serif\" font-size=\"14.00\">No</text>\n</g>\n<!-- 8 -->\n<g id=\"node9\" class=\"node\">\n<title>8</title>\n<ellipse fill=\"none\" stroke=\"black\" cx=\"1152\" cy=\"-279\" rx=\"64.19\" ry=\"18\"/>\n<text text-anchor=\"middle\" x=\"1152\" y=\"-275.3\" font-family=\"Times,serif\" font-size=\"14.00\">2, value&gt;218.5</text>\n</g>\n<!-- 3&#45;&gt;8 -->\n<g id=\"edge8\" class=\"edge\">\n<title>3&#45;&gt;8</title>\n<path fill=\"none\" stroke=\"black\" d=\"M1152,-347.8C1152,-336.16 1152,-320.55 1152,-307.24\"/>\n<polygon fill=\"black\" stroke=\"black\" points=\"1155.5,-307.18 1152,-297.18 1148.5,-307.18 1155.5,-307.18\"/>\n<text text-anchor=\"middle\" x=\"1162.5\" y=\"-318.8\" font-family=\"Times,serif\" font-size=\"14.00\">Yes</text>\n</g>\n<!-- 9 -->\n<g id=\"node10\" class=\"node\">\n<title>9</title>\n<ellipse fill=\"none\" stroke=\"black\" cx=\"2130\" cy=\"-279\" rx=\"64.19\" ry=\"18\"/>\n<text text-anchor=\"middle\" x=\"2130\" y=\"-275.3\" font-family=\"Times,serif\" font-size=\"14.00\">2, value&gt;218.5</text>\n</g>\n<!-- 4&#45;&gt;9 -->\n<g id=\"edge9\" class=\"edge\">\n<title>4&#45;&gt;9</title>\n<path fill=\"none\" stroke=\"black\" d=\"M2264.98,-350.39C2238.29,-336.47 2197.89,-315.4 2168.24,-299.94\"/>\n<polygon fill=\"black\" stroke=\"black\" points=\"2169.51,-296.66 2159.03,-295.14 2166.27,-302.86 2169.51,-296.66\"/>\n<text text-anchor=\"middle\" x=\"2230.5\" y=\"-318.8\" font-family=\"Times,serif\" font-size=\"14.00\">No</text>\n</g>\n<!-- 10 -->\n<g id=\"node11\" class=\"node\">\n<title>10</title>\n<ellipse fill=\"none\" stroke=\"black\" cx=\"2564\" cy=\"-279\" rx=\"64.19\" ry=\"18\"/>\n<text text-anchor=\"middle\" x=\"2564\" y=\"-275.3\" font-family=\"Times,serif\" font-size=\"14.00\">2, value&gt;218.5</text>\n</g>\n<!-- 4&#45;&gt;10 -->\n<g id=\"edge10\" class=\"edge\">\n<title>4&#45;&gt;10</title>\n<path fill=\"none\" stroke=\"black\" d=\"M2331.54,-352.91C2379.18,-337.97 2460.39,-312.5 2513.11,-295.96\"/>\n<polygon fill=\"black\" stroke=\"black\" points=\"2514.44,-299.21 2522.93,-292.88 2512.34,-292.53 2514.44,-299.21\"/>\n<text text-anchor=\"middle\" x=\"2455.5\" y=\"-318.8\" font-family=\"Times,serif\" font-size=\"14.00\">Yes</text>\n</g>\n<!-- 11 -->\n<g id=\"node12\" class=\"node\">\n<title>11</title>\n<ellipse fill=\"none\" stroke=\"black\" cx=\"3745\" cy=\"-279\" rx=\"64.19\" ry=\"18\"/>\n<text text-anchor=\"middle\" x=\"3745\" y=\"-275.3\" font-family=\"Times,serif\" font-size=\"14.00\">2, value&gt;218.5</text>\n</g>\n<!-- 5&#45;&gt;11 -->\n<g id=\"edge11\" class=\"edge\">\n<title>5&#45;&gt;11</title>\n<path fill=\"none\" stroke=\"black\" d=\"M3880.81,-350.39C3853.83,-336.41 3812.95,-315.22 3783.09,-299.74\"/>\n<polygon fill=\"black\" stroke=\"black\" points=\"3784.69,-296.63 3774.2,-295.14 3781.47,-302.85 3784.69,-296.63\"/>\n<text text-anchor=\"middle\" x=\"3845.5\" y=\"-318.8\" font-family=\"Times,serif\" font-size=\"14.00\">No</text>\n</g>\n<!-- 12 -->\n<g id=\"node13\" class=\"node\">\n<title>12</title>\n<ellipse fill=\"none\" stroke=\"black\" cx=\"4174\" cy=\"-279\" rx=\"64.19\" ry=\"18\"/>\n<text text-anchor=\"middle\" x=\"4174\" y=\"-275.3\" font-family=\"Times,serif\" font-size=\"14.00\">2, value&gt;218.5</text>\n</g>\n<!-- 5&#45;&gt;12 -->\n<g id=\"edge12\" class=\"edge\">\n<title>5&#45;&gt;12</title>\n<path fill=\"none\" stroke=\"black\" d=\"M3947.25,-352.73C3993.71,-337.83 4072.21,-312.65 4123.57,-296.17\"/>\n<polygon fill=\"black\" stroke=\"black\" points=\"4124.7,-299.49 4133.15,-293.1 4122.56,-292.82 4124.7,-299.49\"/>\n<text text-anchor=\"middle\" x=\"4068.5\" y=\"-318.8\" font-family=\"Times,serif\" font-size=\"14.00\">Yes</text>\n</g>\n<!-- 13 -->\n<g id=\"node14\" class=\"node\">\n<title>13</title>\n<ellipse fill=\"none\" stroke=\"black\" cx=\"5132\" cy=\"-279\" rx=\"64.19\" ry=\"18\"/>\n<text text-anchor=\"middle\" x=\"5132\" y=\"-275.3\" font-family=\"Times,serif\" font-size=\"14.00\">2, value&gt;218.5</text>\n</g>\n<!-- 6&#45;&gt;13 -->\n<g id=\"edge13\" class=\"edge\">\n<title>6&#45;&gt;13</title>\n<path fill=\"none\" stroke=\"black\" d=\"M5132,-347.8C5132,-336.16 5132,-320.55 5132,-307.24\"/>\n<polygon fill=\"black\" stroke=\"black\" points=\"5135.5,-307.18 5132,-297.18 5128.5,-307.18 5135.5,-307.18\"/>\n<text text-anchor=\"middle\" x=\"5140.5\" y=\"-318.8\" font-family=\"Times,serif\" font-size=\"14.00\">No</text>\n</g>\n<!-- 14 -->\n<g id=\"node15\" class=\"node\">\n<title>14</title>\n<ellipse fill=\"none\" stroke=\"black\" cx=\"5724\" cy=\"-279\" rx=\"64.19\" ry=\"18\"/>\n<text text-anchor=\"middle\" x=\"5724\" y=\"-275.3\" font-family=\"Times,serif\" font-size=\"14.00\">2, value&gt;218.5</text>\n</g>\n<!-- 6&#45;&gt;14 -->\n<g id=\"edge14\" class=\"edge\">\n<title>6&#45;&gt;14</title>\n<path fill=\"none\" stroke=\"black\" d=\"M5181.96,-357.83C5288.55,-342.52 5538.23,-306.67 5657.84,-289.5\"/>\n<polygon fill=\"black\" stroke=\"black\" points=\"5658.56,-292.93 5667.96,-288.05 5657.57,-286 5658.56,-292.93\"/>\n<text text-anchor=\"middle\" x=\"5474.5\" y=\"-318.8\" font-family=\"Times,serif\" font-size=\"14.00\">Yes</text>\n</g>\n<!-- 15 -->\n<g id=\"node16\" class=\"node\">\n<title>15</title>\n<ellipse fill=\"none\" stroke=\"black\" cx=\"301\" cy=\"-192\" rx=\"64.19\" ry=\"18\"/>\n<text text-anchor=\"middle\" x=\"301\" y=\"-188.3\" font-family=\"Times,serif\" font-size=\"14.00\">0, value&gt;177.5</text>\n</g>\n<!-- 7&#45;&gt;15 -->\n<g id=\"edge15\" class=\"edge\">\n<title>7&#45;&gt;15</title>\n<path fill=\"none\" stroke=\"black\" d=\"M538.23,-265.27C488.72,-250.19 406.19,-225.05 352.69,-208.75\"/>\n<polygon fill=\"black\" stroke=\"black\" points=\"353.64,-205.38 343.05,-205.81 351.6,-212.07 353.64,-205.38\"/>\n<text text-anchor=\"middle\" x=\"466.5\" y=\"-231.8\" font-family=\"Times,serif\" font-size=\"14.00\">No</text>\n</g>\n<!-- 16 -->\n<g id=\"node17\" class=\"node\">\n<title>16</title>\n<ellipse fill=\"none\" stroke=\"black\" cx=\"580\" cy=\"-192\" rx=\"64.19\" ry=\"18\"/>\n<text text-anchor=\"middle\" x=\"580\" y=\"-188.3\" font-family=\"Times,serif\" font-size=\"14.00\">0, value&gt;177.5</text>\n</g>\n<!-- 7&#45;&gt;16 -->\n<g id=\"edge16\" class=\"edge\">\n<title>7&#45;&gt;16</title>\n<path fill=\"none\" stroke=\"black\" d=\"M580,-260.8C580,-249.16 580,-233.55 580,-220.24\"/>\n<polygon fill=\"black\" stroke=\"black\" points=\"583.5,-220.18 580,-210.18 576.5,-220.18 583.5,-220.18\"/>\n<text text-anchor=\"middle\" x=\"590.5\" y=\"-231.8\" font-family=\"Times,serif\" font-size=\"14.00\">Yes</text>\n</g>\n<!-- 17 -->\n<g id=\"node18\" class=\"node\">\n<title>17</title>\n<ellipse fill=\"none\" stroke=\"black\" cx=\"1092\" cy=\"-192\" rx=\"64.19\" ry=\"18\"/>\n<text text-anchor=\"middle\" x=\"1092\" y=\"-188.3\" font-family=\"Times,serif\" font-size=\"14.00\">0, value&gt;177.5</text>\n</g>\n<!-- 8&#45;&gt;17 -->\n<g id=\"edge17\" class=\"edge\">\n<title>8&#45;&gt;17</title>\n<path fill=\"none\" stroke=\"black\" d=\"M1140.15,-261.21C1131.44,-248.87 1119.45,-231.89 1109.62,-217.97\"/>\n<polygon fill=\"black\" stroke=\"black\" points=\"1112.46,-215.91 1103.83,-209.76 1106.74,-219.95 1112.46,-215.91\"/>\n<text text-anchor=\"middle\" x=\"1134.5\" y=\"-231.8\" font-family=\"Times,serif\" font-size=\"14.00\">No</text>\n</g>\n<!-- 18 -->\n<g id=\"node19\" class=\"node\">\n<title>18</title>\n<ellipse fill=\"none\" stroke=\"black\" cx=\"1265\" cy=\"-192\" rx=\"64.19\" ry=\"18\"/>\n<text text-anchor=\"middle\" x=\"1265\" y=\"-188.3\" font-family=\"Times,serif\" font-size=\"14.00\">0, value&gt;177.5</text>\n</g>\n<!-- 8&#45;&gt;18 -->\n<g id=\"edge18\" class=\"edge\">\n<title>8&#45;&gt;18</title>\n<path fill=\"none\" stroke=\"black\" d=\"M1173.52,-261.81C1191.04,-248.64 1215.94,-229.9 1235.35,-215.3\"/>\n<polygon fill=\"black\" stroke=\"black\" points=\"1237.67,-217.94 1243.56,-209.13 1233.46,-212.34 1237.67,-217.94\"/>\n<text text-anchor=\"middle\" x=\"1226.5\" y=\"-231.8\" font-family=\"Times,serif\" font-size=\"14.00\">Yes</text>\n</g>\n<!-- 19 -->\n<g id=\"node20\" class=\"node\">\n<title>19</title>\n<ellipse fill=\"none\" stroke=\"black\" cx=\"1881\" cy=\"-192\" rx=\"64.19\" ry=\"18\"/>\n<text text-anchor=\"middle\" x=\"1881\" y=\"-188.3\" font-family=\"Times,serif\" font-size=\"14.00\">0, value&gt;177.5</text>\n</g>\n<!-- 9&#45;&gt;19 -->\n<g id=\"edge19\" class=\"edge\">\n<title>9&#45;&gt;19</title>\n<path fill=\"none\" stroke=\"black\" d=\"M2090.82,-264.63C2047.35,-249.79 1977.13,-225.82 1930.04,-209.74\"/>\n<polygon fill=\"black\" stroke=\"black\" points=\"1930.96,-206.36 1920.36,-206.44 1928.7,-212.98 1930.96,-206.36\"/>\n<text text-anchor=\"middle\" x=\"2029.5\" y=\"-231.8\" font-family=\"Times,serif\" font-size=\"14.00\">No</text>\n</g>\n<!-- 20 -->\n<g id=\"node21\" class=\"node\">\n<title>20</title>\n<ellipse fill=\"none\" stroke=\"black\" cx=\"2130\" cy=\"-192\" rx=\"64.19\" ry=\"18\"/>\n<text text-anchor=\"middle\" x=\"2130\" y=\"-188.3\" font-family=\"Times,serif\" font-size=\"14.00\">0, value&gt;177.5</text>\n</g>\n<!-- 9&#45;&gt;20 -->\n<g id=\"edge20\" class=\"edge\">\n<title>9&#45;&gt;20</title>\n<path fill=\"none\" stroke=\"black\" d=\"M2130,-260.8C2130,-249.16 2130,-233.55 2130,-220.24\"/>\n<polygon fill=\"black\" stroke=\"black\" points=\"2133.5,-220.18 2130,-210.18 2126.5,-220.18 2133.5,-220.18\"/>\n<text text-anchor=\"middle\" x=\"2140.5\" y=\"-231.8\" font-family=\"Times,serif\" font-size=\"14.00\">Yes</text>\n</g>\n<!-- 21 -->\n<g id=\"node22\" class=\"node\">\n<title>21</title>\n<ellipse fill=\"none\" stroke=\"black\" cx=\"2564\" cy=\"-192\" rx=\"64.19\" ry=\"18\"/>\n<text text-anchor=\"middle\" x=\"2564\" y=\"-188.3\" font-family=\"Times,serif\" font-size=\"14.00\">0, value&gt;177.5</text>\n</g>\n<!-- 10&#45;&gt;21 -->\n<g id=\"edge21\" class=\"edge\">\n<title>10&#45;&gt;21</title>\n<path fill=\"none\" stroke=\"black\" d=\"M2564,-260.8C2564,-249.16 2564,-233.55 2564,-220.24\"/>\n<polygon fill=\"black\" stroke=\"black\" points=\"2567.5,-220.18 2564,-210.18 2560.5,-220.18 2567.5,-220.18\"/>\n<text text-anchor=\"middle\" x=\"2572.5\" y=\"-231.8\" font-family=\"Times,serif\" font-size=\"14.00\">No</text>\n</g>\n<!-- 22 -->\n<g id=\"node23\" class=\"node\">\n<title>22</title>\n<ellipse fill=\"none\" stroke=\"black\" cx=\"2846\" cy=\"-192\" rx=\"64.19\" ry=\"18\"/>\n<text text-anchor=\"middle\" x=\"2846\" y=\"-188.3\" font-family=\"Times,serif\" font-size=\"14.00\">0, value&gt;177.5</text>\n</g>\n<!-- 10&#45;&gt;22 -->\n<g id=\"edge22\" class=\"edge\">\n<title>10&#45;&gt;22</title>\n<path fill=\"none\" stroke=\"black\" d=\"M2606.22,-265.27C2656.41,-250.15 2740.16,-224.9 2794.22,-208.61\"/>\n<polygon fill=\"black\" stroke=\"black\" points=\"2795.39,-211.91 2803.95,-205.67 2793.37,-205.21 2795.39,-211.91\"/>\n<text text-anchor=\"middle\" x=\"2732.5\" y=\"-231.8\" font-family=\"Times,serif\" font-size=\"14.00\">Yes</text>\n</g>\n<!-- 23 -->\n<g id=\"node24\" class=\"node\">\n<title>23</title>\n<ellipse fill=\"none\" stroke=\"black\" cx=\"3469\" cy=\"-192\" rx=\"64.19\" ry=\"18\"/>\n<text text-anchor=\"middle\" x=\"3469\" y=\"-188.3\" font-family=\"Times,serif\" font-size=\"14.00\">0, value&gt;177.5</text>\n</g>\n<!-- 11&#45;&gt;23 -->\n<g id=\"edge23\" class=\"edge\">\n<title>11&#45;&gt;23</title>\n<path fill=\"none\" stroke=\"black\" d=\"M3703.38,-265.18C3654.43,-250.11 3573.17,-225.08 3520.35,-208.81\"/>\n<polygon fill=\"black\" stroke=\"black\" points=\"3521.09,-205.38 3510.51,-205.78 3519.03,-212.07 3521.09,-205.38\"/>\n<text text-anchor=\"middle\" x=\"3632.5\" y=\"-231.8\" font-family=\"Times,serif\" font-size=\"14.00\">No</text>\n</g>\n<!-- 24 -->\n<g id=\"node25\" class=\"node\">\n<title>24</title>\n<ellipse fill=\"none\" stroke=\"black\" cx=\"3745\" cy=\"-192\" rx=\"64.19\" ry=\"18\"/>\n<text text-anchor=\"middle\" x=\"3745\" y=\"-188.3\" font-family=\"Times,serif\" font-size=\"14.00\">0, value&gt;177.5</text>\n</g>\n<!-- 11&#45;&gt;24 -->\n<g id=\"edge24\" class=\"edge\">\n<title>11&#45;&gt;24</title>\n<path fill=\"none\" stroke=\"black\" d=\"M3745,-260.8C3745,-249.16 3745,-233.55 3745,-220.24\"/>\n<polygon fill=\"black\" stroke=\"black\" points=\"3748.5,-220.18 3745,-210.18 3741.5,-220.18 3748.5,-220.18\"/>\n<text text-anchor=\"middle\" x=\"3755.5\" y=\"-231.8\" font-family=\"Times,serif\" font-size=\"14.00\">Yes</text>\n</g>\n<!-- 25 -->\n<g id=\"node26\" class=\"node\">\n<title>25</title>\n<ellipse fill=\"none\" stroke=\"black\" cx=\"4174\" cy=\"-192\" rx=\"64.19\" ry=\"18\"/>\n<text text-anchor=\"middle\" x=\"4174\" y=\"-188.3\" font-family=\"Times,serif\" font-size=\"14.00\">0, value&gt;177.5</text>\n</g>\n<!-- 12&#45;&gt;25 -->\n<g id=\"edge25\" class=\"edge\">\n<title>12&#45;&gt;25</title>\n<path fill=\"none\" stroke=\"black\" d=\"M4174,-260.8C4174,-249.16 4174,-233.55 4174,-220.24\"/>\n<polygon fill=\"black\" stroke=\"black\" points=\"4177.5,-220.18 4174,-210.18 4170.5,-220.18 4177.5,-220.18\"/>\n<text text-anchor=\"middle\" x=\"4182.5\" y=\"-231.8\" font-family=\"Times,serif\" font-size=\"14.00\">No</text>\n</g>\n<!-- 26 -->\n<g id=\"node27\" class=\"node\">\n<title>26</title>\n<ellipse fill=\"none\" stroke=\"black\" cx=\"4421\" cy=\"-192\" rx=\"64.19\" ry=\"18\"/>\n<text text-anchor=\"middle\" x=\"4421\" y=\"-188.3\" font-family=\"Times,serif\" font-size=\"14.00\">0, value&gt;177.5</text>\n</g>\n<!-- 12&#45;&gt;26 -->\n<g id=\"edge26\" class=\"edge\">\n<title>12&#45;&gt;26</title>\n<path fill=\"none\" stroke=\"black\" d=\"M4212.87,-264.63C4255.99,-249.79 4325.64,-225.82 4372.35,-209.74\"/>\n<polygon fill=\"black\" stroke=\"black\" points=\"4373.64,-213 4381.95,-206.44 4371.36,-206.38 4373.64,-213\"/>\n<text text-anchor=\"middle\" x=\"4323.5\" y=\"-231.8\" font-family=\"Times,serif\" font-size=\"14.00\">Yes</text>\n</g>\n<!-- 27 -->\n<g id=\"node28\" class=\"node\">\n<title>27</title>\n<ellipse fill=\"none\" stroke=\"black\" cx=\"5029\" cy=\"-192\" rx=\"64.19\" ry=\"18\"/>\n<text text-anchor=\"middle\" x=\"5029\" y=\"-188.3\" font-family=\"Times,serif\" font-size=\"14.00\">0, value&gt;177.5</text>\n</g>\n<!-- 13&#45;&gt;27 -->\n<g id=\"edge27\" class=\"edge\">\n<title>13&#45;&gt;27</title>\n<path fill=\"none\" stroke=\"black\" d=\"M5112.14,-261.61C5096.47,-248.68 5074.41,-230.47 5056.95,-216.07\"/>\n<polygon fill=\"black\" stroke=\"black\" points=\"5058.74,-213 5048.8,-209.34 5054.28,-218.4 5058.74,-213\"/>\n<text text-anchor=\"middle\" x=\"5095.5\" y=\"-231.8\" font-family=\"Times,serif\" font-size=\"14.00\">No</text>\n</g>\n<!-- 28 -->\n<g id=\"node29\" class=\"node\">\n<title>28</title>\n<ellipse fill=\"none\" stroke=\"black\" cx=\"5239\" cy=\"-192\" rx=\"64.19\" ry=\"18\"/>\n<text text-anchor=\"middle\" x=\"5239\" y=\"-188.3\" font-family=\"Times,serif\" font-size=\"14.00\">0, value&gt;177.5</text>\n</g>\n<!-- 13&#45;&gt;28 -->\n<g id=\"edge28\" class=\"edge\">\n<title>13&#45;&gt;28</title>\n<path fill=\"none\" stroke=\"black\" d=\"M5152.38,-261.81C5168.89,-248.7 5192.34,-230.07 5210.68,-215.5\"/>\n<polygon fill=\"black\" stroke=\"black\" points=\"5213.05,-218.09 5218.7,-209.13 5208.69,-212.61 5213.05,-218.09\"/>\n<text text-anchor=\"middle\" x=\"5202.5\" y=\"-231.8\" font-family=\"Times,serif\" font-size=\"14.00\">Yes</text>\n</g>\n<!-- 29 -->\n<g id=\"node30\" class=\"node\">\n<title>29</title>\n<ellipse fill=\"none\" stroke=\"black\" cx=\"5724\" cy=\"-192\" rx=\"64.19\" ry=\"18\"/>\n<text text-anchor=\"middle\" x=\"5724\" y=\"-188.3\" font-family=\"Times,serif\" font-size=\"14.00\">0, value&gt;177.5</text>\n</g>\n<!-- 14&#45;&gt;29 -->\n<g id=\"edge29\" class=\"edge\">\n<title>14&#45;&gt;29</title>\n<path fill=\"none\" stroke=\"black\" d=\"M5724,-260.8C5724,-249.16 5724,-233.55 5724,-220.24\"/>\n<polygon fill=\"black\" stroke=\"black\" points=\"5727.5,-220.18 5724,-210.18 5720.5,-220.18 5727.5,-220.18\"/>\n<text text-anchor=\"middle\" x=\"5732.5\" y=\"-231.8\" font-family=\"Times,serif\" font-size=\"14.00\">No</text>\n</g>\n<!-- 30 -->\n<g id=\"node31\" class=\"node\">\n<title>30</title>\n<ellipse fill=\"none\" stroke=\"black\" cx=\"6014\" cy=\"-192\" rx=\"64.19\" ry=\"18\"/>\n<text text-anchor=\"middle\" x=\"6014\" y=\"-188.3\" font-family=\"Times,serif\" font-size=\"14.00\">0, value&gt;177.5</text>\n</g>\n<!-- 14&#45;&gt;30 -->\n<g id=\"edge30\" class=\"edge\">\n<title>14&#45;&gt;30</title>\n<path fill=\"none\" stroke=\"black\" d=\"M5766.79,-265.46C5818.51,-250.3 5905.54,-224.79 5961.34,-208.44\"/>\n<polygon fill=\"black\" stroke=\"black\" points=\"5962.42,-211.76 5971.03,-205.59 5960.45,-205.05 5962.42,-211.76\"/>\n<text text-anchor=\"middle\" x=\"5897.5\" y=\"-231.8\" font-family=\"Times,serif\" font-size=\"14.00\">Yes</text>\n</g>\n<!-- 31 -->\n<g id=\"node32\" class=\"node\">\n<title>31</title>\n<ellipse fill=\"none\" stroke=\"black\" cx=\"138\" cy=\"-105\" rx=\"55.79\" ry=\"18\"/>\n<text text-anchor=\"middle\" x=\"138\" y=\"-101.3\" font-family=\"Times,serif\" font-size=\"14.00\">1, value&gt;8.5</text>\n</g>\n<!-- 15&#45;&gt;31 -->\n<g id=\"edge31\" class=\"edge\">\n<title>15&#45;&gt;31</title>\n<path fill=\"none\" stroke=\"black\" d=\"M271.86,-175.8C244.84,-161.71 204.5,-140.68 175.18,-125.39\"/>\n<polygon fill=\"black\" stroke=\"black\" points=\"176.56,-122.16 166.07,-120.64 173.32,-128.37 176.56,-122.16\"/>\n<text text-anchor=\"middle\" x=\"238.5\" y=\"-144.8\" font-family=\"Times,serif\" font-size=\"14.00\">No</text>\n</g>\n<!-- 32 -->\n<g id=\"node33\" class=\"node\">\n<title>32</title>\n<ellipse fill=\"none\" stroke=\"black\" cx=\"301\" cy=\"-105\" rx=\"55.79\" ry=\"18\"/>\n<text text-anchor=\"middle\" x=\"301\" y=\"-101.3\" font-family=\"Times,serif\" font-size=\"14.00\">1, value&gt;8.5</text>\n</g>\n<!-- 15&#45;&gt;32 -->\n<g id=\"edge32\" class=\"edge\">\n<title>15&#45;&gt;32</title>\n<path fill=\"none\" stroke=\"black\" d=\"M301,-173.8C301,-162.16 301,-146.55 301,-133.24\"/>\n<polygon fill=\"black\" stroke=\"black\" points=\"304.5,-133.18 301,-123.18 297.5,-133.18 304.5,-133.18\"/>\n<text text-anchor=\"middle\" x=\"311.5\" y=\"-144.8\" font-family=\"Times,serif\" font-size=\"14.00\">Yes</text>\n</g>\n<!-- 33 -->\n<g id=\"node34\" class=\"node\">\n<title>33</title>\n<ellipse fill=\"none\" stroke=\"black\" cx=\"514\" cy=\"-105\" rx=\"55.79\" ry=\"18\"/>\n<text text-anchor=\"middle\" x=\"514\" y=\"-101.3\" font-family=\"Times,serif\" font-size=\"14.00\">1, value&gt;8.5</text>\n</g>\n<!-- 16&#45;&gt;33 -->\n<g id=\"edge33\" class=\"edge\">\n<title>16&#45;&gt;33</title>\n<path fill=\"none\" stroke=\"black\" d=\"M566.96,-174.21C557.38,-161.87 544.2,-144.89 533.39,-130.97\"/>\n<polygon fill=\"black\" stroke=\"black\" points=\"535.91,-128.51 527.01,-122.76 530.38,-132.8 535.91,-128.51\"/>\n<text text-anchor=\"middle\" x=\"559.5\" y=\"-144.8\" font-family=\"Times,serif\" font-size=\"14.00\">No</text>\n</g>\n<!-- 34 -->\n<g id=\"node35\" class=\"node\">\n<title>34</title>\n<ellipse fill=\"none\" stroke=\"black\" cx=\"644\" cy=\"-105\" rx=\"55.79\" ry=\"18\"/>\n<text text-anchor=\"middle\" x=\"644\" y=\"-101.3\" font-family=\"Times,serif\" font-size=\"14.00\">1, value&gt;8.5</text>\n</g>\n<!-- 16&#45;&gt;34 -->\n<g id=\"edge34\" class=\"edge\">\n<title>16&#45;&gt;34</title>\n<path fill=\"none\" stroke=\"black\" d=\"M592.64,-174.21C601.94,-161.87 614.72,-144.89 625.2,-130.97\"/>\n<polygon fill=\"black\" stroke=\"black\" points=\"628.16,-132.85 631.38,-122.76 622.57,-128.64 628.16,-132.85\"/>\n<text text-anchor=\"middle\" x=\"626.5\" y=\"-144.8\" font-family=\"Times,serif\" font-size=\"14.00\">Yes</text>\n</g>\n<!-- 35 -->\n<g id=\"node36\" class=\"node\">\n<title>35</title>\n<ellipse fill=\"none\" stroke=\"black\" cx=\"928\" cy=\"-105\" rx=\"55.79\" ry=\"18\"/>\n<text text-anchor=\"middle\" x=\"928\" y=\"-101.3\" font-family=\"Times,serif\" font-size=\"14.00\">1, value&gt;8.5</text>\n</g>\n<!-- 17&#45;&gt;35 -->\n<g id=\"edge35\" class=\"edge\">\n<title>17&#45;&gt;35</title>\n<path fill=\"none\" stroke=\"black\" d=\"M1062.68,-175.8C1035.49,-161.71 994.91,-140.68 965.4,-125.39\"/>\n<polygon fill=\"black\" stroke=\"black\" points=\"966.73,-122.13 956.24,-120.64 963.51,-128.35 966.73,-122.13\"/>\n<text text-anchor=\"middle\" x=\"1028.5\" y=\"-144.8\" font-family=\"Times,serif\" font-size=\"14.00\">No</text>\n</g>\n<!-- 36 -->\n<g id=\"node37\" class=\"node\">\n<title>36</title>\n<ellipse fill=\"none\" stroke=\"black\" cx=\"1092\" cy=\"-105\" rx=\"55.79\" ry=\"18\"/>\n<text text-anchor=\"middle\" x=\"1092\" y=\"-101.3\" font-family=\"Times,serif\" font-size=\"14.00\">1, value&gt;8.5</text>\n</g>\n<!-- 17&#45;&gt;36 -->\n<g id=\"edge36\" class=\"edge\">\n<title>17&#45;&gt;36</title>\n<path fill=\"none\" stroke=\"black\" d=\"M1092,-173.8C1092,-162.16 1092,-146.55 1092,-133.24\"/>\n<polygon fill=\"black\" stroke=\"black\" points=\"1095.5,-133.18 1092,-123.18 1088.5,-133.18 1095.5,-133.18\"/>\n<text text-anchor=\"middle\" x=\"1102.5\" y=\"-144.8\" font-family=\"Times,serif\" font-size=\"14.00\">Yes</text>\n</g>\n<!-- 37 -->\n<g id=\"node38\" class=\"node\">\n<title>37</title>\n<ellipse fill=\"none\" stroke=\"black\" cx=\"1265\" cy=\"-105\" rx=\"55.79\" ry=\"18\"/>\n<text text-anchor=\"middle\" x=\"1265\" y=\"-101.3\" font-family=\"Times,serif\" font-size=\"14.00\">1, value&gt;8.5</text>\n</g>\n<!-- 18&#45;&gt;37 -->\n<g id=\"edge37\" class=\"edge\">\n<title>18&#45;&gt;37</title>\n<path fill=\"none\" stroke=\"black\" d=\"M1265,-173.8C1265,-162.16 1265,-146.55 1265,-133.24\"/>\n<polygon fill=\"black\" stroke=\"black\" points=\"1268.5,-133.18 1265,-123.18 1261.5,-133.18 1268.5,-133.18\"/>\n<text text-anchor=\"middle\" x=\"1273.5\" y=\"-144.8\" font-family=\"Times,serif\" font-size=\"14.00\">No</text>\n</g>\n<!-- 38 -->\n<g id=\"node39\" class=\"node\">\n<title>38</title>\n<ellipse fill=\"none\" stroke=\"black\" cx=\"1420\" cy=\"-105\" rx=\"55.79\" ry=\"18\"/>\n<text text-anchor=\"middle\" x=\"1420\" y=\"-101.3\" font-family=\"Times,serif\" font-size=\"14.00\">1, value&gt;8.5</text>\n</g>\n<!-- 18&#45;&gt;38 -->\n<g id=\"edge38\" class=\"edge\">\n<title>18&#45;&gt;38</title>\n<path fill=\"none\" stroke=\"black\" d=\"M1293.07,-175.61C1318.54,-161.64 1356.24,-140.96 1383.94,-125.77\"/>\n<polygon fill=\"black\" stroke=\"black\" points=\"1385.83,-128.73 1392.92,-120.85 1382.47,-122.59 1385.83,-128.73\"/>\n<text text-anchor=\"middle\" x=\"1362.5\" y=\"-144.8\" font-family=\"Times,serif\" font-size=\"14.00\">Yes</text>\n</g>\n<!-- 39 -->\n<g id=\"node40\" class=\"node\">\n<title>39</title>\n<ellipse fill=\"none\" stroke=\"black\" cx=\"1718\" cy=\"-105\" rx=\"55.79\" ry=\"18\"/>\n<text text-anchor=\"middle\" x=\"1718\" y=\"-101.3\" font-family=\"Times,serif\" font-size=\"14.00\">1, value&gt;8.5</text>\n</g>\n<!-- 19&#45;&gt;39 -->\n<g id=\"edge39\" class=\"edge\">\n<title>19&#45;&gt;39</title>\n<path fill=\"none\" stroke=\"black\" d=\"M1851.86,-175.8C1824.84,-161.71 1784.5,-140.68 1755.18,-125.39\"/>\n<polygon fill=\"black\" stroke=\"black\" points=\"1756.56,-122.16 1746.07,-120.64 1753.32,-128.37 1756.56,-122.16\"/>\n<text text-anchor=\"middle\" x=\"1818.5\" y=\"-144.8\" font-family=\"Times,serif\" font-size=\"14.00\">No</text>\n</g>\n<!-- 40 -->\n<g id=\"node41\" class=\"node\">\n<title>40</title>\n<ellipse fill=\"none\" stroke=\"black\" cx=\"1881\" cy=\"-105\" rx=\"55.79\" ry=\"18\"/>\n<text text-anchor=\"middle\" x=\"1881\" y=\"-101.3\" font-family=\"Times,serif\" font-size=\"14.00\">1, value&gt;8.5</text>\n</g>\n<!-- 19&#45;&gt;40 -->\n<g id=\"edge40\" class=\"edge\">\n<title>19&#45;&gt;40</title>\n<path fill=\"none\" stroke=\"black\" d=\"M1881,-173.8C1881,-162.16 1881,-146.55 1881,-133.24\"/>\n<polygon fill=\"black\" stroke=\"black\" points=\"1884.5,-133.18 1881,-123.18 1877.5,-133.18 1884.5,-133.18\"/>\n<text text-anchor=\"middle\" x=\"1891.5\" y=\"-144.8\" font-family=\"Times,serif\" font-size=\"14.00\">Yes</text>\n</g>\n<!-- 41 -->\n<g id=\"node42\" class=\"node\">\n<title>41</title>\n<ellipse fill=\"none\" stroke=\"black\" cx=\"2089\" cy=\"-105\" rx=\"55.79\" ry=\"18\"/>\n<text text-anchor=\"middle\" x=\"2089\" y=\"-101.3\" font-family=\"Times,serif\" font-size=\"14.00\">1, value&gt;8.5</text>\n</g>\n<!-- 20&#45;&gt;41 -->\n<g id=\"edge41\" class=\"edge\">\n<title>20&#45;&gt;41</title>\n<path fill=\"none\" stroke=\"black\" d=\"M2121.7,-173.8C2115.94,-161.85 2108.16,-145.72 2101.63,-132.18\"/>\n<polygon fill=\"black\" stroke=\"black\" points=\"2104.64,-130.37 2097.14,-122.89 2098.34,-133.41 2104.64,-130.37\"/>\n<text text-anchor=\"middle\" x=\"2120.5\" y=\"-144.8\" font-family=\"Times,serif\" font-size=\"14.00\">No</text>\n</g>\n<!-- 42 -->\n<g id=\"node43\" class=\"node\">\n<title>42</title>\n<ellipse fill=\"none\" stroke=\"black\" cx=\"2219\" cy=\"-105\" rx=\"55.79\" ry=\"18\"/>\n<text text-anchor=\"middle\" x=\"2219\" y=\"-101.3\" font-family=\"Times,serif\" font-size=\"14.00\">1, value&gt;8.5</text>\n</g>\n<!-- 20&#45;&gt;42 -->\n<g id=\"edge42\" class=\"edge\">\n<title>20&#45;&gt;42</title>\n<path fill=\"none\" stroke=\"black\" d=\"M2147.16,-174.61C2160.58,-161.79 2179.42,-143.8 2194.44,-129.46\"/>\n<polygon fill=\"black\" stroke=\"black\" points=\"2197.08,-131.78 2201.89,-122.34 2192.24,-126.71 2197.08,-131.78\"/>\n<text text-anchor=\"middle\" x=\"2190.5\" y=\"-144.8\" font-family=\"Times,serif\" font-size=\"14.00\">Yes</text>\n</g>\n<!-- 43 -->\n<g id=\"node44\" class=\"node\">\n<title>43</title>\n<ellipse fill=\"none\" stroke=\"black\" cx=\"2501\" cy=\"-105\" rx=\"55.79\" ry=\"18\"/>\n<text text-anchor=\"middle\" x=\"2501\" y=\"-101.3\" font-family=\"Times,serif\" font-size=\"14.00\">1, value&gt;8.5</text>\n</g>\n<!-- 21&#45;&gt;43 -->\n<g id=\"edge43\" class=\"edge\">\n<title>21&#45;&gt;43</title>\n<path fill=\"none\" stroke=\"black\" d=\"M2551.55,-174.21C2542.41,-161.87 2529.83,-144.89 2519.51,-130.97\"/>\n<polygon fill=\"black\" stroke=\"black\" points=\"2522.19,-128.71 2513.42,-122.76 2516.56,-132.88 2522.19,-128.71\"/>\n<text text-anchor=\"middle\" x=\"2545.5\" y=\"-144.8\" font-family=\"Times,serif\" font-size=\"14.00\">No</text>\n</g>\n<!-- 44 -->\n<g id=\"node45\" class=\"node\">\n<title>44</title>\n<ellipse fill=\"none\" stroke=\"black\" cx=\"2631\" cy=\"-105\" rx=\"55.79\" ry=\"18\"/>\n<text text-anchor=\"middle\" x=\"2631\" y=\"-101.3\" font-family=\"Times,serif\" font-size=\"14.00\">1, value&gt;8.5</text>\n</g>\n<!-- 21&#45;&gt;44 -->\n<g id=\"edge44\" class=\"edge\">\n<title>21&#45;&gt;44</title>\n<path fill=\"none\" stroke=\"black\" d=\"M2577.24,-174.21C2586.96,-161.87 2600.34,-144.89 2611.32,-130.97\"/>\n<polygon fill=\"black\" stroke=\"black\" points=\"2614.35,-132.78 2617.79,-122.76 2608.85,-128.45 2614.35,-132.78\"/>\n<text text-anchor=\"middle\" x=\"2612.5\" y=\"-144.8\" font-family=\"Times,serif\" font-size=\"14.00\">Yes</text>\n</g>\n<!-- 45 -->\n<g id=\"node46\" class=\"node\">\n<title>45</title>\n<ellipse fill=\"none\" stroke=\"black\" cx=\"2846\" cy=\"-105\" rx=\"55.79\" ry=\"18\"/>\n<text text-anchor=\"middle\" x=\"2846\" y=\"-101.3\" font-family=\"Times,serif\" font-size=\"14.00\">1, value&gt;8.5</text>\n</g>\n<!-- 22&#45;&gt;45 -->\n<g id=\"edge45\" class=\"edge\">\n<title>22&#45;&gt;45</title>\n<path fill=\"none\" stroke=\"black\" d=\"M2846,-173.8C2846,-162.16 2846,-146.55 2846,-133.24\"/>\n<polygon fill=\"black\" stroke=\"black\" points=\"2849.5,-133.18 2846,-123.18 2842.5,-133.18 2849.5,-133.18\"/>\n<text text-anchor=\"middle\" x=\"2854.5\" y=\"-144.8\" font-family=\"Times,serif\" font-size=\"14.00\">No</text>\n</g>\n<!-- 46 -->\n<g id=\"node47\" class=\"node\">\n<title>46</title>\n<ellipse fill=\"none\" stroke=\"black\" cx=\"3012\" cy=\"-105\" rx=\"55.79\" ry=\"18\"/>\n<text text-anchor=\"middle\" x=\"3012\" y=\"-101.3\" font-family=\"Times,serif\" font-size=\"14.00\">1, value&gt;8.5</text>\n</g>\n<!-- 22&#45;&gt;46 -->\n<g id=\"edge46\" class=\"edge\">\n<title>22&#45;&gt;46</title>\n<path fill=\"none\" stroke=\"black\" d=\"M2875.68,-175.8C2903.19,-161.71 2944.27,-140.68 2974.14,-125.39\"/>\n<polygon fill=\"black\" stroke=\"black\" points=\"2976.11,-128.31 2983.41,-120.64 2972.92,-122.08 2976.11,-128.31\"/>\n<text text-anchor=\"middle\" x=\"2949.5\" y=\"-144.8\" font-family=\"Times,serif\" font-size=\"14.00\">Yes</text>\n</g>\n<!-- 47 -->\n<g id=\"node48\" class=\"node\">\n<title>47</title>\n<ellipse fill=\"none\" stroke=\"black\" cx=\"3306\" cy=\"-105\" rx=\"55.79\" ry=\"18\"/>\n<text text-anchor=\"middle\" x=\"3306\" y=\"-101.3\" font-family=\"Times,serif\" font-size=\"14.00\">1, value&gt;8.5</text>\n</g>\n<!-- 23&#45;&gt;47 -->\n<g id=\"edge47\" class=\"edge\">\n<title>23&#45;&gt;47</title>\n<path fill=\"none\" stroke=\"black\" d=\"M3439.86,-175.8C3412.84,-161.71 3372.5,-140.68 3343.18,-125.39\"/>\n<polygon fill=\"black\" stroke=\"black\" points=\"3344.56,-122.16 3334.07,-120.64 3341.32,-128.37 3344.56,-122.16\"/>\n<text text-anchor=\"middle\" x=\"3406.5\" y=\"-144.8\" font-family=\"Times,serif\" font-size=\"14.00\">No</text>\n</g>\n<!-- 48 -->\n<g id=\"node49\" class=\"node\">\n<title>48</title>\n<ellipse fill=\"none\" stroke=\"black\" cx=\"3469\" cy=\"-105\" rx=\"55.79\" ry=\"18\"/>\n<text text-anchor=\"middle\" x=\"3469\" y=\"-101.3\" font-family=\"Times,serif\" font-size=\"14.00\">1, value&gt;8.5</text>\n</g>\n<!-- 23&#45;&gt;48 -->\n<g id=\"edge48\" class=\"edge\">\n<title>23&#45;&gt;48</title>\n<path fill=\"none\" stroke=\"black\" d=\"M3469,-173.8C3469,-162.16 3469,-146.55 3469,-133.24\"/>\n<polygon fill=\"black\" stroke=\"black\" points=\"3472.5,-133.18 3469,-123.18 3465.5,-133.18 3472.5,-133.18\"/>\n<text text-anchor=\"middle\" x=\"3479.5\" y=\"-144.8\" font-family=\"Times,serif\" font-size=\"14.00\">Yes</text>\n</g>\n<!-- 49 -->\n<g id=\"node50\" class=\"node\">\n<title>49</title>\n<ellipse fill=\"none\" stroke=\"black\" cx=\"3682\" cy=\"-105\" rx=\"55.79\" ry=\"18\"/>\n<text text-anchor=\"middle\" x=\"3682\" y=\"-101.3\" font-family=\"Times,serif\" font-size=\"14.00\">1, value&gt;8.5</text>\n</g>\n<!-- 24&#45;&gt;49 -->\n<g id=\"edge49\" class=\"edge\">\n<title>24&#45;&gt;49</title>\n<path fill=\"none\" stroke=\"black\" d=\"M3732.55,-174.21C3723.41,-161.87 3710.83,-144.89 3700.51,-130.97\"/>\n<polygon fill=\"black\" stroke=\"black\" points=\"3703.19,-128.71 3694.42,-122.76 3697.56,-132.88 3703.19,-128.71\"/>\n<text text-anchor=\"middle\" x=\"3726.5\" y=\"-144.8\" font-family=\"Times,serif\" font-size=\"14.00\">No</text>\n</g>\n<!-- 50 -->\n<g id=\"node51\" class=\"node\">\n<title>50</title>\n<ellipse fill=\"none\" stroke=\"black\" cx=\"3812\" cy=\"-105\" rx=\"55.79\" ry=\"18\"/>\n<text text-anchor=\"middle\" x=\"3812\" y=\"-101.3\" font-family=\"Times,serif\" font-size=\"14.00\">1, value&gt;8.5</text>\n</g>\n<!-- 24&#45;&gt;50 -->\n<g id=\"edge50\" class=\"edge\">\n<title>24&#45;&gt;50</title>\n<path fill=\"none\" stroke=\"black\" d=\"M3758.24,-174.21C3767.96,-161.87 3781.34,-144.89 3792.32,-130.97\"/>\n<polygon fill=\"black\" stroke=\"black\" points=\"3795.35,-132.78 3798.79,-122.76 3789.85,-128.45 3795.35,-132.78\"/>\n<text text-anchor=\"middle\" x=\"3793.5\" y=\"-144.8\" font-family=\"Times,serif\" font-size=\"14.00\">Yes</text>\n</g>\n<!-- 51 -->\n<g id=\"node52\" class=\"node\">\n<title>51</title>\n<ellipse fill=\"none\" stroke=\"black\" cx=\"4091\" cy=\"-105\" rx=\"55.79\" ry=\"18\"/>\n<text text-anchor=\"middle\" x=\"4091\" y=\"-101.3\" font-family=\"Times,serif\" font-size=\"14.00\">1, value&gt;8.5</text>\n</g>\n<!-- 25&#45;&gt;51 -->\n<g id=\"edge51\" class=\"edge\">\n<title>25&#45;&gt;51</title>\n<path fill=\"none\" stroke=\"black\" d=\"M4157.6,-174.21C4145.24,-161.55 4128.13,-144.03 4114.35,-129.91\"/>\n<polygon fill=\"black\" stroke=\"black\" points=\"4116.57,-127.18 4107.08,-122.47 4111.56,-132.07 4116.57,-127.18\"/>\n<text text-anchor=\"middle\" x=\"4146.5\" y=\"-144.8\" font-family=\"Times,serif\" font-size=\"14.00\">No</text>\n</g>\n<!-- 52 -->\n<g id=\"node53\" class=\"node\">\n<title>52</title>\n<ellipse fill=\"none\" stroke=\"black\" cx=\"4221\" cy=\"-105\" rx=\"55.79\" ry=\"18\"/>\n<text text-anchor=\"middle\" x=\"4221\" y=\"-101.3\" font-family=\"Times,serif\" font-size=\"14.00\">1, value&gt;8.5</text>\n</g>\n<!-- 25&#45;&gt;52 -->\n<g id=\"edge52\" class=\"edge\">\n<title>25&#45;&gt;52</title>\n<path fill=\"none\" stroke=\"black\" d=\"M4183.51,-173.8C4190.18,-161.74 4199.21,-145.4 4206.74,-131.79\"/>\n<polygon fill=\"black\" stroke=\"black\" points=\"4209.89,-133.33 4211.66,-122.89 4203.76,-129.94 4209.89,-133.33\"/>\n<text text-anchor=\"middle\" x=\"4211.5\" y=\"-144.8\" font-family=\"Times,serif\" font-size=\"14.00\">Yes</text>\n</g>\n<!-- 53 -->\n<g id=\"node54\" class=\"node\">\n<title>53</title>\n<ellipse fill=\"none\" stroke=\"black\" cx=\"4421\" cy=\"-105\" rx=\"55.79\" ry=\"18\"/>\n<text text-anchor=\"middle\" x=\"4421\" y=\"-101.3\" font-family=\"Times,serif\" font-size=\"14.00\">1, value&gt;8.5</text>\n</g>\n<!-- 26&#45;&gt;53 -->\n<g id=\"edge53\" class=\"edge\">\n<title>26&#45;&gt;53</title>\n<path fill=\"none\" stroke=\"black\" d=\"M4421,-173.8C4421,-162.16 4421,-146.55 4421,-133.24\"/>\n<polygon fill=\"black\" stroke=\"black\" points=\"4424.5,-133.18 4421,-123.18 4417.5,-133.18 4424.5,-133.18\"/>\n<text text-anchor=\"middle\" x=\"4429.5\" y=\"-144.8\" font-family=\"Times,serif\" font-size=\"14.00\">No</text>\n</g>\n<!-- 54 -->\n<g id=\"node55\" class=\"node\">\n<title>54</title>\n<ellipse fill=\"none\" stroke=\"black\" cx=\"4584\" cy=\"-105\" rx=\"55.79\" ry=\"18\"/>\n<text text-anchor=\"middle\" x=\"4584\" y=\"-101.3\" font-family=\"Times,serif\" font-size=\"14.00\">1, value&gt;8.5</text>\n</g>\n<!-- 26&#45;&gt;54 -->\n<g id=\"edge54\" class=\"edge\">\n<title>26&#45;&gt;54</title>\n<path fill=\"none\" stroke=\"black\" d=\"M4450.14,-175.8C4477.16,-161.71 4517.5,-140.68 4546.82,-125.39\"/>\n<polygon fill=\"black\" stroke=\"black\" points=\"4548.68,-128.37 4555.93,-120.64 4545.44,-122.16 4548.68,-128.37\"/>\n<text text-anchor=\"middle\" x=\"4523.5\" y=\"-144.8\" font-family=\"Times,serif\" font-size=\"14.00\">Yes</text>\n</g>\n<!-- 55 -->\n<g id=\"node56\" class=\"node\">\n<title>55</title>\n<ellipse fill=\"none\" stroke=\"black\" cx=\"4882\" cy=\"-105\" rx=\"55.79\" ry=\"18\"/>\n<text text-anchor=\"middle\" x=\"4882\" y=\"-101.3\" font-family=\"Times,serif\" font-size=\"14.00\">1, value&gt;8.5</text>\n</g>\n<!-- 27&#45;&gt;55 -->\n<g id=\"edge55\" class=\"edge\">\n<title>27&#45;&gt;55</title>\n<path fill=\"none\" stroke=\"black\" d=\"M5002.38,-175.61C4978.4,-161.74 4942.99,-141.27 4916.78,-126.11\"/>\n<polygon fill=\"black\" stroke=\"black\" points=\"4918.34,-122.97 4907.93,-120.99 4914.83,-129.03 4918.34,-122.97\"/>\n<text text-anchor=\"middle\" x=\"4973.5\" y=\"-144.8\" font-family=\"Times,serif\" font-size=\"14.00\">No</text>\n</g>\n<!-- 56 -->\n<g id=\"node57\" class=\"node\">\n<title>56</title>\n<ellipse fill=\"none\" stroke=\"black\" cx=\"5029\" cy=\"-105\" rx=\"55.79\" ry=\"18\"/>\n<text text-anchor=\"middle\" x=\"5029\" y=\"-101.3\" font-family=\"Times,serif\" font-size=\"14.00\">1, value&gt;8.5</text>\n</g>\n<!-- 27&#45;&gt;56 -->\n<g id=\"edge56\" class=\"edge\">\n<title>27&#45;&gt;56</title>\n<path fill=\"none\" stroke=\"black\" d=\"M5029,-173.8C5029,-162.16 5029,-146.55 5029,-133.24\"/>\n<polygon fill=\"black\" stroke=\"black\" points=\"5032.5,-133.18 5029,-123.18 5025.5,-133.18 5032.5,-133.18\"/>\n<text text-anchor=\"middle\" x=\"5039.5\" y=\"-144.8\" font-family=\"Times,serif\" font-size=\"14.00\">Yes</text>\n</g>\n<!-- 57 -->\n<g id=\"node58\" class=\"node\">\n<title>57</title>\n<ellipse fill=\"none\" stroke=\"black\" cx=\"5239\" cy=\"-105\" rx=\"55.79\" ry=\"18\"/>\n<text text-anchor=\"middle\" x=\"5239\" y=\"-101.3\" font-family=\"Times,serif\" font-size=\"14.00\">1, value&gt;8.5</text>\n</g>\n<!-- 28&#45;&gt;57 -->\n<g id=\"edge57\" class=\"edge\">\n<title>28&#45;&gt;57</title>\n<path fill=\"none\" stroke=\"black\" d=\"M5239,-173.8C5239,-162.16 5239,-146.55 5239,-133.24\"/>\n<polygon fill=\"black\" stroke=\"black\" points=\"5242.5,-133.18 5239,-123.18 5235.5,-133.18 5242.5,-133.18\"/>\n<text text-anchor=\"middle\" x=\"5247.5\" y=\"-144.8\" font-family=\"Times,serif\" font-size=\"14.00\">No</text>\n</g>\n<!-- 58 -->\n<g id=\"node59\" class=\"node\">\n<title>58</title>\n<ellipse fill=\"none\" stroke=\"black\" cx=\"5378\" cy=\"-105\" rx=\"55.79\" ry=\"18\"/>\n<text text-anchor=\"middle\" x=\"5378\" y=\"-101.3\" font-family=\"Times,serif\" font-size=\"14.00\">1, value&gt;8.5</text>\n</g>\n<!-- 28&#45;&gt;58 -->\n<g id=\"edge58\" class=\"edge\">\n<title>28&#45;&gt;58</title>\n<path fill=\"none\" stroke=\"black\" d=\"M5264.49,-175.41C5286.97,-161.67 5319.88,-141.54 5344.48,-126.5\"/>\n<polygon fill=\"black\" stroke=\"black\" points=\"5346.43,-129.41 5353.13,-121.21 5342.78,-123.44 5346.43,-129.41\"/>\n<text text-anchor=\"middle\" x=\"5327.5\" y=\"-144.8\" font-family=\"Times,serif\" font-size=\"14.00\">Yes</text>\n</g>\n<!-- 59 -->\n<g id=\"node60\" class=\"node\">\n<title>59</title>\n<ellipse fill=\"none\" stroke=\"black\" cx=\"5661\" cy=\"-105\" rx=\"55.79\" ry=\"18\"/>\n<text text-anchor=\"middle\" x=\"5661\" y=\"-101.3\" font-family=\"Times,serif\" font-size=\"14.00\">1, value&gt;8.5</text>\n</g>\n<!-- 29&#45;&gt;59 -->\n<g id=\"edge59\" class=\"edge\">\n<title>29&#45;&gt;59</title>\n<path fill=\"none\" stroke=\"black\" d=\"M5711.55,-174.21C5702.41,-161.87 5689.83,-144.89 5679.51,-130.97\"/>\n<polygon fill=\"black\" stroke=\"black\" points=\"5682.19,-128.71 5673.42,-122.76 5676.56,-132.88 5682.19,-128.71\"/>\n<text text-anchor=\"middle\" x=\"5705.5\" y=\"-144.8\" font-family=\"Times,serif\" font-size=\"14.00\">No</text>\n</g>\n<!-- 60 -->\n<g id=\"node61\" class=\"node\">\n<title>60</title>\n<ellipse fill=\"none\" stroke=\"black\" cx=\"5791\" cy=\"-105\" rx=\"55.79\" ry=\"18\"/>\n<text text-anchor=\"middle\" x=\"5791\" y=\"-101.3\" font-family=\"Times,serif\" font-size=\"14.00\">1, value&gt;8.5</text>\n</g>\n<!-- 29&#45;&gt;60 -->\n<g id=\"edge60\" class=\"edge\">\n<title>29&#45;&gt;60</title>\n<path fill=\"none\" stroke=\"black\" d=\"M5737.24,-174.21C5746.96,-161.87 5760.34,-144.89 5771.32,-130.97\"/>\n<polygon fill=\"black\" stroke=\"black\" points=\"5774.35,-132.78 5777.79,-122.76 5768.85,-128.45 5774.35,-132.78\"/>\n<text text-anchor=\"middle\" x=\"5772.5\" y=\"-144.8\" font-family=\"Times,serif\" font-size=\"14.00\">Yes</text>\n</g>\n<!-- 61 -->\n<g id=\"node62\" class=\"node\">\n<title>61</title>\n<ellipse fill=\"none\" stroke=\"black\" cx=\"6014\" cy=\"-105\" rx=\"55.79\" ry=\"18\"/>\n<text text-anchor=\"middle\" x=\"6014\" y=\"-101.3\" font-family=\"Times,serif\" font-size=\"14.00\">1, value&gt;8.5</text>\n</g>\n<!-- 30&#45;&gt;61 -->\n<g id=\"edge61\" class=\"edge\">\n<title>30&#45;&gt;61</title>\n<path fill=\"none\" stroke=\"black\" d=\"M6014,-173.8C6014,-162.16 6014,-146.55 6014,-133.24\"/>\n<polygon fill=\"black\" stroke=\"black\" points=\"6017.5,-133.18 6014,-123.18 6010.5,-133.18 6017.5,-133.18\"/>\n<text text-anchor=\"middle\" x=\"6022.5\" y=\"-144.8\" font-family=\"Times,serif\" font-size=\"14.00\">No</text>\n</g>\n<!-- 62 -->\n<g id=\"node63\" class=\"node\">\n<title>62</title>\n<ellipse fill=\"none\" stroke=\"black\" cx=\"6180\" cy=\"-105\" rx=\"55.79\" ry=\"18\"/>\n<text text-anchor=\"middle\" x=\"6180\" y=\"-101.3\" font-family=\"Times,serif\" font-size=\"14.00\">1, value&gt;8.5</text>\n</g>\n<!-- 30&#45;&gt;62 -->\n<g id=\"edge62\" class=\"edge\">\n<title>30&#45;&gt;62</title>\n<path fill=\"none\" stroke=\"black\" d=\"M6043.68,-175.8C6071.19,-161.71 6112.27,-140.68 6142.14,-125.39\"/>\n<polygon fill=\"black\" stroke=\"black\" points=\"6144.11,-128.31 6151.41,-120.64 6140.92,-122.08 6144.11,-128.31\"/>\n<text text-anchor=\"middle\" x=\"6117.5\" y=\"-144.8\" font-family=\"Times,serif\" font-size=\"14.00\">Yes</text>\n</g>\n<!-- 63 -->\n<g id=\"node64\" class=\"node\">\n<title>63</title>\n<polygon fill=\"none\" stroke=\"red\" points=\"80,-36 0,-36 0,0 80,0 80,-36\"/>\n<text text-anchor=\"middle\" x=\"40\" y=\"-14.3\" font-family=\"Times,serif\" font-size=\"14.00\">val = 0.008</text>\n</g>\n<!-- 31&#45;&gt;63 -->\n<g id=\"edge63\" class=\"edge\">\n<title>31&#45;&gt;63</title>\n<path fill=\"none\" stroke=\"black\" d=\"M119.1,-87.61C104.48,-74.92 84.01,-57.17 67.56,-42.9\"/>\n<polygon fill=\"black\" stroke=\"black\" points=\"69.69,-40.12 59.85,-36.21 65.11,-45.41 69.69,-40.12\"/>\n<text text-anchor=\"middle\" x=\"103.5\" y=\"-57.8\" font-family=\"Times,serif\" font-size=\"14.00\">No</text>\n</g>\n<!-- 64 -->\n<g id=\"node65\" class=\"node\">\n<title>64</title>\n<polygon fill=\"none\" stroke=\"red\" points=\"178,-36 98,-36 98,0 178,0 178,-36\"/>\n<text text-anchor=\"middle\" x=\"138\" y=\"-14.3\" font-family=\"Times,serif\" font-size=\"14.00\">val = 0.000</text>\n</g>\n<!-- 31&#45;&gt;64 -->\n<g id=\"edge64\" class=\"edge\">\n<title>31&#45;&gt;64</title>\n<path fill=\"none\" stroke=\"black\" d=\"M138,-86.8C138,-75.16 138,-59.55 138,-46.24\"/>\n<polygon fill=\"black\" stroke=\"black\" points=\"141.5,-46.18 138,-36.18 134.5,-46.18 141.5,-46.18\"/>\n<text text-anchor=\"middle\" x=\"148.5\" y=\"-57.8\" font-family=\"Times,serif\" font-size=\"14.00\">Yes</text>\n</g>\n<!-- 65 -->\n<g id=\"node66\" class=\"node\">\n<title>65</title>\n<polygon fill=\"none\" stroke=\"red\" points=\"276,-36 196,-36 196,0 276,0 276,-36\"/>\n<text text-anchor=\"middle\" x=\"236\" y=\"-14.3\" font-family=\"Times,serif\" font-size=\"14.00\">val = 0.000</text>\n</g>\n<!-- 32&#45;&gt;65 -->\n<g id=\"edge65\" class=\"edge\">\n<title>32&#45;&gt;65</title>\n<path fill=\"none\" stroke=\"black\" d=\"M288.16,-87.21C278.78,-74.95 265.91,-58.11 255.3,-44.24\"/>\n<polygon fill=\"black\" stroke=\"black\" points=\"257.89,-41.87 249.04,-36.05 252.33,-46.12 257.89,-41.87\"/>\n<text text-anchor=\"middle\" x=\"281.5\" y=\"-57.8\" font-family=\"Times,serif\" font-size=\"14.00\">No</text>\n</g>\n<!-- 66 -->\n<g id=\"node67\" class=\"node\">\n<title>66</title>\n<polygon fill=\"none\" stroke=\"red\" points=\"374,-36 294,-36 294,0 374,0 374,-36\"/>\n<text text-anchor=\"middle\" x=\"334\" y=\"-14.3\" font-family=\"Times,serif\" font-size=\"14.00\">val = 0.000</text>\n</g>\n<!-- 32&#45;&gt;66 -->\n<g id=\"edge66\" class=\"edge\">\n<title>32&#45;&gt;66</title>\n<path fill=\"none\" stroke=\"black\" d=\"M307.68,-86.8C312.24,-75.05 318.38,-59.24 323.58,-45.84\"/>\n<polygon fill=\"black\" stroke=\"black\" points=\"326.98,-46.76 327.33,-36.18 320.45,-44.23 326.98,-46.76\"/>\n<text text-anchor=\"middle\" x=\"330.5\" y=\"-57.8\" font-family=\"Times,serif\" font-size=\"14.00\">Yes</text>\n</g>\n<!-- 67 -->\n<g id=\"node68\" class=\"node\">\n<title>67</title>\n<polygon fill=\"none\" stroke=\"red\" points=\"472,-36 392,-36 392,0 472,0 472,-36\"/>\n<text text-anchor=\"middle\" x=\"432\" y=\"-14.3\" font-family=\"Times,serif\" font-size=\"14.00\">val = 0.000</text>\n</g>\n<!-- 33&#45;&gt;67 -->\n<g id=\"edge67\" class=\"edge\">\n<title>33&#45;&gt;67</title>\n<path fill=\"none\" stroke=\"black\" d=\"M498.19,-87.61C486.17,-75.16 469.44,-57.81 455.81,-43.68\"/>\n<polygon fill=\"black\" stroke=\"black\" points=\"458.07,-40.98 448.61,-36.21 453.03,-45.84 458.07,-40.98\"/>\n<text text-anchor=\"middle\" x=\"486.5\" y=\"-57.8\" font-family=\"Times,serif\" font-size=\"14.00\">No</text>\n</g>\n<!-- 68 -->\n<g id=\"node69\" class=\"node\">\n<title>68</title>\n<polygon fill=\"none\" stroke=\"red\" points=\"570,-36 490,-36 490,0 570,0 570,-36\"/>\n<text text-anchor=\"middle\" x=\"530\" y=\"-14.3\" font-family=\"Times,serif\" font-size=\"14.00\">val = 0.000</text>\n</g>\n<!-- 33&#45;&gt;68 -->\n<g id=\"edge68\" class=\"edge\">\n<title>33&#45;&gt;68</title>\n<path fill=\"none\" stroke=\"black\" d=\"M517.24,-86.8C519.43,-75.16 522.37,-59.55 524.87,-46.24\"/>\n<polygon fill=\"black\" stroke=\"black\" points=\"528.36,-46.65 526.77,-36.18 521.48,-45.36 528.36,-46.65\"/>\n<text text-anchor=\"middle\" x=\"533.5\" y=\"-57.8\" font-family=\"Times,serif\" font-size=\"14.00\">Yes</text>\n</g>\n<!-- 69 -->\n<g id=\"node70\" class=\"node\">\n<title>69</title>\n<polygon fill=\"none\" stroke=\"red\" points=\"668,-36 588,-36 588,0 668,0 668,-36\"/>\n<text text-anchor=\"middle\" x=\"628\" y=\"-14.3\" font-family=\"Times,serif\" font-size=\"14.00\">val = 0.000</text>\n</g>\n<!-- 34&#45;&gt;69 -->\n<g id=\"edge69\" class=\"edge\">\n<title>34&#45;&gt;69</title>\n<path fill=\"none\" stroke=\"black\" d=\"M640.76,-86.8C638.57,-75.16 635.63,-59.55 633.13,-46.24\"/>\n<polygon fill=\"black\" stroke=\"black\" points=\"636.52,-45.36 631.23,-36.18 629.64,-46.65 636.52,-45.36\"/>\n<text text-anchor=\"middle\" x=\"645.5\" y=\"-57.8\" font-family=\"Times,serif\" font-size=\"14.00\">No</text>\n</g>\n<!-- 70 -->\n<g id=\"node71\" class=\"node\">\n<title>70</title>\n<polygon fill=\"none\" stroke=\"red\" points=\"766,-36 686,-36 686,0 766,0 766,-36\"/>\n<text text-anchor=\"middle\" x=\"726\" y=\"-14.3\" font-family=\"Times,serif\" font-size=\"14.00\">val = 0.000</text>\n</g>\n<!-- 34&#45;&gt;70 -->\n<g id=\"edge70\" class=\"edge\">\n<title>34&#45;&gt;70</title>\n<path fill=\"none\" stroke=\"black\" d=\"M659.81,-87.61C671.83,-75.16 688.56,-57.81 702.19,-43.68\"/>\n<polygon fill=\"black\" stroke=\"black\" points=\"704.97,-45.84 709.39,-36.21 699.93,-40.98 704.97,-45.84\"/>\n<text text-anchor=\"middle\" x=\"700.5\" y=\"-57.8\" font-family=\"Times,serif\" font-size=\"14.00\">Yes</text>\n</g>\n<!-- 71 -->\n<g id=\"node72\" class=\"node\">\n<title>71</title>\n<polygon fill=\"none\" stroke=\"red\" points=\"868,-36 784,-36 784,0 868,0 868,-36\"/>\n<text text-anchor=\"middle\" x=\"826\" y=\"-14.3\" font-family=\"Times,serif\" font-size=\"14.00\">val = &#45;0.020</text>\n</g>\n<!-- 35&#45;&gt;71 -->\n<g id=\"edge71\" class=\"edge\">\n<title>35&#45;&gt;71</title>\n<path fill=\"none\" stroke=\"black\" d=\"M908.81,-88.01C893.54,-75.28 871.93,-57.27 854.61,-42.84\"/>\n<polygon fill=\"black\" stroke=\"black\" points=\"856.42,-39.8 846.5,-36.08 851.94,-45.17 856.42,-39.8\"/>\n<text text-anchor=\"middle\" x=\"892.5\" y=\"-57.8\" font-family=\"Times,serif\" font-size=\"14.00\">No</text>\n</g>\n<!-- 72 -->\n<g id=\"node73\" class=\"node\">\n<title>72</title>\n<polygon fill=\"none\" stroke=\"red\" points=\"970,-36 886,-36 886,0 970,0 970,-36\"/>\n<text text-anchor=\"middle\" x=\"928\" y=\"-14.3\" font-family=\"Times,serif\" font-size=\"14.00\">val = &#45;0.596</text>\n</g>\n<!-- 35&#45;&gt;72 -->\n<g id=\"edge72\" class=\"edge\">\n<title>35&#45;&gt;72</title>\n<path fill=\"none\" stroke=\"black\" d=\"M928,-86.8C928,-75.16 928,-59.55 928,-46.24\"/>\n<polygon fill=\"black\" stroke=\"black\" points=\"931.5,-46.18 928,-36.18 924.5,-46.18 931.5,-46.18\"/>\n<text text-anchor=\"middle\" x=\"938.5\" y=\"-57.8\" font-family=\"Times,serif\" font-size=\"14.00\">Yes</text>\n</g>\n<!-- 73 -->\n<g id=\"node74\" class=\"node\">\n<title>73</title>\n<polygon fill=\"none\" stroke=\"red\" points=\"1068,-36 988,-36 988,0 1068,0 1068,-36\"/>\n<text text-anchor=\"middle\" x=\"1028\" y=\"-14.3\" font-family=\"Times,serif\" font-size=\"14.00\">val = 0.000</text>\n</g>\n<!-- 36&#45;&gt;73 -->\n<g id=\"edge73\" class=\"edge\">\n<title>36&#45;&gt;73</title>\n<path fill=\"none\" stroke=\"black\" d=\"M1079.36,-87.21C1070.12,-74.95 1057.45,-58.11 1047,-44.24\"/>\n<polygon fill=\"black\" stroke=\"black\" points=\"1049.65,-41.93 1040.84,-36.05 1044.06,-46.14 1049.65,-41.93\"/>\n<text text-anchor=\"middle\" x=\"1072.5\" y=\"-57.8\" font-family=\"Times,serif\" font-size=\"14.00\">No</text>\n</g>\n<!-- 74 -->\n<g id=\"node75\" class=\"node\">\n<title>74</title>\n<polygon fill=\"none\" stroke=\"red\" points=\"1166,-36 1086,-36 1086,0 1166,0 1166,-36\"/>\n<text text-anchor=\"middle\" x=\"1126\" y=\"-14.3\" font-family=\"Times,serif\" font-size=\"14.00\">val = 0.000</text>\n</g>\n<!-- 36&#45;&gt;74 -->\n<g id=\"edge74\" class=\"edge\">\n<title>36&#45;&gt;74</title>\n<path fill=\"none\" stroke=\"black\" d=\"M1098.88,-86.8C1103.58,-75.05 1109.9,-59.24 1115.26,-45.84\"/>\n<polygon fill=\"black\" stroke=\"black\" points=\"1118.67,-46.76 1119.13,-36.18 1112.17,-44.16 1118.67,-46.76\"/>\n<text text-anchor=\"middle\" x=\"1122.5\" y=\"-57.8\" font-family=\"Times,serif\" font-size=\"14.00\">Yes</text>\n</g>\n<!-- 75 -->\n<g id=\"node76\" class=\"node\">\n<title>75</title>\n<polygon fill=\"none\" stroke=\"red\" points=\"1264,-36 1184,-36 1184,0 1264,0 1264,-36\"/>\n<text text-anchor=\"middle\" x=\"1224\" y=\"-14.3\" font-family=\"Times,serif\" font-size=\"14.00\">val = 0.000</text>\n</g>\n<!-- 37&#45;&gt;75 -->\n<g id=\"edge75\" class=\"edge\">\n<title>37&#45;&gt;75</title>\n<path fill=\"none\" stroke=\"black\" d=\"M1256.7,-86.8C1250.98,-74.93 1243.26,-58.93 1236.76,-45.45\"/>\n<polygon fill=\"black\" stroke=\"black\" points=\"1239.78,-43.66 1232.28,-36.18 1233.48,-46.7 1239.78,-43.66\"/>\n<text text-anchor=\"middle\" x=\"1255.5\" y=\"-57.8\" font-family=\"Times,serif\" font-size=\"14.00\">No</text>\n</g>\n<!-- 76 -->\n<g id=\"node77\" class=\"node\">\n<title>76</title>\n<polygon fill=\"none\" stroke=\"red\" points=\"1362,-36 1282,-36 1282,0 1362,0 1362,-36\"/>\n<text text-anchor=\"middle\" x=\"1322\" y=\"-14.3\" font-family=\"Times,serif\" font-size=\"14.00\">val = 0.000</text>\n</g>\n<!-- 37&#45;&gt;76 -->\n<g id=\"edge76\" class=\"edge\">\n<title>37&#45;&gt;76</title>\n<path fill=\"none\" stroke=\"black\" d=\"M1276.26,-87.21C1284.41,-75.06 1295.56,-58.43 1304.81,-44.63\"/>\n<polygon fill=\"black\" stroke=\"black\" points=\"1307.9,-46.3 1310.57,-36.05 1302.09,-42.41 1307.9,-46.3\"/>\n<text text-anchor=\"middle\" x=\"1307.5\" y=\"-57.8\" font-family=\"Times,serif\" font-size=\"14.00\">Yes</text>\n</g>\n<!-- 77 -->\n<g id=\"node78\" class=\"node\">\n<title>77</title>\n<polygon fill=\"none\" stroke=\"red\" points=\"1460,-36 1380,-36 1380,0 1460,0 1460,-36\"/>\n<text text-anchor=\"middle\" x=\"1420\" y=\"-14.3\" font-family=\"Times,serif\" font-size=\"14.00\">val = 0.000</text>\n</g>\n<!-- 38&#45;&gt;77 -->\n<g id=\"edge77\" class=\"edge\">\n<title>38&#45;&gt;77</title>\n<path fill=\"none\" stroke=\"black\" d=\"M1420,-86.8C1420,-75.16 1420,-59.55 1420,-46.24\"/>\n<polygon fill=\"black\" stroke=\"black\" points=\"1423.5,-46.18 1420,-36.18 1416.5,-46.18 1423.5,-46.18\"/>\n<text text-anchor=\"middle\" x=\"1428.5\" y=\"-57.8\" font-family=\"Times,serif\" font-size=\"14.00\">No</text>\n</g>\n<!-- 78 -->\n<g id=\"node79\" class=\"node\">\n<title>78</title>\n<polygon fill=\"none\" stroke=\"red\" points=\"1558,-36 1478,-36 1478,0 1558,0 1558,-36\"/>\n<text text-anchor=\"middle\" x=\"1518\" y=\"-14.3\" font-family=\"Times,serif\" font-size=\"14.00\">val = 0.000</text>\n</g>\n<!-- 38&#45;&gt;78 -->\n<g id=\"edge78\" class=\"edge\">\n<title>38&#45;&gt;78</title>\n<path fill=\"none\" stroke=\"black\" d=\"M1438.9,-87.61C1453.52,-74.92 1473.99,-57.17 1490.44,-42.9\"/>\n<polygon fill=\"black\" stroke=\"black\" points=\"1492.89,-45.41 1498.15,-36.21 1488.31,-40.12 1492.89,-45.41\"/>\n<text text-anchor=\"middle\" x=\"1485.5\" y=\"-57.8\" font-family=\"Times,serif\" font-size=\"14.00\">Yes</text>\n</g>\n<!-- 79 -->\n<g id=\"node80\" class=\"node\">\n<title>79</title>\n<polygon fill=\"none\" stroke=\"red\" points=\"1660,-36 1576,-36 1576,0 1660,0 1660,-36\"/>\n<text text-anchor=\"middle\" x=\"1618\" y=\"-14.3\" font-family=\"Times,serif\" font-size=\"14.00\">val = &#45;0.824</text>\n</g>\n<!-- 39&#45;&gt;79 -->\n<g id=\"edge79\" class=\"edge\">\n<title>39&#45;&gt;79</title>\n<path fill=\"none\" stroke=\"black\" d=\"M1699.19,-88.01C1684.22,-75.28 1663.02,-57.27 1646.05,-42.84\"/>\n<polygon fill=\"black\" stroke=\"black\" points=\"1647.98,-39.89 1638.1,-36.08 1643.45,-45.23 1647.98,-39.89\"/>\n<text text-anchor=\"middle\" x=\"1682.5\" y=\"-57.8\" font-family=\"Times,serif\" font-size=\"14.00\">No</text>\n</g>\n<!-- 80 -->\n<g id=\"node81\" class=\"node\">\n<title>80</title>\n<polygon fill=\"none\" stroke=\"red\" points=\"1758,-36 1678,-36 1678,0 1758,0 1758,-36\"/>\n<text text-anchor=\"middle\" x=\"1718\" y=\"-14.3\" font-family=\"Times,serif\" font-size=\"14.00\">val = 0.000</text>\n</g>\n<!-- 39&#45;&gt;80 -->\n<g id=\"edge80\" class=\"edge\">\n<title>39&#45;&gt;80</title>\n<path fill=\"none\" stroke=\"black\" d=\"M1718,-86.8C1718,-75.16 1718,-59.55 1718,-46.24\"/>\n<polygon fill=\"black\" stroke=\"black\" points=\"1721.5,-46.18 1718,-36.18 1714.5,-46.18 1721.5,-46.18\"/>\n<text text-anchor=\"middle\" x=\"1728.5\" y=\"-57.8\" font-family=\"Times,serif\" font-size=\"14.00\">Yes</text>\n</g>\n<!-- 81 -->\n<g id=\"node82\" class=\"node\">\n<title>81</title>\n<polygon fill=\"none\" stroke=\"red\" points=\"1856,-36 1776,-36 1776,0 1856,0 1856,-36\"/>\n<text text-anchor=\"middle\" x=\"1816\" y=\"-14.3\" font-family=\"Times,serif\" font-size=\"14.00\">val = 0.000</text>\n</g>\n<!-- 40&#45;&gt;81 -->\n<g id=\"edge81\" class=\"edge\">\n<title>40&#45;&gt;81</title>\n<path fill=\"none\" stroke=\"black\" d=\"M1868.16,-87.21C1858.78,-74.95 1845.91,-58.11 1835.3,-44.24\"/>\n<polygon fill=\"black\" stroke=\"black\" points=\"1837.89,-41.87 1829.04,-36.05 1832.33,-46.12 1837.89,-41.87\"/>\n<text text-anchor=\"middle\" x=\"1861.5\" y=\"-57.8\" font-family=\"Times,serif\" font-size=\"14.00\">No</text>\n</g>\n<!-- 82 -->\n<g id=\"node83\" class=\"node\">\n<title>82</title>\n<polygon fill=\"none\" stroke=\"red\" points=\"1954,-36 1874,-36 1874,0 1954,0 1954,-36\"/>\n<text text-anchor=\"middle\" x=\"1914\" y=\"-14.3\" font-family=\"Times,serif\" font-size=\"14.00\">val = 0.000</text>\n</g>\n<!-- 40&#45;&gt;82 -->\n<g id=\"edge82\" class=\"edge\">\n<title>40&#45;&gt;82</title>\n<path fill=\"none\" stroke=\"black\" d=\"M1887.68,-86.8C1892.24,-75.05 1898.38,-59.24 1903.58,-45.84\"/>\n<polygon fill=\"black\" stroke=\"black\" points=\"1906.98,-46.76 1907.33,-36.18 1900.45,-44.23 1906.98,-46.76\"/>\n<text text-anchor=\"middle\" x=\"1910.5\" y=\"-57.8\" font-family=\"Times,serif\" font-size=\"14.00\">Yes</text>\n</g>\n<!-- 83 -->\n<g id=\"node84\" class=\"node\">\n<title>83</title>\n<polygon fill=\"none\" stroke=\"red\" points=\"2056,-36 1972,-36 1972,0 2056,0 2056,-36\"/>\n<text text-anchor=\"middle\" x=\"2014\" y=\"-14.3\" font-family=\"Times,serif\" font-size=\"14.00\">val = &#45;1.073</text>\n</g>\n<!-- 41&#45;&gt;83 -->\n<g id=\"edge83\" class=\"edge\">\n<title>41&#45;&gt;83</title>\n<path fill=\"none\" stroke=\"black\" d=\"M2074.54,-87.61C2063.65,-75.27 2048.53,-58.14 2036.13,-44.08\"/>\n<polygon fill=\"black\" stroke=\"black\" points=\"2038.43,-41.4 2029.19,-36.21 2033.18,-46.03 2038.43,-41.4\"/>\n<text text-anchor=\"middle\" x=\"2064.5\" y=\"-57.8\" font-family=\"Times,serif\" font-size=\"14.00\">No</text>\n</g>\n<!-- 84 -->\n<g id=\"node85\" class=\"node\">\n<title>84</title>\n<polygon fill=\"none\" stroke=\"red\" points=\"2154,-36 2074,-36 2074,0 2154,0 2154,-36\"/>\n<text text-anchor=\"middle\" x=\"2114\" y=\"-14.3\" font-family=\"Times,serif\" font-size=\"14.00\">val = 0.000</text>\n</g>\n<!-- 41&#45;&gt;84 -->\n<g id=\"edge84\" class=\"edge\">\n<title>41&#45;&gt;84</title>\n<path fill=\"none\" stroke=\"black\" d=\"M2094.06,-86.8C2097.52,-75.05 2102.17,-59.24 2106.11,-45.84\"/>\n<polygon fill=\"black\" stroke=\"black\" points=\"2109.48,-46.76 2108.95,-36.18 2102.77,-44.78 2109.48,-46.76\"/>\n<text text-anchor=\"middle\" x=\"2113.5\" y=\"-57.8\" font-family=\"Times,serif\" font-size=\"14.00\">Yes</text>\n</g>\n<!-- 85 -->\n<g id=\"node86\" class=\"node\">\n<title>85</title>\n<polygon fill=\"none\" stroke=\"red\" points=\"2252,-36 2172,-36 2172,0 2252,0 2252,-36\"/>\n<text text-anchor=\"middle\" x=\"2212\" y=\"-14.3\" font-family=\"Times,serif\" font-size=\"14.00\">val = 0.000</text>\n</g>\n<!-- 42&#45;&gt;85 -->\n<g id=\"edge85\" class=\"edge\">\n<title>42&#45;&gt;85</title>\n<path fill=\"none\" stroke=\"black\" d=\"M2217.58,-86.8C2216.63,-75.16 2215.34,-59.55 2214.24,-46.24\"/>\n<polygon fill=\"black\" stroke=\"black\" points=\"2217.72,-45.85 2213.41,-36.18 2210.75,-46.43 2217.72,-45.85\"/>\n<text text-anchor=\"middle\" x=\"2224.5\" y=\"-57.8\" font-family=\"Times,serif\" font-size=\"14.00\">No</text>\n</g>\n<!-- 86 -->\n<g id=\"node87\" class=\"node\">\n<title>86</title>\n<polygon fill=\"none\" stroke=\"red\" points=\"2350,-36 2270,-36 2270,0 2350,0 2350,-36\"/>\n<text text-anchor=\"middle\" x=\"2310\" y=\"-14.3\" font-family=\"Times,serif\" font-size=\"14.00\">val = 0.000</text>\n</g>\n<!-- 42&#45;&gt;86 -->\n<g id=\"edge86\" class=\"edge\">\n<title>42&#45;&gt;86</title>\n<path fill=\"none\" stroke=\"black\" d=\"M2236.55,-87.61C2250,-75.04 2268.79,-57.49 2283.99,-43.29\"/>\n<polygon fill=\"black\" stroke=\"black\" points=\"2286.65,-45.6 2291.57,-36.21 2281.87,-40.48 2286.65,-45.6\"/>\n<text text-anchor=\"middle\" x=\"2280.5\" y=\"-57.8\" font-family=\"Times,serif\" font-size=\"14.00\">Yes</text>\n</g>\n<!-- 87 -->\n<g id=\"node88\" class=\"node\">\n<title>87</title>\n<polygon fill=\"none\" stroke=\"red\" points=\"2452,-36 2368,-36 2368,0 2452,0 2452,-36\"/>\n<text text-anchor=\"middle\" x=\"2410\" y=\"-14.3\" font-family=\"Times,serif\" font-size=\"14.00\">val = &#45;0.112</text>\n</g>\n<!-- 43&#45;&gt;87 -->\n<g id=\"edge87\" class=\"edge\">\n<title>43&#45;&gt;87</title>\n<path fill=\"none\" stroke=\"black\" d=\"M2483.45,-87.61C2470,-75.04 2451.21,-57.49 2436.01,-43.29\"/>\n<polygon fill=\"black\" stroke=\"black\" points=\"2438.13,-40.48 2428.43,-36.21 2433.35,-45.6 2438.13,-40.48\"/>\n<text text-anchor=\"middle\" x=\"2469.5\" y=\"-57.8\" font-family=\"Times,serif\" font-size=\"14.00\">No</text>\n</g>\n<!-- 88 -->\n<g id=\"node89\" class=\"node\">\n<title>88</title>\n<polygon fill=\"none\" stroke=\"red\" points=\"2554,-36 2470,-36 2470,0 2554,0 2554,-36\"/>\n<text text-anchor=\"middle\" x=\"2512\" y=\"-14.3\" font-family=\"Times,serif\" font-size=\"14.00\">val = &#45;0.533</text>\n</g>\n<!-- 43&#45;&gt;88 -->\n<g id=\"edge88\" class=\"edge\">\n<title>43&#45;&gt;88</title>\n<path fill=\"none\" stroke=\"black\" d=\"M2503.23,-86.8C2504.73,-75.16 2506.75,-59.55 2508.48,-46.24\"/>\n<polygon fill=\"black\" stroke=\"black\" points=\"2511.96,-46.54 2509.78,-36.18 2505.02,-45.64 2511.96,-46.54\"/>\n<text text-anchor=\"middle\" x=\"2518.5\" y=\"-57.8\" font-family=\"Times,serif\" font-size=\"14.00\">Yes</text>\n</g>\n<!-- 89 -->\n<g id=\"node90\" class=\"node\">\n<title>89</title>\n<polygon fill=\"none\" stroke=\"red\" points=\"2652,-36 2572,-36 2572,0 2652,0 2652,-36\"/>\n<text text-anchor=\"middle\" x=\"2612\" y=\"-14.3\" font-family=\"Times,serif\" font-size=\"14.00\">val = 0.000</text>\n</g>\n<!-- 44&#45;&gt;89 -->\n<g id=\"edge89\" class=\"edge\">\n<title>44&#45;&gt;89</title>\n<path fill=\"none\" stroke=\"black\" d=\"M2627.16,-86.8C2624.55,-75.16 2621.06,-59.55 2618.09,-46.24\"/>\n<polygon fill=\"black\" stroke=\"black\" points=\"2621.44,-45.17 2615.84,-36.18 2614.61,-46.7 2621.44,-45.17\"/>\n<text text-anchor=\"middle\" x=\"2631.5\" y=\"-57.8\" font-family=\"Times,serif\" font-size=\"14.00\">No</text>\n</g>\n<!-- 90 -->\n<g id=\"node91\" class=\"node\">\n<title>90</title>\n<polygon fill=\"none\" stroke=\"red\" points=\"2750,-36 2670,-36 2670,0 2750,0 2750,-36\"/>\n<text text-anchor=\"middle\" x=\"2710\" y=\"-14.3\" font-family=\"Times,serif\" font-size=\"14.00\">val = 0.000</text>\n</g>\n<!-- 44&#45;&gt;90 -->\n<g id=\"edge90\" class=\"edge\">\n<title>44&#45;&gt;90</title>\n<path fill=\"none\" stroke=\"black\" d=\"M2646.23,-87.61C2657.81,-75.16 2673.93,-57.81 2687.06,-43.68\"/>\n<polygon fill=\"black\" stroke=\"black\" points=\"2689.76,-45.92 2694,-36.21 2684.63,-41.16 2689.76,-45.92\"/>\n<text text-anchor=\"middle\" x=\"2686.5\" y=\"-57.8\" font-family=\"Times,serif\" font-size=\"14.00\">Yes</text>\n</g>\n<!-- 91 -->\n<g id=\"node92\" class=\"node\">\n<title>91</title>\n<polygon fill=\"none\" stroke=\"red\" points=\"2852,-36 2768,-36 2768,0 2852,0 2852,-36\"/>\n<text text-anchor=\"middle\" x=\"2810\" y=\"-14.3\" font-family=\"Times,serif\" font-size=\"14.00\">val = &#45;0.273</text>\n</g>\n<!-- 45&#45;&gt;91 -->\n<g id=\"edge91\" class=\"edge\">\n<title>45&#45;&gt;91</title>\n<path fill=\"none\" stroke=\"black\" d=\"M2838.71,-86.8C2833.69,-74.93 2826.91,-58.93 2821.2,-45.45\"/>\n<polygon fill=\"black\" stroke=\"black\" points=\"2824.4,-44.02 2817.27,-36.18 2817.95,-46.75 2824.4,-44.02\"/>\n<text text-anchor=\"middle\" x=\"2839.5\" y=\"-57.8\" font-family=\"Times,serif\" font-size=\"14.00\">No</text>\n</g>\n<!-- 92 -->\n<g id=\"node93\" class=\"node\">\n<title>92</title>\n<polygon fill=\"none\" stroke=\"red\" points=\"2954,-36 2870,-36 2870,0 2954,0 2954,-36\"/>\n<text text-anchor=\"middle\" x=\"2912\" y=\"-14.3\" font-family=\"Times,serif\" font-size=\"14.00\">val = &#45;0.313</text>\n</g>\n<!-- 45&#45;&gt;92 -->\n<g id=\"edge92\" class=\"edge\">\n<title>45&#45;&gt;92</title>\n<path fill=\"none\" stroke=\"black\" d=\"M2859.04,-87.21C2868.56,-74.95 2881.63,-58.11 2892.4,-44.24\"/>\n<polygon fill=\"black\" stroke=\"black\" points=\"2895.39,-46.09 2898.76,-36.05 2889.86,-41.8 2895.39,-46.09\"/>\n<text text-anchor=\"middle\" x=\"2893.5\" y=\"-57.8\" font-family=\"Times,serif\" font-size=\"14.00\">Yes</text>\n</g>\n<!-- 93 -->\n<g id=\"node94\" class=\"node\">\n<title>93</title>\n<polygon fill=\"none\" stroke=\"red\" points=\"3052,-36 2972,-36 2972,0 3052,0 3052,-36\"/>\n<text text-anchor=\"middle\" x=\"3012\" y=\"-14.3\" font-family=\"Times,serif\" font-size=\"14.00\">val = 0.000</text>\n</g>\n<!-- 46&#45;&gt;93 -->\n<g id=\"edge93\" class=\"edge\">\n<title>46&#45;&gt;93</title>\n<path fill=\"none\" stroke=\"black\" d=\"M3012,-86.8C3012,-75.16 3012,-59.55 3012,-46.24\"/>\n<polygon fill=\"black\" stroke=\"black\" points=\"3015.5,-46.18 3012,-36.18 3008.5,-46.18 3015.5,-46.18\"/>\n<text text-anchor=\"middle\" x=\"3020.5\" y=\"-57.8\" font-family=\"Times,serif\" font-size=\"14.00\">No</text>\n</g>\n<!-- 94 -->\n<g id=\"node95\" class=\"node\">\n<title>94</title>\n<polygon fill=\"none\" stroke=\"red\" points=\"3150,-36 3070,-36 3070,0 3150,0 3150,-36\"/>\n<text text-anchor=\"middle\" x=\"3110\" y=\"-14.3\" font-family=\"Times,serif\" font-size=\"14.00\">val = 0.000</text>\n</g>\n<!-- 46&#45;&gt;94 -->\n<g id=\"edge94\" class=\"edge\">\n<title>46&#45;&gt;94</title>\n<path fill=\"none\" stroke=\"black\" d=\"M3030.9,-87.61C3045.52,-74.92 3065.99,-57.17 3082.44,-42.9\"/>\n<polygon fill=\"black\" stroke=\"black\" points=\"3084.89,-45.41 3090.15,-36.21 3080.31,-40.12 3084.89,-45.41\"/>\n<text text-anchor=\"middle\" x=\"3077.5\" y=\"-57.8\" font-family=\"Times,serif\" font-size=\"14.00\">Yes</text>\n</g>\n<!-- 95 -->\n<g id=\"node96\" class=\"node\">\n<title>95</title>\n<polygon fill=\"none\" stroke=\"red\" points=\"3248,-36 3168,-36 3168,0 3248,0 3248,-36\"/>\n<text text-anchor=\"middle\" x=\"3208\" y=\"-14.3\" font-family=\"Times,serif\" font-size=\"14.00\">val = 0.306</text>\n</g>\n<!-- 47&#45;&gt;95 -->\n<g id=\"edge95\" class=\"edge\">\n<title>47&#45;&gt;95</title>\n<path fill=\"none\" stroke=\"black\" d=\"M3287.1,-87.61C3272.48,-74.92 3252.01,-57.17 3235.56,-42.9\"/>\n<polygon fill=\"black\" stroke=\"black\" points=\"3237.69,-40.12 3227.85,-36.21 3233.11,-45.41 3237.69,-40.12\"/>\n<text text-anchor=\"middle\" x=\"3271.5\" y=\"-57.8\" font-family=\"Times,serif\" font-size=\"14.00\">No</text>\n</g>\n<!-- 96 -->\n<g id=\"node97\" class=\"node\">\n<title>96</title>\n<polygon fill=\"none\" stroke=\"red\" points=\"3346,-36 3266,-36 3266,0 3346,0 3346,-36\"/>\n<text text-anchor=\"middle\" x=\"3306\" y=\"-14.3\" font-family=\"Times,serif\" font-size=\"14.00\">val = 0.000</text>\n</g>\n<!-- 47&#45;&gt;96 -->\n<g id=\"edge96\" class=\"edge\">\n<title>47&#45;&gt;96</title>\n<path fill=\"none\" stroke=\"black\" d=\"M3306,-86.8C3306,-75.16 3306,-59.55 3306,-46.24\"/>\n<polygon fill=\"black\" stroke=\"black\" points=\"3309.5,-46.18 3306,-36.18 3302.5,-46.18 3309.5,-46.18\"/>\n<text text-anchor=\"middle\" x=\"3316.5\" y=\"-57.8\" font-family=\"Times,serif\" font-size=\"14.00\">Yes</text>\n</g>\n<!-- 97 -->\n<g id=\"node98\" class=\"node\">\n<title>97</title>\n<polygon fill=\"none\" stroke=\"red\" points=\"3444,-36 3364,-36 3364,0 3444,0 3444,-36\"/>\n<text text-anchor=\"middle\" x=\"3404\" y=\"-14.3\" font-family=\"Times,serif\" font-size=\"14.00\">val = 0.794</text>\n</g>\n<!-- 48&#45;&gt;97 -->\n<g id=\"edge97\" class=\"edge\">\n<title>48&#45;&gt;97</title>\n<path fill=\"none\" stroke=\"black\" d=\"M3456.16,-87.21C3446.78,-74.95 3433.91,-58.11 3423.3,-44.24\"/>\n<polygon fill=\"black\" stroke=\"black\" points=\"3425.89,-41.87 3417.04,-36.05 3420.33,-46.12 3425.89,-41.87\"/>\n<text text-anchor=\"middle\" x=\"3449.5\" y=\"-57.8\" font-family=\"Times,serif\" font-size=\"14.00\">No</text>\n</g>\n<!-- 98 -->\n<g id=\"node99\" class=\"node\">\n<title>98</title>\n<polygon fill=\"none\" stroke=\"red\" points=\"3542,-36 3462,-36 3462,0 3542,0 3542,-36\"/>\n<text text-anchor=\"middle\" x=\"3502\" y=\"-14.3\" font-family=\"Times,serif\" font-size=\"14.00\">val = 0.000</text>\n</g>\n<!-- 48&#45;&gt;98 -->\n<g id=\"edge98\" class=\"edge\">\n<title>48&#45;&gt;98</title>\n<path fill=\"none\" stroke=\"black\" d=\"M3475.68,-86.8C3480.24,-75.05 3486.38,-59.24 3491.58,-45.84\"/>\n<polygon fill=\"black\" stroke=\"black\" points=\"3494.98,-46.76 3495.33,-36.18 3488.45,-44.23 3494.98,-46.76\"/>\n<text text-anchor=\"middle\" x=\"3498.5\" y=\"-57.8\" font-family=\"Times,serif\" font-size=\"14.00\">Yes</text>\n</g>\n<!-- 99 -->\n<g id=\"node100\" class=\"node\">\n<title>99</title>\n<polygon fill=\"none\" stroke=\"red\" points=\"3640,-36 3560,-36 3560,0 3640,0 3640,-36\"/>\n<text text-anchor=\"middle\" x=\"3600\" y=\"-14.3\" font-family=\"Times,serif\" font-size=\"14.00\">val = 0.000</text>\n</g>\n<!-- 49&#45;&gt;99 -->\n<g id=\"edge99\" class=\"edge\">\n<title>49&#45;&gt;99</title>\n<path fill=\"none\" stroke=\"black\" d=\"M3666.19,-87.61C3654.17,-75.16 3637.44,-57.81 3623.81,-43.68\"/>\n<polygon fill=\"black\" stroke=\"black\" points=\"3626.07,-40.98 3616.61,-36.21 3621.03,-45.84 3626.07,-40.98\"/>\n<text text-anchor=\"middle\" x=\"3654.5\" y=\"-57.8\" font-family=\"Times,serif\" font-size=\"14.00\">No</text>\n</g>\n<!-- 100 -->\n<g id=\"node101\" class=\"node\">\n<title>100</title>\n<polygon fill=\"none\" stroke=\"red\" points=\"3738,-36 3658,-36 3658,0 3738,0 3738,-36\"/>\n<text text-anchor=\"middle\" x=\"3698\" y=\"-14.3\" font-family=\"Times,serif\" font-size=\"14.00\">val = 0.000</text>\n</g>\n<!-- 49&#45;&gt;100 -->\n<g id=\"edge100\" class=\"edge\">\n<title>49&#45;&gt;100</title>\n<path fill=\"none\" stroke=\"black\" d=\"M3685.24,-86.8C3687.43,-75.16 3690.37,-59.55 3692.87,-46.24\"/>\n<polygon fill=\"black\" stroke=\"black\" points=\"3696.36,-46.65 3694.77,-36.18 3689.48,-45.36 3696.36,-46.65\"/>\n<text text-anchor=\"middle\" x=\"3701.5\" y=\"-57.8\" font-family=\"Times,serif\" font-size=\"14.00\">Yes</text>\n</g>\n<!-- 101 -->\n<g id=\"node102\" class=\"node\">\n<title>101</title>\n<polygon fill=\"none\" stroke=\"red\" points=\"3836,-36 3756,-36 3756,0 3836,0 3836,-36\"/>\n<text text-anchor=\"middle\" x=\"3796\" y=\"-14.3\" font-family=\"Times,serif\" font-size=\"14.00\">val = 0.000</text>\n</g>\n<!-- 50&#45;&gt;101 -->\n<g id=\"edge101\" class=\"edge\">\n<title>50&#45;&gt;101</title>\n<path fill=\"none\" stroke=\"black\" d=\"M3808.76,-86.8C3806.57,-75.16 3803.63,-59.55 3801.13,-46.24\"/>\n<polygon fill=\"black\" stroke=\"black\" points=\"3804.52,-45.36 3799.23,-36.18 3797.64,-46.65 3804.52,-45.36\"/>\n<text text-anchor=\"middle\" x=\"3813.5\" y=\"-57.8\" font-family=\"Times,serif\" font-size=\"14.00\">No</text>\n</g>\n<!-- 102 -->\n<g id=\"node103\" class=\"node\">\n<title>102</title>\n<polygon fill=\"none\" stroke=\"red\" points=\"3934,-36 3854,-36 3854,0 3934,0 3934,-36\"/>\n<text text-anchor=\"middle\" x=\"3894\" y=\"-14.3\" font-family=\"Times,serif\" font-size=\"14.00\">val = 0.000</text>\n</g>\n<!-- 50&#45;&gt;102 -->\n<g id=\"edge102\" class=\"edge\">\n<title>50&#45;&gt;102</title>\n<path fill=\"none\" stroke=\"black\" d=\"M3827.81,-87.61C3839.83,-75.16 3856.56,-57.81 3870.19,-43.68\"/>\n<polygon fill=\"black\" stroke=\"black\" points=\"3872.97,-45.84 3877.39,-36.21 3867.93,-40.98 3872.97,-45.84\"/>\n<text text-anchor=\"middle\" x=\"3868.5\" y=\"-57.8\" font-family=\"Times,serif\" font-size=\"14.00\">Yes</text>\n</g>\n<!-- 103 -->\n<g id=\"node104\" class=\"node\">\n<title>103</title>\n<polygon fill=\"none\" stroke=\"red\" points=\"4032,-36 3952,-36 3952,0 4032,0 4032,-36\"/>\n<text text-anchor=\"middle\" x=\"3992\" y=\"-14.3\" font-family=\"Times,serif\" font-size=\"14.00\">val = 0.288</text>\n</g>\n<!-- 51&#45;&gt;103 -->\n<g id=\"edge103\" class=\"edge\">\n<title>51&#45;&gt;103</title>\n<path fill=\"none\" stroke=\"black\" d=\"M4072.38,-88.01C4057.55,-75.28 4036.57,-57.27 4019.77,-42.84\"/>\n<polygon fill=\"black\" stroke=\"black\" points=\"4021.76,-39.94 4011.9,-36.08 4017.2,-45.25 4021.76,-39.94\"/>\n<text text-anchor=\"middle\" x=\"4056.5\" y=\"-57.8\" font-family=\"Times,serif\" font-size=\"14.00\">No</text>\n</g>\n<!-- 104 -->\n<g id=\"node105\" class=\"node\">\n<title>104</title>\n<polygon fill=\"none\" stroke=\"red\" points=\"4134,-36 4050,-36 4050,0 4134,0 4134,-36\"/>\n<text text-anchor=\"middle\" x=\"4092\" y=\"-14.3\" font-family=\"Times,serif\" font-size=\"14.00\">val = &#45;0.584</text>\n</g>\n<!-- 51&#45;&gt;104 -->\n<g id=\"edge104\" class=\"edge\">\n<title>51&#45;&gt;104</title>\n<path fill=\"none\" stroke=\"black\" d=\"M4091.2,-86.8C4091.34,-75.16 4091.52,-59.55 4091.68,-46.24\"/>\n<polygon fill=\"black\" stroke=\"black\" points=\"4095.18,-46.22 4091.8,-36.18 4088.18,-46.13 4095.18,-46.22\"/>\n<text text-anchor=\"middle\" x=\"4102.5\" y=\"-57.8\" font-family=\"Times,serif\" font-size=\"14.00\">Yes</text>\n</g>\n<!-- 105 -->\n<g id=\"node106\" class=\"node\">\n<title>105</title>\n<polygon fill=\"none\" stroke=\"red\" points=\"4232,-36 4152,-36 4152,0 4232,0 4232,-36\"/>\n<text text-anchor=\"middle\" x=\"4192\" y=\"-14.3\" font-family=\"Times,serif\" font-size=\"14.00\">val = 0.295</text>\n</g>\n<!-- 52&#45;&gt;105 -->\n<g id=\"edge105\" class=\"edge\">\n<title>52&#45;&gt;105</title>\n<path fill=\"none\" stroke=\"black\" d=\"M4215.13,-86.8C4211.12,-75.05 4205.73,-59.24 4201.16,-45.84\"/>\n<polygon fill=\"black\" stroke=\"black\" points=\"4204.4,-44.51 4197.86,-36.18 4197.78,-46.77 4204.4,-44.51\"/>\n<text text-anchor=\"middle\" x=\"4217.5\" y=\"-57.8\" font-family=\"Times,serif\" font-size=\"14.00\">No</text>\n</g>\n<!-- 106 -->\n<g id=\"node107\" class=\"node\">\n<title>106</title>\n<polygon fill=\"none\" stroke=\"red\" points=\"4330,-36 4250,-36 4250,0 4330,0 4330,-36\"/>\n<text text-anchor=\"middle\" x=\"4290\" y=\"-14.3\" font-family=\"Times,serif\" font-size=\"14.00\">val = 0.000</text>\n</g>\n<!-- 52&#45;&gt;106 -->\n<g id=\"edge106\" class=\"edge\">\n<title>52&#45;&gt;106</title>\n<path fill=\"none\" stroke=\"black\" d=\"M4234.63,-87.21C4244.68,-74.83 4258.51,-57.8 4269.83,-43.85\"/>\n<polygon fill=\"black\" stroke=\"black\" points=\"4272.57,-46.02 4276.16,-36.05 4267.14,-41.61 4272.57,-46.02\"/>\n<text text-anchor=\"middle\" x=\"4270.5\" y=\"-57.8\" font-family=\"Times,serif\" font-size=\"14.00\">Yes</text>\n</g>\n<!-- 107 -->\n<g id=\"node108\" class=\"node\">\n<title>107</title>\n<polygon fill=\"none\" stroke=\"red\" points=\"4428,-36 4348,-36 4348,0 4428,0 4428,-36\"/>\n<text text-anchor=\"middle\" x=\"4388\" y=\"-14.3\" font-family=\"Times,serif\" font-size=\"14.00\">val = 0.000</text>\n</g>\n<!-- 53&#45;&gt;107 -->\n<g id=\"edge107\" class=\"edge\">\n<title>53&#45;&gt;107</title>\n<path fill=\"none\" stroke=\"black\" d=\"M4414.32,-86.8C4409.76,-75.05 4403.62,-59.24 4398.42,-45.84\"/>\n<polygon fill=\"black\" stroke=\"black\" points=\"4401.55,-44.23 4394.67,-36.18 4395.02,-46.76 4401.55,-44.23\"/>\n<text text-anchor=\"middle\" x=\"4415.5\" y=\"-57.8\" font-family=\"Times,serif\" font-size=\"14.00\">No</text>\n</g>\n<!-- 108 -->\n<g id=\"node109\" class=\"node\">\n<title>108</title>\n<polygon fill=\"none\" stroke=\"red\" points=\"4526,-36 4446,-36 4446,0 4526,0 4526,-36\"/>\n<text text-anchor=\"middle\" x=\"4486\" y=\"-14.3\" font-family=\"Times,serif\" font-size=\"14.00\">val = 0.000</text>\n</g>\n<!-- 53&#45;&gt;108 -->\n<g id=\"edge108\" class=\"edge\">\n<title>53&#45;&gt;108</title>\n<path fill=\"none\" stroke=\"black\" d=\"M4433.84,-87.21C4443.22,-74.95 4456.09,-58.11 4466.7,-44.24\"/>\n<polygon fill=\"black\" stroke=\"black\" points=\"4469.67,-46.12 4472.96,-36.05 4464.11,-41.87 4469.67,-46.12\"/>\n<text text-anchor=\"middle\" x=\"4468.5\" y=\"-57.8\" font-family=\"Times,serif\" font-size=\"14.00\">Yes</text>\n</g>\n<!-- 109 -->\n<g id=\"node110\" class=\"node\">\n<title>109</title>\n<polygon fill=\"none\" stroke=\"red\" points=\"4624,-36 4544,-36 4544,0 4624,0 4624,-36\"/>\n<text text-anchor=\"middle\" x=\"4584\" y=\"-14.3\" font-family=\"Times,serif\" font-size=\"14.00\">val = 0.000</text>\n</g>\n<!-- 54&#45;&gt;109 -->\n<g id=\"edge109\" class=\"edge\">\n<title>54&#45;&gt;109</title>\n<path fill=\"none\" stroke=\"black\" d=\"M4584,-86.8C4584,-75.16 4584,-59.55 4584,-46.24\"/>\n<polygon fill=\"black\" stroke=\"black\" points=\"4587.5,-46.18 4584,-36.18 4580.5,-46.18 4587.5,-46.18\"/>\n<text text-anchor=\"middle\" x=\"4592.5\" y=\"-57.8\" font-family=\"Times,serif\" font-size=\"14.00\">No</text>\n</g>\n<!-- 110 -->\n<g id=\"node111\" class=\"node\">\n<title>110</title>\n<polygon fill=\"none\" stroke=\"red\" points=\"4722,-36 4642,-36 4642,0 4722,0 4722,-36\"/>\n<text text-anchor=\"middle\" x=\"4682\" y=\"-14.3\" font-family=\"Times,serif\" font-size=\"14.00\">val = 0.000</text>\n</g>\n<!-- 54&#45;&gt;110 -->\n<g id=\"edge110\" class=\"edge\">\n<title>54&#45;&gt;110</title>\n<path fill=\"none\" stroke=\"black\" d=\"M4602.9,-87.61C4617.52,-74.92 4637.99,-57.17 4654.44,-42.9\"/>\n<polygon fill=\"black\" stroke=\"black\" points=\"4656.89,-45.41 4662.15,-36.21 4652.31,-40.12 4656.89,-45.41\"/>\n<text text-anchor=\"middle\" x=\"4649.5\" y=\"-57.8\" font-family=\"Times,serif\" font-size=\"14.00\">Yes</text>\n</g>\n<!-- 111 -->\n<g id=\"node112\" class=\"node\">\n<title>111</title>\n<polygon fill=\"none\" stroke=\"red\" points=\"4824,-36 4740,-36 4740,0 4824,0 4824,-36\"/>\n<text text-anchor=\"middle\" x=\"4782\" y=\"-14.3\" font-family=\"Times,serif\" font-size=\"14.00\">val = &#45;0.213</text>\n</g>\n<!-- 55&#45;&gt;111 -->\n<g id=\"edge111\" class=\"edge\">\n<title>55&#45;&gt;111</title>\n<path fill=\"none\" stroke=\"black\" d=\"M4863.19,-88.01C4848.22,-75.28 4827.02,-57.27 4810.05,-42.84\"/>\n<polygon fill=\"black\" stroke=\"black\" points=\"4811.98,-39.89 4802.1,-36.08 4807.45,-45.23 4811.98,-39.89\"/>\n<text text-anchor=\"middle\" x=\"4846.5\" y=\"-57.8\" font-family=\"Times,serif\" font-size=\"14.00\">No</text>\n</g>\n<!-- 112 -->\n<g id=\"node113\" class=\"node\">\n<title>112</title>\n<polygon fill=\"none\" stroke=\"red\" points=\"4922,-36 4842,-36 4842,0 4922,0 4922,-36\"/>\n<text text-anchor=\"middle\" x=\"4882\" y=\"-14.3\" font-family=\"Times,serif\" font-size=\"14.00\">val = 0.000</text>\n</g>\n<!-- 55&#45;&gt;112 -->\n<g id=\"edge112\" class=\"edge\">\n<title>55&#45;&gt;112</title>\n<path fill=\"none\" stroke=\"black\" d=\"M4882,-86.8C4882,-75.16 4882,-59.55 4882,-46.24\"/>\n<polygon fill=\"black\" stroke=\"black\" points=\"4885.5,-46.18 4882,-36.18 4878.5,-46.18 4885.5,-46.18\"/>\n<text text-anchor=\"middle\" x=\"4892.5\" y=\"-57.8\" font-family=\"Times,serif\" font-size=\"14.00\">Yes</text>\n</g>\n<!-- 113 -->\n<g id=\"node114\" class=\"node\">\n<title>113</title>\n<polygon fill=\"none\" stroke=\"red\" points=\"5020,-36 4940,-36 4940,0 5020,0 5020,-36\"/>\n<text text-anchor=\"middle\" x=\"4980\" y=\"-14.3\" font-family=\"Times,serif\" font-size=\"14.00\">val = 0.253</text>\n</g>\n<!-- 56&#45;&gt;113 -->\n<g id=\"edge113\" class=\"edge\">\n<title>56&#45;&gt;113</title>\n<path fill=\"none\" stroke=\"black\" d=\"M5019.32,-87.21C5012.38,-75.18 5002.91,-58.75 4995,-45.03\"/>\n<polygon fill=\"black\" stroke=\"black\" points=\"4997.86,-42.96 4989.83,-36.05 4991.79,-46.46 4997.86,-42.96\"/>\n<text text-anchor=\"middle\" x=\"5016.5\" y=\"-57.8\" font-family=\"Times,serif\" font-size=\"14.00\">No</text>\n</g>\n<!-- 114 -->\n<g id=\"node115\" class=\"node\">\n<title>114</title>\n<polygon fill=\"none\" stroke=\"red\" points=\"5118,-36 5038,-36 5038,0 5118,0 5118,-36\"/>\n<text text-anchor=\"middle\" x=\"5078\" y=\"-14.3\" font-family=\"Times,serif\" font-size=\"14.00\">val = 0.000</text>\n</g>\n<!-- 56&#45;&gt;114 -->\n<g id=\"edge114\" class=\"edge\">\n<title>56&#45;&gt;114</title>\n<path fill=\"none\" stroke=\"black\" d=\"M5038.68,-87.21C5045.62,-75.18 5055.09,-58.75 5063,-45.03\"/>\n<polygon fill=\"black\" stroke=\"black\" points=\"5066.21,-46.46 5068.17,-36.05 5060.14,-42.96 5066.21,-46.46\"/>\n<text text-anchor=\"middle\" x=\"5067.5\" y=\"-57.8\" font-family=\"Times,serif\" font-size=\"14.00\">Yes</text>\n</g>\n<!-- 115 -->\n<g id=\"node116\" class=\"node\">\n<title>115</title>\n<polygon fill=\"none\" stroke=\"red\" points=\"5220,-36 5136,-36 5136,0 5220,0 5220,-36\"/>\n<text text-anchor=\"middle\" x=\"5178\" y=\"-14.3\" font-family=\"Times,serif\" font-size=\"14.00\">val = &#45;0.821</text>\n</g>\n<!-- 57&#45;&gt;115 -->\n<g id=\"edge115\" class=\"edge\">\n<title>57&#45;&gt;115</title>\n<path fill=\"none\" stroke=\"black\" d=\"M5226.95,-87.21C5218.15,-74.95 5206.07,-58.11 5196.11,-44.24\"/>\n<polygon fill=\"black\" stroke=\"black\" points=\"5198.91,-42.13 5190.24,-36.05 5193.22,-46.21 5198.91,-42.13\"/>\n<text text-anchor=\"middle\" x=\"5221.5\" y=\"-57.8\" font-family=\"Times,serif\" font-size=\"14.00\">No</text>\n</g>\n<!-- 116 -->\n<g id=\"node117\" class=\"node\">\n<title>116</title>\n<polygon fill=\"none\" stroke=\"red\" points=\"5318,-36 5238,-36 5238,0 5318,0 5318,-36\"/>\n<text text-anchor=\"middle\" x=\"5278\" y=\"-14.3\" font-family=\"Times,serif\" font-size=\"14.00\">val = 0.000</text>\n</g>\n<!-- 57&#45;&gt;116 -->\n<g id=\"edge116\" class=\"edge\">\n<title>57&#45;&gt;116</title>\n<path fill=\"none\" stroke=\"black\" d=\"M5246.89,-86.8C5252.34,-74.93 5259.68,-58.93 5265.86,-45.45\"/>\n<polygon fill=\"black\" stroke=\"black\" points=\"5269.13,-46.72 5270.12,-36.18 5262.77,-43.8 5269.13,-46.72\"/>\n<text text-anchor=\"middle\" x=\"5271.5\" y=\"-57.8\" font-family=\"Times,serif\" font-size=\"14.00\">Yes</text>\n</g>\n<!-- 117 -->\n<g id=\"node118\" class=\"node\">\n<title>117</title>\n<polygon fill=\"none\" stroke=\"red\" points=\"5420,-36 5336,-36 5336,0 5420,0 5420,-36\"/>\n<text text-anchor=\"middle\" x=\"5378\" y=\"-14.3\" font-family=\"Times,serif\" font-size=\"14.00\">val = &#45;0.189</text>\n</g>\n<!-- 58&#45;&gt;117 -->\n<g id=\"edge117\" class=\"edge\">\n<title>58&#45;&gt;117</title>\n<path fill=\"none\" stroke=\"black\" d=\"M5378,-86.8C5378,-75.16 5378,-59.55 5378,-46.24\"/>\n<polygon fill=\"black\" stroke=\"black\" points=\"5381.5,-46.18 5378,-36.18 5374.5,-46.18 5381.5,-46.18\"/>\n<text text-anchor=\"middle\" x=\"5386.5\" y=\"-57.8\" font-family=\"Times,serif\" font-size=\"14.00\">No</text>\n</g>\n<!-- 118 -->\n<g id=\"node119\" class=\"node\">\n<title>118</title>\n<polygon fill=\"none\" stroke=\"red\" points=\"5518,-36 5438,-36 5438,0 5518,0 5518,-36\"/>\n<text text-anchor=\"middle\" x=\"5478\" y=\"-14.3\" font-family=\"Times,serif\" font-size=\"14.00\">val = 0.000</text>\n</g>\n<!-- 58&#45;&gt;118 -->\n<g id=\"edge118\" class=\"edge\">\n<title>58&#45;&gt;118</title>\n<path fill=\"none\" stroke=\"black\" d=\"M5396.81,-88.01C5411.78,-75.28 5432.98,-57.27 5449.95,-42.84\"/>\n<polygon fill=\"black\" stroke=\"black\" points=\"5452.55,-45.23 5457.9,-36.08 5448.02,-39.89 5452.55,-45.23\"/>\n<text text-anchor=\"middle\" x=\"5444.5\" y=\"-57.8\" font-family=\"Times,serif\" font-size=\"14.00\">Yes</text>\n</g>\n<!-- 119 -->\n<g id=\"node120\" class=\"node\">\n<title>119</title>\n<polygon fill=\"none\" stroke=\"red\" points=\"5616,-36 5536,-36 5536,0 5616,0 5616,-36\"/>\n<text text-anchor=\"middle\" x=\"5576\" y=\"-14.3\" font-family=\"Times,serif\" font-size=\"14.00\">val = 0.094</text>\n</g>\n<!-- 59&#45;&gt;119 -->\n<g id=\"edge119\" class=\"edge\">\n<title>59&#45;&gt;119</title>\n<path fill=\"none\" stroke=\"black\" d=\"M5644.61,-87.61C5632.04,-75.04 5614.49,-57.49 5600.29,-43.29\"/>\n<polygon fill=\"black\" stroke=\"black\" points=\"5602.76,-40.81 5593.21,-36.21 5597.81,-45.76 5602.76,-40.81\"/>\n<text text-anchor=\"middle\" x=\"5632.5\" y=\"-57.8\" font-family=\"Times,serif\" font-size=\"14.00\">No</text>\n</g>\n<!-- 120 -->\n<g id=\"node121\" class=\"node\">\n<title>120</title>\n<polygon fill=\"none\" stroke=\"red\" points=\"5718,-36 5634,-36 5634,0 5718,0 5718,-36\"/>\n<text text-anchor=\"middle\" x=\"5676\" y=\"-14.3\" font-family=\"Times,serif\" font-size=\"14.00\">val = &#45;0.503</text>\n</g>\n<!-- 59&#45;&gt;120 -->\n<g id=\"edge120\" class=\"edge\">\n<title>59&#45;&gt;120</title>\n<path fill=\"none\" stroke=\"black\" d=\"M5664.04,-86.8C5666.09,-75.16 5668.84,-59.55 5671.19,-46.24\"/>\n<polygon fill=\"black\" stroke=\"black\" points=\"5674.68,-46.63 5672.97,-36.18 5667.78,-45.41 5674.68,-46.63\"/>\n<text text-anchor=\"middle\" x=\"5680.5\" y=\"-57.8\" font-family=\"Times,serif\" font-size=\"14.00\">Yes</text>\n</g>\n<!-- 121 -->\n<g id=\"node122\" class=\"node\">\n<title>121</title>\n<polygon fill=\"none\" stroke=\"red\" points=\"5816,-36 5736,-36 5736,0 5816,0 5816,-36\"/>\n<text text-anchor=\"middle\" x=\"5776\" y=\"-14.3\" font-family=\"Times,serif\" font-size=\"14.00\">val = 0.322</text>\n</g>\n<!-- 60&#45;&gt;121 -->\n<g id=\"edge121\" class=\"edge\">\n<title>60&#45;&gt;121</title>\n<path fill=\"none\" stroke=\"black\" d=\"M5787.96,-86.8C5785.91,-75.16 5783.16,-59.55 5780.81,-46.24\"/>\n<polygon fill=\"black\" stroke=\"black\" points=\"5784.22,-45.41 5779.03,-36.18 5777.32,-46.63 5784.22,-45.41\"/>\n<text text-anchor=\"middle\" x=\"5793.5\" y=\"-57.8\" font-family=\"Times,serif\" font-size=\"14.00\">No</text>\n</g>\n<!-- 122 -->\n<g id=\"node123\" class=\"node\">\n<title>122</title>\n<polygon fill=\"none\" stroke=\"red\" points=\"5918,-36 5834,-36 5834,0 5918,0 5918,-36\"/>\n<text text-anchor=\"middle\" x=\"5876\" y=\"-14.3\" font-family=\"Times,serif\" font-size=\"14.00\">val = &#45;0.719</text>\n</g>\n<!-- 60&#45;&gt;122 -->\n<g id=\"edge122\" class=\"edge\">\n<title>60&#45;&gt;122</title>\n<path fill=\"none\" stroke=\"black\" d=\"M5807.39,-87.61C5819.96,-75.04 5837.51,-57.49 5851.71,-43.29\"/>\n<polygon fill=\"black\" stroke=\"black\" points=\"5854.19,-45.76 5858.79,-36.21 5849.24,-40.81 5854.19,-45.76\"/>\n<text text-anchor=\"middle\" x=\"5849.5\" y=\"-57.8\" font-family=\"Times,serif\" font-size=\"14.00\">Yes</text>\n</g>\n<!-- 123 -->\n<g id=\"node124\" class=\"node\">\n<title>123</title>\n<polygon fill=\"none\" stroke=\"red\" points=\"6020,-36 5936,-36 5936,0 6020,0 6020,-36\"/>\n<text text-anchor=\"middle\" x=\"5978\" y=\"-14.3\" font-family=\"Times,serif\" font-size=\"14.00\">val = &#45;0.083</text>\n</g>\n<!-- 61&#45;&gt;123 -->\n<g id=\"edge123\" class=\"edge\">\n<title>61&#45;&gt;123</title>\n<path fill=\"none\" stroke=\"black\" d=\"M6006.71,-86.8C6001.69,-74.93 5994.91,-58.93 5989.2,-45.45\"/>\n<polygon fill=\"black\" stroke=\"black\" points=\"5992.4,-44.02 5985.27,-36.18 5985.95,-46.75 5992.4,-44.02\"/>\n<text text-anchor=\"middle\" x=\"6007.5\" y=\"-57.8\" font-family=\"Times,serif\" font-size=\"14.00\">No</text>\n</g>\n<!-- 124 -->\n<g id=\"node125\" class=\"node\">\n<title>124</title>\n<polygon fill=\"none\" stroke=\"red\" points=\"6122,-36 6038,-36 6038,0 6122,0 6122,-36\"/>\n<text text-anchor=\"middle\" x=\"6080\" y=\"-14.3\" font-family=\"Times,serif\" font-size=\"14.00\">val = &#45;0.308</text>\n</g>\n<!-- 61&#45;&gt;124 -->\n<g id=\"edge124\" class=\"edge\">\n<title>61&#45;&gt;124</title>\n<path fill=\"none\" stroke=\"black\" d=\"M6027.04,-87.21C6036.56,-74.95 6049.63,-58.11 6060.4,-44.24\"/>\n<polygon fill=\"black\" stroke=\"black\" points=\"6063.39,-46.09 6066.76,-36.05 6057.86,-41.8 6063.39,-46.09\"/>\n<text text-anchor=\"middle\" x=\"6061.5\" y=\"-57.8\" font-family=\"Times,serif\" font-size=\"14.00\">Yes</text>\n</g>\n<!-- 125 -->\n<g id=\"node126\" class=\"node\">\n<title>125</title>\n<polygon fill=\"none\" stroke=\"red\" points=\"6220,-36 6140,-36 6140,0 6220,0 6220,-36\"/>\n<text text-anchor=\"middle\" x=\"6180\" y=\"-14.3\" font-family=\"Times,serif\" font-size=\"14.00\">val = 0.037</text>\n</g>\n<!-- 62&#45;&gt;125 -->\n<g id=\"edge125\" class=\"edge\">\n<title>62&#45;&gt;125</title>\n<path fill=\"none\" stroke=\"black\" d=\"M6180,-86.8C6180,-75.16 6180,-59.55 6180,-46.24\"/>\n<polygon fill=\"black\" stroke=\"black\" points=\"6183.5,-46.18 6180,-36.18 6176.5,-46.18 6183.5,-46.18\"/>\n<text text-anchor=\"middle\" x=\"6188.5\" y=\"-57.8\" font-family=\"Times,serif\" font-size=\"14.00\">No</text>\n</g>\n<!-- 126 -->\n<g id=\"node127\" class=\"node\">\n<title>126</title>\n<polygon fill=\"none\" stroke=\"red\" points=\"6322,-36 6238,-36 6238,0 6322,0 6322,-36\"/>\n<text text-anchor=\"middle\" x=\"6280\" y=\"-14.3\" font-family=\"Times,serif\" font-size=\"14.00\">val = &#45;0.043</text>\n</g>\n<!-- 62&#45;&gt;126 -->\n<g id=\"edge126\" class=\"edge\">\n<title>62&#45;&gt;126</title>\n<path fill=\"none\" stroke=\"black\" d=\"M6198.81,-88.01C6213.78,-75.28 6234.98,-57.27 6251.95,-42.84\"/>\n<polygon fill=\"black\" stroke=\"black\" points=\"6254.55,-45.23 6259.9,-36.08 6250.02,-39.89 6254.55,-45.23\"/>\n<text text-anchor=\"middle\" x=\"6246.5\" y=\"-57.8\" font-family=\"Times,serif\" font-size=\"14.00\">Yes</text>\n</g>\n</g>\n</svg>\n",
      "text/plain": [
       "<graphviz.graphs.Digraph at 0x7fba8a8155a0>"
      ]
     },
     "execution_count": 166,
     "metadata": {},
     "output_type": "execute_result"
    }
   ],
   "source": [
    "clf.plot_tree(200)"
   ]
  },
  {
   "cell_type": "code",
   "execution_count": null,
   "metadata": {},
   "outputs": [],
   "source": []
  }
 ],
 "metadata": {
  "interpreter": {
   "hash": "dd2d96b16194838a41fb924c13cc2cd75d7e36b7c90ee4648a381dc22b1d4907"
  },
  "kernelspec": {
   "display_name": "Python 3.10.4 ('cricket_prediction')",
   "language": "python",
   "name": "python3"
  },
  "language_info": {
   "codemirror_mode": {
    "name": "ipython",
    "version": 3
   },
   "file_extension": ".py",
   "mimetype": "text/x-python",
   "name": "python",
   "nbconvert_exporter": "python",
   "pygments_lexer": "ipython3",
   "version": "3.10.4"
  },
  "orig_nbformat": 4
 },
 "nbformat": 4,
 "nbformat_minor": 2
}
